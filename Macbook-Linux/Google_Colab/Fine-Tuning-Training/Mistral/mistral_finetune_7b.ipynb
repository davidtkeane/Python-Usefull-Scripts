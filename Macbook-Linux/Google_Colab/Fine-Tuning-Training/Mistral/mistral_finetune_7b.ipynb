{
  "nbformat": 4,
  "nbformat_minor": 0,
  "metadata": {
    "colab": {
      "provenance": [],
      "machine_shape": "hm",
      "gpuType": "A100",
      "include_colab_link": true
    },
    "kernelspec": {
      "name": "python3",
      "display_name": "Python 3"
    },
    "language_info": {
      "name": "python"
    },
    "accelerator": "GPU",
    "widgets": {
      "application/vnd.jupyter.widget-state+json": {
        "c06bbba05e10462d993f3e7e6f932cf1": {
          "model_module": "@jupyter-widgets/controls",
          "model_name": "HBoxModel",
          "model_module_version": "1.5.0",
          "state": {
            "_dom_classes": [],
            "_model_module": "@jupyter-widgets/controls",
            "_model_module_version": "1.5.0",
            "_model_name": "HBoxModel",
            "_view_count": null,
            "_view_module": "@jupyter-widgets/controls",
            "_view_module_version": "1.5.0",
            "_view_name": "HBoxView",
            "box_style": "",
            "children": [
              "IPY_MODEL_6f734c35284341d891a44694ddc55b2c",
              "IPY_MODEL_193be53200ab436a967f1ea4807053e2",
              "IPY_MODEL_85a2415f14284237875b349b4c414e21"
            ],
            "layout": "IPY_MODEL_3ab931b2fcc0493ca71923ebc37127c7"
          }
        },
        "6f734c35284341d891a44694ddc55b2c": {
          "model_module": "@jupyter-widgets/controls",
          "model_name": "HTMLModel",
          "model_module_version": "1.5.0",
          "state": {
            "_dom_classes": [],
            "_model_module": "@jupyter-widgets/controls",
            "_model_module_version": "1.5.0",
            "_model_name": "HTMLModel",
            "_view_count": null,
            "_view_module": "@jupyter-widgets/controls",
            "_view_module_version": "1.5.0",
            "_view_name": "HTMLView",
            "description": "",
            "description_tooltip": null,
            "layout": "IPY_MODEL_f49472d0536f4011be17902f9e827807",
            "placeholder": "​",
            "style": "IPY_MODEL_2f341cb76f254d0da913faec6a82f762",
            "value": "Fetching 3 files: 100%"
          }
        },
        "193be53200ab436a967f1ea4807053e2": {
          "model_module": "@jupyter-widgets/controls",
          "model_name": "FloatProgressModel",
          "model_module_version": "1.5.0",
          "state": {
            "_dom_classes": [],
            "_model_module": "@jupyter-widgets/controls",
            "_model_module_version": "1.5.0",
            "_model_name": "FloatProgressModel",
            "_view_count": null,
            "_view_module": "@jupyter-widgets/controls",
            "_view_module_version": "1.5.0",
            "_view_name": "ProgressView",
            "bar_style": "success",
            "description": "",
            "description_tooltip": null,
            "layout": "IPY_MODEL_24ebf383723f4de494f9808b41222751",
            "max": 3,
            "min": 0,
            "orientation": "horizontal",
            "style": "IPY_MODEL_0c17aa90672046c9bd2f293b1a998b46",
            "value": 3
          }
        },
        "85a2415f14284237875b349b4c414e21": {
          "model_module": "@jupyter-widgets/controls",
          "model_name": "HTMLModel",
          "model_module_version": "1.5.0",
          "state": {
            "_dom_classes": [],
            "_model_module": "@jupyter-widgets/controls",
            "_model_module_version": "1.5.0",
            "_model_name": "HTMLModel",
            "_view_count": null,
            "_view_module": "@jupyter-widgets/controls",
            "_view_module_version": "1.5.0",
            "_view_name": "HTMLView",
            "description": "",
            "description_tooltip": null,
            "layout": "IPY_MODEL_af89033247b34da2a5cded73b0beade2",
            "placeholder": "​",
            "style": "IPY_MODEL_0ea5f5e6ab26484ab22dcf5576f796d1",
            "value": " 3/3 [01:49&lt;00:00, 109.92s/it]"
          }
        },
        "3ab931b2fcc0493ca71923ebc37127c7": {
          "model_module": "@jupyter-widgets/base",
          "model_name": "LayoutModel",
          "model_module_version": "1.2.0",
          "state": {
            "_model_module": "@jupyter-widgets/base",
            "_model_module_version": "1.2.0",
            "_model_name": "LayoutModel",
            "_view_count": null,
            "_view_module": "@jupyter-widgets/base",
            "_view_module_version": "1.2.0",
            "_view_name": "LayoutView",
            "align_content": null,
            "align_items": null,
            "align_self": null,
            "border": null,
            "bottom": null,
            "display": null,
            "flex": null,
            "flex_flow": null,
            "grid_area": null,
            "grid_auto_columns": null,
            "grid_auto_flow": null,
            "grid_auto_rows": null,
            "grid_column": null,
            "grid_gap": null,
            "grid_row": null,
            "grid_template_areas": null,
            "grid_template_columns": null,
            "grid_template_rows": null,
            "height": null,
            "justify_content": null,
            "justify_items": null,
            "left": null,
            "margin": null,
            "max_height": null,
            "max_width": null,
            "min_height": null,
            "min_width": null,
            "object_fit": null,
            "object_position": null,
            "order": null,
            "overflow": null,
            "overflow_x": null,
            "overflow_y": null,
            "padding": null,
            "right": null,
            "top": null,
            "visibility": null,
            "width": null
          }
        },
        "f49472d0536f4011be17902f9e827807": {
          "model_module": "@jupyter-widgets/base",
          "model_name": "LayoutModel",
          "model_module_version": "1.2.0",
          "state": {
            "_model_module": "@jupyter-widgets/base",
            "_model_module_version": "1.2.0",
            "_model_name": "LayoutModel",
            "_view_count": null,
            "_view_module": "@jupyter-widgets/base",
            "_view_module_version": "1.2.0",
            "_view_name": "LayoutView",
            "align_content": null,
            "align_items": null,
            "align_self": null,
            "border": null,
            "bottom": null,
            "display": null,
            "flex": null,
            "flex_flow": null,
            "grid_area": null,
            "grid_auto_columns": null,
            "grid_auto_flow": null,
            "grid_auto_rows": null,
            "grid_column": null,
            "grid_gap": null,
            "grid_row": null,
            "grid_template_areas": null,
            "grid_template_columns": null,
            "grid_template_rows": null,
            "height": null,
            "justify_content": null,
            "justify_items": null,
            "left": null,
            "margin": null,
            "max_height": null,
            "max_width": null,
            "min_height": null,
            "min_width": null,
            "object_fit": null,
            "object_position": null,
            "order": null,
            "overflow": null,
            "overflow_x": null,
            "overflow_y": null,
            "padding": null,
            "right": null,
            "top": null,
            "visibility": null,
            "width": null
          }
        },
        "2f341cb76f254d0da913faec6a82f762": {
          "model_module": "@jupyter-widgets/controls",
          "model_name": "DescriptionStyleModel",
          "model_module_version": "1.5.0",
          "state": {
            "_model_module": "@jupyter-widgets/controls",
            "_model_module_version": "1.5.0",
            "_model_name": "DescriptionStyleModel",
            "_view_count": null,
            "_view_module": "@jupyter-widgets/base",
            "_view_module_version": "1.2.0",
            "_view_name": "StyleView",
            "description_width": ""
          }
        },
        "24ebf383723f4de494f9808b41222751": {
          "model_module": "@jupyter-widgets/base",
          "model_name": "LayoutModel",
          "model_module_version": "1.2.0",
          "state": {
            "_model_module": "@jupyter-widgets/base",
            "_model_module_version": "1.2.0",
            "_model_name": "LayoutModel",
            "_view_count": null,
            "_view_module": "@jupyter-widgets/base",
            "_view_module_version": "1.2.0",
            "_view_name": "LayoutView",
            "align_content": null,
            "align_items": null,
            "align_self": null,
            "border": null,
            "bottom": null,
            "display": null,
            "flex": null,
            "flex_flow": null,
            "grid_area": null,
            "grid_auto_columns": null,
            "grid_auto_flow": null,
            "grid_auto_rows": null,
            "grid_column": null,
            "grid_gap": null,
            "grid_row": null,
            "grid_template_areas": null,
            "grid_template_columns": null,
            "grid_template_rows": null,
            "height": null,
            "justify_content": null,
            "justify_items": null,
            "left": null,
            "margin": null,
            "max_height": null,
            "max_width": null,
            "min_height": null,
            "min_width": null,
            "object_fit": null,
            "object_position": null,
            "order": null,
            "overflow": null,
            "overflow_x": null,
            "overflow_y": null,
            "padding": null,
            "right": null,
            "top": null,
            "visibility": null,
            "width": null
          }
        },
        "0c17aa90672046c9bd2f293b1a998b46": {
          "model_module": "@jupyter-widgets/controls",
          "model_name": "ProgressStyleModel",
          "model_module_version": "1.5.0",
          "state": {
            "_model_module": "@jupyter-widgets/controls",
            "_model_module_version": "1.5.0",
            "_model_name": "ProgressStyleModel",
            "_view_count": null,
            "_view_module": "@jupyter-widgets/base",
            "_view_module_version": "1.2.0",
            "_view_name": "StyleView",
            "bar_color": null,
            "description_width": ""
          }
        },
        "af89033247b34da2a5cded73b0beade2": {
          "model_module": "@jupyter-widgets/base",
          "model_name": "LayoutModel",
          "model_module_version": "1.2.0",
          "state": {
            "_model_module": "@jupyter-widgets/base",
            "_model_module_version": "1.2.0",
            "_model_name": "LayoutModel",
            "_view_count": null,
            "_view_module": "@jupyter-widgets/base",
            "_view_module_version": "1.2.0",
            "_view_name": "LayoutView",
            "align_content": null,
            "align_items": null,
            "align_self": null,
            "border": null,
            "bottom": null,
            "display": null,
            "flex": null,
            "flex_flow": null,
            "grid_area": null,
            "grid_auto_columns": null,
            "grid_auto_flow": null,
            "grid_auto_rows": null,
            "grid_column": null,
            "grid_gap": null,
            "grid_row": null,
            "grid_template_areas": null,
            "grid_template_columns": null,
            "grid_template_rows": null,
            "height": null,
            "justify_content": null,
            "justify_items": null,
            "left": null,
            "margin": null,
            "max_height": null,
            "max_width": null,
            "min_height": null,
            "min_width": null,
            "object_fit": null,
            "object_position": null,
            "order": null,
            "overflow": null,
            "overflow_x": null,
            "overflow_y": null,
            "padding": null,
            "right": null,
            "top": null,
            "visibility": null,
            "width": null
          }
        },
        "0ea5f5e6ab26484ab22dcf5576f796d1": {
          "model_module": "@jupyter-widgets/controls",
          "model_name": "DescriptionStyleModel",
          "model_module_version": "1.5.0",
          "state": {
            "_model_module": "@jupyter-widgets/controls",
            "_model_module_version": "1.5.0",
            "_model_name": "DescriptionStyleModel",
            "_view_count": null,
            "_view_module": "@jupyter-widgets/base",
            "_view_module_version": "1.2.0",
            "_view_name": "StyleView",
            "description_width": ""
          }
        },
        "946ce9afeddb4da5a36e81e5ada9d957": {
          "model_module": "@jupyter-widgets/controls",
          "model_name": "HBoxModel",
          "model_module_version": "1.5.0",
          "state": {
            "_dom_classes": [],
            "_model_module": "@jupyter-widgets/controls",
            "_model_module_version": "1.5.0",
            "_model_name": "HBoxModel",
            "_view_count": null,
            "_view_module": "@jupyter-widgets/controls",
            "_view_module_version": "1.5.0",
            "_view_name": "HBoxView",
            "box_style": "",
            "children": [
              "IPY_MODEL_95782b84af1c4014ae04c9e6c9131cbe",
              "IPY_MODEL_2332101edec848219c3b0c6026c2a722",
              "IPY_MODEL_a2638b3f10a24de99bb940dcd150ab53"
            ],
            "layout": "IPY_MODEL_1c78955b41ba4845931a250f16b753b5"
          }
        },
        "95782b84af1c4014ae04c9e6c9131cbe": {
          "model_module": "@jupyter-widgets/controls",
          "model_name": "HTMLModel",
          "model_module_version": "1.5.0",
          "state": {
            "_dom_classes": [],
            "_model_module": "@jupyter-widgets/controls",
            "_model_module_version": "1.5.0",
            "_model_name": "HTMLModel",
            "_view_count": null,
            "_view_module": "@jupyter-widgets/controls",
            "_view_module_version": "1.5.0",
            "_view_name": "HTMLView",
            "description": "",
            "description_tooltip": null,
            "layout": "IPY_MODEL_148a8c3e4fad4cefa16a478a9758fdc5",
            "placeholder": "​",
            "style": "IPY_MODEL_92ef027f2cc940b5b09521328de550b0",
            "value": "tokenizer.model.v3: 100%"
          }
        },
        "2332101edec848219c3b0c6026c2a722": {
          "model_module": "@jupyter-widgets/controls",
          "model_name": "FloatProgressModel",
          "model_module_version": "1.5.0",
          "state": {
            "_dom_classes": [],
            "_model_module": "@jupyter-widgets/controls",
            "_model_module_version": "1.5.0",
            "_model_name": "FloatProgressModel",
            "_view_count": null,
            "_view_module": "@jupyter-widgets/controls",
            "_view_module_version": "1.5.0",
            "_view_name": "ProgressView",
            "bar_style": "success",
            "description": "",
            "description_tooltip": null,
            "layout": "IPY_MODEL_1a3d2764c7fc41dcb97489e84c28093e",
            "max": 587404,
            "min": 0,
            "orientation": "horizontal",
            "style": "IPY_MODEL_c7b6155f0f844c67b3a2b805570fd6f9",
            "value": 587404
          }
        },
        "a2638b3f10a24de99bb940dcd150ab53": {
          "model_module": "@jupyter-widgets/controls",
          "model_name": "HTMLModel",
          "model_module_version": "1.5.0",
          "state": {
            "_dom_classes": [],
            "_model_module": "@jupyter-widgets/controls",
            "_model_module_version": "1.5.0",
            "_model_name": "HTMLModel",
            "_view_count": null,
            "_view_module": "@jupyter-widgets/controls",
            "_view_module_version": "1.5.0",
            "_view_name": "HTMLView",
            "description": "",
            "description_tooltip": null,
            "layout": "IPY_MODEL_1eec374aa3414838a9b41e5db1fefd50",
            "placeholder": "​",
            "style": "IPY_MODEL_6fc8cf7aa81c4043878ac854b289dbe3",
            "value": " 587k/587k [00:00&lt;00:00, 5.39MB/s]"
          }
        },
        "1c78955b41ba4845931a250f16b753b5": {
          "model_module": "@jupyter-widgets/base",
          "model_name": "LayoutModel",
          "model_module_version": "1.2.0",
          "state": {
            "_model_module": "@jupyter-widgets/base",
            "_model_module_version": "1.2.0",
            "_model_name": "LayoutModel",
            "_view_count": null,
            "_view_module": "@jupyter-widgets/base",
            "_view_module_version": "1.2.0",
            "_view_name": "LayoutView",
            "align_content": null,
            "align_items": null,
            "align_self": null,
            "border": null,
            "bottom": null,
            "display": null,
            "flex": null,
            "flex_flow": null,
            "grid_area": null,
            "grid_auto_columns": null,
            "grid_auto_flow": null,
            "grid_auto_rows": null,
            "grid_column": null,
            "grid_gap": null,
            "grid_row": null,
            "grid_template_areas": null,
            "grid_template_columns": null,
            "grid_template_rows": null,
            "height": null,
            "justify_content": null,
            "justify_items": null,
            "left": null,
            "margin": null,
            "max_height": null,
            "max_width": null,
            "min_height": null,
            "min_width": null,
            "object_fit": null,
            "object_position": null,
            "order": null,
            "overflow": null,
            "overflow_x": null,
            "overflow_y": null,
            "padding": null,
            "right": null,
            "top": null,
            "visibility": null,
            "width": null
          }
        },
        "148a8c3e4fad4cefa16a478a9758fdc5": {
          "model_module": "@jupyter-widgets/base",
          "model_name": "LayoutModel",
          "model_module_version": "1.2.0",
          "state": {
            "_model_module": "@jupyter-widgets/base",
            "_model_module_version": "1.2.0",
            "_model_name": "LayoutModel",
            "_view_count": null,
            "_view_module": "@jupyter-widgets/base",
            "_view_module_version": "1.2.0",
            "_view_name": "LayoutView",
            "align_content": null,
            "align_items": null,
            "align_self": null,
            "border": null,
            "bottom": null,
            "display": null,
            "flex": null,
            "flex_flow": null,
            "grid_area": null,
            "grid_auto_columns": null,
            "grid_auto_flow": null,
            "grid_auto_rows": null,
            "grid_column": null,
            "grid_gap": null,
            "grid_row": null,
            "grid_template_areas": null,
            "grid_template_columns": null,
            "grid_template_rows": null,
            "height": null,
            "justify_content": null,
            "justify_items": null,
            "left": null,
            "margin": null,
            "max_height": null,
            "max_width": null,
            "min_height": null,
            "min_width": null,
            "object_fit": null,
            "object_position": null,
            "order": null,
            "overflow": null,
            "overflow_x": null,
            "overflow_y": null,
            "padding": null,
            "right": null,
            "top": null,
            "visibility": null,
            "width": null
          }
        },
        "92ef027f2cc940b5b09521328de550b0": {
          "model_module": "@jupyter-widgets/controls",
          "model_name": "DescriptionStyleModel",
          "model_module_version": "1.5.0",
          "state": {
            "_model_module": "@jupyter-widgets/controls",
            "_model_module_version": "1.5.0",
            "_model_name": "DescriptionStyleModel",
            "_view_count": null,
            "_view_module": "@jupyter-widgets/base",
            "_view_module_version": "1.2.0",
            "_view_name": "StyleView",
            "description_width": ""
          }
        },
        "1a3d2764c7fc41dcb97489e84c28093e": {
          "model_module": "@jupyter-widgets/base",
          "model_name": "LayoutModel",
          "model_module_version": "1.2.0",
          "state": {
            "_model_module": "@jupyter-widgets/base",
            "_model_module_version": "1.2.0",
            "_model_name": "LayoutModel",
            "_view_count": null,
            "_view_module": "@jupyter-widgets/base",
            "_view_module_version": "1.2.0",
            "_view_name": "LayoutView",
            "align_content": null,
            "align_items": null,
            "align_self": null,
            "border": null,
            "bottom": null,
            "display": null,
            "flex": null,
            "flex_flow": null,
            "grid_area": null,
            "grid_auto_columns": null,
            "grid_auto_flow": null,
            "grid_auto_rows": null,
            "grid_column": null,
            "grid_gap": null,
            "grid_row": null,
            "grid_template_areas": null,
            "grid_template_columns": null,
            "grid_template_rows": null,
            "height": null,
            "justify_content": null,
            "justify_items": null,
            "left": null,
            "margin": null,
            "max_height": null,
            "max_width": null,
            "min_height": null,
            "min_width": null,
            "object_fit": null,
            "object_position": null,
            "order": null,
            "overflow": null,
            "overflow_x": null,
            "overflow_y": null,
            "padding": null,
            "right": null,
            "top": null,
            "visibility": null,
            "width": null
          }
        },
        "c7b6155f0f844c67b3a2b805570fd6f9": {
          "model_module": "@jupyter-widgets/controls",
          "model_name": "ProgressStyleModel",
          "model_module_version": "1.5.0",
          "state": {
            "_model_module": "@jupyter-widgets/controls",
            "_model_module_version": "1.5.0",
            "_model_name": "ProgressStyleModel",
            "_view_count": null,
            "_view_module": "@jupyter-widgets/base",
            "_view_module_version": "1.2.0",
            "_view_name": "StyleView",
            "bar_color": null,
            "description_width": ""
          }
        },
        "1eec374aa3414838a9b41e5db1fefd50": {
          "model_module": "@jupyter-widgets/base",
          "model_name": "LayoutModel",
          "model_module_version": "1.2.0",
          "state": {
            "_model_module": "@jupyter-widgets/base",
            "_model_module_version": "1.2.0",
            "_model_name": "LayoutModel",
            "_view_count": null,
            "_view_module": "@jupyter-widgets/base",
            "_view_module_version": "1.2.0",
            "_view_name": "LayoutView",
            "align_content": null,
            "align_items": null,
            "align_self": null,
            "border": null,
            "bottom": null,
            "display": null,
            "flex": null,
            "flex_flow": null,
            "grid_area": null,
            "grid_auto_columns": null,
            "grid_auto_flow": null,
            "grid_auto_rows": null,
            "grid_column": null,
            "grid_gap": null,
            "grid_row": null,
            "grid_template_areas": null,
            "grid_template_columns": null,
            "grid_template_rows": null,
            "height": null,
            "justify_content": null,
            "justify_items": null,
            "left": null,
            "margin": null,
            "max_height": null,
            "max_width": null,
            "min_height": null,
            "min_width": null,
            "object_fit": null,
            "object_position": null,
            "order": null,
            "overflow": null,
            "overflow_x": null,
            "overflow_y": null,
            "padding": null,
            "right": null,
            "top": null,
            "visibility": null,
            "width": null
          }
        },
        "6fc8cf7aa81c4043878ac854b289dbe3": {
          "model_module": "@jupyter-widgets/controls",
          "model_name": "DescriptionStyleModel",
          "model_module_version": "1.5.0",
          "state": {
            "_model_module": "@jupyter-widgets/controls",
            "_model_module_version": "1.5.0",
            "_model_name": "DescriptionStyleModel",
            "_view_count": null,
            "_view_module": "@jupyter-widgets/base",
            "_view_module_version": "1.2.0",
            "_view_name": "StyleView",
            "description_width": ""
          }
        },
        "b1aab1a3b5914048962a6d7d63401425": {
          "model_module": "@jupyter-widgets/controls",
          "model_name": "HBoxModel",
          "model_module_version": "1.5.0",
          "state": {
            "_dom_classes": [],
            "_model_module": "@jupyter-widgets/controls",
            "_model_module_version": "1.5.0",
            "_model_name": "HBoxModel",
            "_view_count": null,
            "_view_module": "@jupyter-widgets/controls",
            "_view_module_version": "1.5.0",
            "_view_name": "HBoxView",
            "box_style": "",
            "children": [
              "IPY_MODEL_10fe81122e6442f28608766d90749790",
              "IPY_MODEL_f7e72f0a87bc421b82a59ae9ad33a4cb",
              "IPY_MODEL_2188b8f9491b4d3e8861e40e7c4f6a46"
            ],
            "layout": "IPY_MODEL_b3bf1880a5844f8c89096ced830fc954"
          }
        },
        "10fe81122e6442f28608766d90749790": {
          "model_module": "@jupyter-widgets/controls",
          "model_name": "HTMLModel",
          "model_module_version": "1.5.0",
          "state": {
            "_dom_classes": [],
            "_model_module": "@jupyter-widgets/controls",
            "_model_module_version": "1.5.0",
            "_model_name": "HTMLModel",
            "_view_count": null,
            "_view_module": "@jupyter-widgets/controls",
            "_view_module_version": "1.5.0",
            "_view_name": "HTMLView",
            "description": "",
            "description_tooltip": null,
            "layout": "IPY_MODEL_7e0495ffdeb74675847e5e4c2104cc34",
            "placeholder": "​",
            "style": "IPY_MODEL_3e0e828a21f24944b68a66eafb52f62b",
            "value": "params.json: 100%"
          }
        },
        "f7e72f0a87bc421b82a59ae9ad33a4cb": {
          "model_module": "@jupyter-widgets/controls",
          "model_name": "FloatProgressModel",
          "model_module_version": "1.5.0",
          "state": {
            "_dom_classes": [],
            "_model_module": "@jupyter-widgets/controls",
            "_model_module_version": "1.5.0",
            "_model_name": "FloatProgressModel",
            "_view_count": null,
            "_view_module": "@jupyter-widgets/controls",
            "_view_module_version": "1.5.0",
            "_view_name": "ProgressView",
            "bar_style": "success",
            "description": "",
            "description_tooltip": null,
            "layout": "IPY_MODEL_ee07a8e2427c4fc9bd09b27ad11e968a",
            "max": 202,
            "min": 0,
            "orientation": "horizontal",
            "style": "IPY_MODEL_d35818e4f9454d26aa475826e08ea4f0",
            "value": 202
          }
        },
        "2188b8f9491b4d3e8861e40e7c4f6a46": {
          "model_module": "@jupyter-widgets/controls",
          "model_name": "HTMLModel",
          "model_module_version": "1.5.0",
          "state": {
            "_dom_classes": [],
            "_model_module": "@jupyter-widgets/controls",
            "_model_module_version": "1.5.0",
            "_model_name": "HTMLModel",
            "_view_count": null,
            "_view_module": "@jupyter-widgets/controls",
            "_view_module_version": "1.5.0",
            "_view_name": "HTMLView",
            "description": "",
            "description_tooltip": null,
            "layout": "IPY_MODEL_e3f7c4fea8494af2a473cf61adccf270",
            "placeholder": "​",
            "style": "IPY_MODEL_7e18402efdb34d708b7917964ac791de",
            "value": " 202/202 [00:00&lt;00:00, 12.7kB/s]"
          }
        },
        "b3bf1880a5844f8c89096ced830fc954": {
          "model_module": "@jupyter-widgets/base",
          "model_name": "LayoutModel",
          "model_module_version": "1.2.0",
          "state": {
            "_model_module": "@jupyter-widgets/base",
            "_model_module_version": "1.2.0",
            "_model_name": "LayoutModel",
            "_view_count": null,
            "_view_module": "@jupyter-widgets/base",
            "_view_module_version": "1.2.0",
            "_view_name": "LayoutView",
            "align_content": null,
            "align_items": null,
            "align_self": null,
            "border": null,
            "bottom": null,
            "display": null,
            "flex": null,
            "flex_flow": null,
            "grid_area": null,
            "grid_auto_columns": null,
            "grid_auto_flow": null,
            "grid_auto_rows": null,
            "grid_column": null,
            "grid_gap": null,
            "grid_row": null,
            "grid_template_areas": null,
            "grid_template_columns": null,
            "grid_template_rows": null,
            "height": null,
            "justify_content": null,
            "justify_items": null,
            "left": null,
            "margin": null,
            "max_height": null,
            "max_width": null,
            "min_height": null,
            "min_width": null,
            "object_fit": null,
            "object_position": null,
            "order": null,
            "overflow": null,
            "overflow_x": null,
            "overflow_y": null,
            "padding": null,
            "right": null,
            "top": null,
            "visibility": null,
            "width": null
          }
        },
        "7e0495ffdeb74675847e5e4c2104cc34": {
          "model_module": "@jupyter-widgets/base",
          "model_name": "LayoutModel",
          "model_module_version": "1.2.0",
          "state": {
            "_model_module": "@jupyter-widgets/base",
            "_model_module_version": "1.2.0",
            "_model_name": "LayoutModel",
            "_view_count": null,
            "_view_module": "@jupyter-widgets/base",
            "_view_module_version": "1.2.0",
            "_view_name": "LayoutView",
            "align_content": null,
            "align_items": null,
            "align_self": null,
            "border": null,
            "bottom": null,
            "display": null,
            "flex": null,
            "flex_flow": null,
            "grid_area": null,
            "grid_auto_columns": null,
            "grid_auto_flow": null,
            "grid_auto_rows": null,
            "grid_column": null,
            "grid_gap": null,
            "grid_row": null,
            "grid_template_areas": null,
            "grid_template_columns": null,
            "grid_template_rows": null,
            "height": null,
            "justify_content": null,
            "justify_items": null,
            "left": null,
            "margin": null,
            "max_height": null,
            "max_width": null,
            "min_height": null,
            "min_width": null,
            "object_fit": null,
            "object_position": null,
            "order": null,
            "overflow": null,
            "overflow_x": null,
            "overflow_y": null,
            "padding": null,
            "right": null,
            "top": null,
            "visibility": null,
            "width": null
          }
        },
        "3e0e828a21f24944b68a66eafb52f62b": {
          "model_module": "@jupyter-widgets/controls",
          "model_name": "DescriptionStyleModel",
          "model_module_version": "1.5.0",
          "state": {
            "_model_module": "@jupyter-widgets/controls",
            "_model_module_version": "1.5.0",
            "_model_name": "DescriptionStyleModel",
            "_view_count": null,
            "_view_module": "@jupyter-widgets/base",
            "_view_module_version": "1.2.0",
            "_view_name": "StyleView",
            "description_width": ""
          }
        },
        "ee07a8e2427c4fc9bd09b27ad11e968a": {
          "model_module": "@jupyter-widgets/base",
          "model_name": "LayoutModel",
          "model_module_version": "1.2.0",
          "state": {
            "_model_module": "@jupyter-widgets/base",
            "_model_module_version": "1.2.0",
            "_model_name": "LayoutModel",
            "_view_count": null,
            "_view_module": "@jupyter-widgets/base",
            "_view_module_version": "1.2.0",
            "_view_name": "LayoutView",
            "align_content": null,
            "align_items": null,
            "align_self": null,
            "border": null,
            "bottom": null,
            "display": null,
            "flex": null,
            "flex_flow": null,
            "grid_area": null,
            "grid_auto_columns": null,
            "grid_auto_flow": null,
            "grid_auto_rows": null,
            "grid_column": null,
            "grid_gap": null,
            "grid_row": null,
            "grid_template_areas": null,
            "grid_template_columns": null,
            "grid_template_rows": null,
            "height": null,
            "justify_content": null,
            "justify_items": null,
            "left": null,
            "margin": null,
            "max_height": null,
            "max_width": null,
            "min_height": null,
            "min_width": null,
            "object_fit": null,
            "object_position": null,
            "order": null,
            "overflow": null,
            "overflow_x": null,
            "overflow_y": null,
            "padding": null,
            "right": null,
            "top": null,
            "visibility": null,
            "width": null
          }
        },
        "d35818e4f9454d26aa475826e08ea4f0": {
          "model_module": "@jupyter-widgets/controls",
          "model_name": "ProgressStyleModel",
          "model_module_version": "1.5.0",
          "state": {
            "_model_module": "@jupyter-widgets/controls",
            "_model_module_version": "1.5.0",
            "_model_name": "ProgressStyleModel",
            "_view_count": null,
            "_view_module": "@jupyter-widgets/base",
            "_view_module_version": "1.2.0",
            "_view_name": "StyleView",
            "bar_color": null,
            "description_width": ""
          }
        },
        "e3f7c4fea8494af2a473cf61adccf270": {
          "model_module": "@jupyter-widgets/base",
          "model_name": "LayoutModel",
          "model_module_version": "1.2.0",
          "state": {
            "_model_module": "@jupyter-widgets/base",
            "_model_module_version": "1.2.0",
            "_model_name": "LayoutModel",
            "_view_count": null,
            "_view_module": "@jupyter-widgets/base",
            "_view_module_version": "1.2.0",
            "_view_name": "LayoutView",
            "align_content": null,
            "align_items": null,
            "align_self": null,
            "border": null,
            "bottom": null,
            "display": null,
            "flex": null,
            "flex_flow": null,
            "grid_area": null,
            "grid_auto_columns": null,
            "grid_auto_flow": null,
            "grid_auto_rows": null,
            "grid_column": null,
            "grid_gap": null,
            "grid_row": null,
            "grid_template_areas": null,
            "grid_template_columns": null,
            "grid_template_rows": null,
            "height": null,
            "justify_content": null,
            "justify_items": null,
            "left": null,
            "margin": null,
            "max_height": null,
            "max_width": null,
            "min_height": null,
            "min_width": null,
            "object_fit": null,
            "object_position": null,
            "order": null,
            "overflow": null,
            "overflow_x": null,
            "overflow_y": null,
            "padding": null,
            "right": null,
            "top": null,
            "visibility": null,
            "width": null
          }
        },
        "7e18402efdb34d708b7917964ac791de": {
          "model_module": "@jupyter-widgets/controls",
          "model_name": "DescriptionStyleModel",
          "model_module_version": "1.5.0",
          "state": {
            "_model_module": "@jupyter-widgets/controls",
            "_model_module_version": "1.5.0",
            "_model_name": "DescriptionStyleModel",
            "_view_count": null,
            "_view_module": "@jupyter-widgets/base",
            "_view_module_version": "1.2.0",
            "_view_name": "StyleView",
            "description_width": ""
          }
        },
        "1442445cdf89487784d4a39919fec6bf": {
          "model_module": "@jupyter-widgets/controls",
          "model_name": "HBoxModel",
          "model_module_version": "1.5.0",
          "state": {
            "_dom_classes": [],
            "_model_module": "@jupyter-widgets/controls",
            "_model_module_version": "1.5.0",
            "_model_name": "HBoxModel",
            "_view_count": null,
            "_view_module": "@jupyter-widgets/controls",
            "_view_module_version": "1.5.0",
            "_view_name": "HBoxView",
            "box_style": "",
            "children": [
              "IPY_MODEL_2ff8ebe8d132411585a05b852362c406",
              "IPY_MODEL_ef719bb991714d91a365226c5a2ca9df",
              "IPY_MODEL_1727f9b019e9477282d010e96b7dd4c3"
            ],
            "layout": "IPY_MODEL_f82b841d7e5b45229119bd3195e5b12f"
          }
        },
        "2ff8ebe8d132411585a05b852362c406": {
          "model_module": "@jupyter-widgets/controls",
          "model_name": "HTMLModel",
          "model_module_version": "1.5.0",
          "state": {
            "_dom_classes": [],
            "_model_module": "@jupyter-widgets/controls",
            "_model_module_version": "1.5.0",
            "_model_name": "HTMLModel",
            "_view_count": null,
            "_view_module": "@jupyter-widgets/controls",
            "_view_module_version": "1.5.0",
            "_view_name": "HTMLView",
            "description": "",
            "description_tooltip": null,
            "layout": "IPY_MODEL_feb470b16b4249daaa19c1344d036f0a",
            "placeholder": "​",
            "style": "IPY_MODEL_2cc30eef6d7b46d283fcfd0e7abca6ea",
            "value": "consolidated.safetensors: 100%"
          }
        },
        "ef719bb991714d91a365226c5a2ca9df": {
          "model_module": "@jupyter-widgets/controls",
          "model_name": "FloatProgressModel",
          "model_module_version": "1.5.0",
          "state": {
            "_dom_classes": [],
            "_model_module": "@jupyter-widgets/controls",
            "_model_module_version": "1.5.0",
            "_model_name": "FloatProgressModel",
            "_view_count": null,
            "_view_module": "@jupyter-widgets/controls",
            "_view_module_version": "1.5.0",
            "_view_name": "ProgressView",
            "bar_style": "success",
            "description": "",
            "description_tooltip": null,
            "layout": "IPY_MODEL_83b554bec0fd40dd9bd9e4601f2f98a3",
            "max": 14496078512,
            "min": 0,
            "orientation": "horizontal",
            "style": "IPY_MODEL_1c19998de61c4e2dad6647fdc4ca4358",
            "value": 14496078512
          }
        },
        "1727f9b019e9477282d010e96b7dd4c3": {
          "model_module": "@jupyter-widgets/controls",
          "model_name": "HTMLModel",
          "model_module_version": "1.5.0",
          "state": {
            "_dom_classes": [],
            "_model_module": "@jupyter-widgets/controls",
            "_model_module_version": "1.5.0",
            "_model_name": "HTMLModel",
            "_view_count": null,
            "_view_module": "@jupyter-widgets/controls",
            "_view_module_version": "1.5.0",
            "_view_name": "HTMLView",
            "description": "",
            "description_tooltip": null,
            "layout": "IPY_MODEL_25df0dd9481a4e0ba21d2f4f4ffdba2e",
            "placeholder": "​",
            "style": "IPY_MODEL_cbf620ae5196446c84528feaed64ae6a",
            "value": " 14.5G/14.5G [01:49&lt;00:00, 87.0MB/s]"
          }
        },
        "f82b841d7e5b45229119bd3195e5b12f": {
          "model_module": "@jupyter-widgets/base",
          "model_name": "LayoutModel",
          "model_module_version": "1.2.0",
          "state": {
            "_model_module": "@jupyter-widgets/base",
            "_model_module_version": "1.2.0",
            "_model_name": "LayoutModel",
            "_view_count": null,
            "_view_module": "@jupyter-widgets/base",
            "_view_module_version": "1.2.0",
            "_view_name": "LayoutView",
            "align_content": null,
            "align_items": null,
            "align_self": null,
            "border": null,
            "bottom": null,
            "display": null,
            "flex": null,
            "flex_flow": null,
            "grid_area": null,
            "grid_auto_columns": null,
            "grid_auto_flow": null,
            "grid_auto_rows": null,
            "grid_column": null,
            "grid_gap": null,
            "grid_row": null,
            "grid_template_areas": null,
            "grid_template_columns": null,
            "grid_template_rows": null,
            "height": null,
            "justify_content": null,
            "justify_items": null,
            "left": null,
            "margin": null,
            "max_height": null,
            "max_width": null,
            "min_height": null,
            "min_width": null,
            "object_fit": null,
            "object_position": null,
            "order": null,
            "overflow": null,
            "overflow_x": null,
            "overflow_y": null,
            "padding": null,
            "right": null,
            "top": null,
            "visibility": null,
            "width": null
          }
        },
        "feb470b16b4249daaa19c1344d036f0a": {
          "model_module": "@jupyter-widgets/base",
          "model_name": "LayoutModel",
          "model_module_version": "1.2.0",
          "state": {
            "_model_module": "@jupyter-widgets/base",
            "_model_module_version": "1.2.0",
            "_model_name": "LayoutModel",
            "_view_count": null,
            "_view_module": "@jupyter-widgets/base",
            "_view_module_version": "1.2.0",
            "_view_name": "LayoutView",
            "align_content": null,
            "align_items": null,
            "align_self": null,
            "border": null,
            "bottom": null,
            "display": null,
            "flex": null,
            "flex_flow": null,
            "grid_area": null,
            "grid_auto_columns": null,
            "grid_auto_flow": null,
            "grid_auto_rows": null,
            "grid_column": null,
            "grid_gap": null,
            "grid_row": null,
            "grid_template_areas": null,
            "grid_template_columns": null,
            "grid_template_rows": null,
            "height": null,
            "justify_content": null,
            "justify_items": null,
            "left": null,
            "margin": null,
            "max_height": null,
            "max_width": null,
            "min_height": null,
            "min_width": null,
            "object_fit": null,
            "object_position": null,
            "order": null,
            "overflow": null,
            "overflow_x": null,
            "overflow_y": null,
            "padding": null,
            "right": null,
            "top": null,
            "visibility": null,
            "width": null
          }
        },
        "2cc30eef6d7b46d283fcfd0e7abca6ea": {
          "model_module": "@jupyter-widgets/controls",
          "model_name": "DescriptionStyleModel",
          "model_module_version": "1.5.0",
          "state": {
            "_model_module": "@jupyter-widgets/controls",
            "_model_module_version": "1.5.0",
            "_model_name": "DescriptionStyleModel",
            "_view_count": null,
            "_view_module": "@jupyter-widgets/base",
            "_view_module_version": "1.2.0",
            "_view_name": "StyleView",
            "description_width": ""
          }
        },
        "83b554bec0fd40dd9bd9e4601f2f98a3": {
          "model_module": "@jupyter-widgets/base",
          "model_name": "LayoutModel",
          "model_module_version": "1.2.0",
          "state": {
            "_model_module": "@jupyter-widgets/base",
            "_model_module_version": "1.2.0",
            "_model_name": "LayoutModel",
            "_view_count": null,
            "_view_module": "@jupyter-widgets/base",
            "_view_module_version": "1.2.0",
            "_view_name": "LayoutView",
            "align_content": null,
            "align_items": null,
            "align_self": null,
            "border": null,
            "bottom": null,
            "display": null,
            "flex": null,
            "flex_flow": null,
            "grid_area": null,
            "grid_auto_columns": null,
            "grid_auto_flow": null,
            "grid_auto_rows": null,
            "grid_column": null,
            "grid_gap": null,
            "grid_row": null,
            "grid_template_areas": null,
            "grid_template_columns": null,
            "grid_template_rows": null,
            "height": null,
            "justify_content": null,
            "justify_items": null,
            "left": null,
            "margin": null,
            "max_height": null,
            "max_width": null,
            "min_height": null,
            "min_width": null,
            "object_fit": null,
            "object_position": null,
            "order": null,
            "overflow": null,
            "overflow_x": null,
            "overflow_y": null,
            "padding": null,
            "right": null,
            "top": null,
            "visibility": null,
            "width": null
          }
        },
        "1c19998de61c4e2dad6647fdc4ca4358": {
          "model_module": "@jupyter-widgets/controls",
          "model_name": "ProgressStyleModel",
          "model_module_version": "1.5.0",
          "state": {
            "_model_module": "@jupyter-widgets/controls",
            "_model_module_version": "1.5.0",
            "_model_name": "ProgressStyleModel",
            "_view_count": null,
            "_view_module": "@jupyter-widgets/base",
            "_view_module_version": "1.2.0",
            "_view_name": "StyleView",
            "bar_color": null,
            "description_width": ""
          }
        },
        "25df0dd9481a4e0ba21d2f4f4ffdba2e": {
          "model_module": "@jupyter-widgets/base",
          "model_name": "LayoutModel",
          "model_module_version": "1.2.0",
          "state": {
            "_model_module": "@jupyter-widgets/base",
            "_model_module_version": "1.2.0",
            "_model_name": "LayoutModel",
            "_view_count": null,
            "_view_module": "@jupyter-widgets/base",
            "_view_module_version": "1.2.0",
            "_view_name": "LayoutView",
            "align_content": null,
            "align_items": null,
            "align_self": null,
            "border": null,
            "bottom": null,
            "display": null,
            "flex": null,
            "flex_flow": null,
            "grid_area": null,
            "grid_auto_columns": null,
            "grid_auto_flow": null,
            "grid_auto_rows": null,
            "grid_column": null,
            "grid_gap": null,
            "grid_row": null,
            "grid_template_areas": null,
            "grid_template_columns": null,
            "grid_template_rows": null,
            "height": null,
            "justify_content": null,
            "justify_items": null,
            "left": null,
            "margin": null,
            "max_height": null,
            "max_width": null,
            "min_height": null,
            "min_width": null,
            "object_fit": null,
            "object_position": null,
            "order": null,
            "overflow": null,
            "overflow_x": null,
            "overflow_y": null,
            "padding": null,
            "right": null,
            "top": null,
            "visibility": null,
            "width": null
          }
        },
        "cbf620ae5196446c84528feaed64ae6a": {
          "model_module": "@jupyter-widgets/controls",
          "model_name": "DescriptionStyleModel",
          "model_module_version": "1.5.0",
          "state": {
            "_model_module": "@jupyter-widgets/controls",
            "_model_module_version": "1.5.0",
            "_model_name": "DescriptionStyleModel",
            "_view_count": null,
            "_view_module": "@jupyter-widgets/base",
            "_view_module_version": "1.2.0",
            "_view_name": "StyleView",
            "description_width": ""
          }
        }
      }
    }
  },
  "cells": [
    {
      "cell_type": "markdown",
      "metadata": {
        "id": "view-in-github",
        "colab_type": "text"
      },
      "source": [
        "<a href=\"https://colab.research.google.com/github/davidtkeane/Google_Colab/blob/main/mistral_finetune_7b.ipynb\" target=\"_parent\"><img src=\"https://colab.research.google.com/assets/colab-badge.svg\" alt=\"Open In Colab\"/></a>"
      ]
    },
    {
      "cell_type": "markdown",
      "source": [
        "# Getting starting fine-tuning Mistral 7B\n",
        "\n",
        "This notebook shows you a simple example of how to LoRA finetune Mistral 7B. You can can run this notebook in Google Colab with Pro + account with A100 and 40GB RAM.\n",
        "\n",
        "<a target=\"_blank\" href=\"https://colab.research.google.com/github/mistralai/mistral-finetune/blob/main/tutorials/mistral_finetune_7b.ipynb\">\n",
        "  <img src=\"https://colab.research.google.com/assets/colab-badge.svg\" alt=\"Open In Colab\"/>\n",
        "</a>\n",
        "\n",
        "\n",
        "Check out `mistral-finetune` Github repo to learn more: https://github.com/mistralai/mistral-finetune/"
      ],
      "metadata": {
        "id": "RyuOCYM92LJb"
      }
    },
    {
      "cell_type": "markdown",
      "source": [
        "## Installation\n",
        "\n",
        "Clone the `mistral-finetune` repo:\n"
      ],
      "metadata": {
        "id": "yxr8mv-17GfB"
      }
    },
    {
      "cell_type": "code",
      "source": [
        "!pip install colorama"
      ],
      "metadata": {
        "colab": {
          "base_uri": "https://localhost:8080/"
        },
        "id": "LqZXtHKGMrG8",
        "outputId": "21e94bd0-db54-4000-cd64-f11fc34977ba"
      },
      "execution_count": null,
      "outputs": [
        {
          "output_type": "stream",
          "name": "stdout",
          "text": [
            "Collecting colorama\n",
            "  Downloading colorama-0.4.6-py2.py3-none-any.whl.metadata (17 kB)\n",
            "Downloading colorama-0.4.6-py2.py3-none-any.whl (25 kB)\n",
            "Installing collected packages: colorama\n",
            "Successfully installed colorama-0.4.6\n"
          ]
        }
      ]
    },
    {
      "cell_type": "markdown",
      "source": [
        "This will take about 45 to an hour of your life wasted watching this happen. I hope you are proud of yourself."
      ],
      "metadata": {
        "id": "Z_p3FNNUjybF"
      }
    },
    {
      "cell_type": "code",
      "source": [
        "# prompt: welcome banner\n",
        "\n",
        "import sys\n",
        "\n",
        "def print_welcome_banner():\n",
        "  \"\"\"Prints a colorful welcome banner to the console.\"\"\"\n",
        "\n",
        "  banner = r\"\"\"\n",
        "  ____  _          _   _      _ _         _     _\n",
        " |  _ \\| | ___   _| |_| | ___| | |___ ___| | __| | ___ _ __ ___\n",
        " | | | | |/ _ \\ / _`| |/ _ \\ | |/ _ \\/ __| |/ _` |/ _ \\ '__/ __|\n",
        " | |_| | |  __/ (_| | |  __/ | |  __/ (__| | (_| |  __/ |  \\__ \\\n",
        " |____/|_|\\___|\\__,_|_|\\___|_|_|\\___|\\___|_|\\__,_|\\___|_|  |___/\n",
        "\n",
        " \"\"\"\n",
        "\n",
        "  print(\"\\033[92m\" + banner + \"\\033[0m\") # Green color\n",
        "  print(\"\\033[94mWelcome to the Mistral 7B Fine-tuning Notebook!\\033[0m\") # Blue color\n",
        "  print(\"\\033[93mThis notebook demonstrates a simple example of how to LoRA fine-tune Mistral 7B.\\033[0m\") # Yellow\n",
        "  print(\"Please be patient while the installation completes.\\n\") # Reset color\n",
        "\n",
        "\n",
        "if __name__ == \"__main__\":\n",
        "  print_welcome_banner()"
      ],
      "metadata": {
        "id": "u5MMKX28UEDZ"
      },
      "execution_count": null,
      "outputs": []
    },
    {
      "cell_type": "code",
      "execution_count": null,
      "metadata": {
        "id": "V1G82GuO-tez"
      },
      "outputs": [],
      "source": [
        "from psutil import virtual_memory\n",
        "ram_gb = virtual_memory().total / 1e9\n",
        "print('Your runtime has {:.1f} gigabytes of available RAM\\n'.format(ram_gb))\n",
        "\n",
        "if ram_gb < 20:\n",
        "  print('Not using a high-RAM runtime')\n",
        "else:\n",
        "  print('You are using a high-RAM runtime!')\n",
        "\n",
        "gpu_info = !nvidia-smi\n",
        "gpu_info = '\\n'.join(gpu_info)\n",
        "\n",
        "if gpu_info.find('failed') >= 0:\n",
        "  print('Not connected to a GPU')\n",
        "else:\n",
        "  print(gpu_info)\n",
        "\n",
        "from psutil import virtual_memory\n",
        "ram_gb = virtual_memory().total / 1e9\n",
        "print(f\"Your runtime has {ram_gb:.1f} gigabytes of available RAM\")\n",
        "\n",
        "!nvidia-smi"
      ]
    },
    {
      "cell_type": "code",
      "source": [
        "#!/usr/bin/python3\n",
        "\n",
        "# Loads Google Drive\n",
        "\n",
        "import os\n",
        "import shutil\n",
        "from google.colab import drive\n",
        "from colorama import Fore, Style, init\n",
        "from IPython.display import display, HTML\n",
        "\n",
        "# Initialize colorama\n",
        "init()\n",
        "\n",
        "# Access the API key from Colab Secrets\n",
        "from google.colab import userdata\n",
        "\n",
        "try:\n",
        "    api_key = userdata.get('GOOGLE_DRIVE_API')\n",
        "    print(f\"{Fore.GREEN}✅ API Key loaded successfully.{Style.RESET_ALL}\")\n",
        "\n",
        "    # Set the API key as an environment variable\n",
        "    os.environ['GOOGLE_DRIVE_API'] = api_key\n",
        "except Exception as e:\n",
        "    print(f\"{Fore.RED}❌ Error loading API Key: {e}{Style.RESET_ALL}\")\n",
        "    api_key = None\n",
        "\n",
        "# Mount Google Drive using the API key (if available)\n",
        "if api_key:\n",
        "    try:\n",
        "        # Use the API key to authenticate and mount Google Drive\n",
        "        drive.mount('/content/drive', force_remount=True)\n",
        "        print(f\"{Fore.GREEN}✅ Google Drive mounted successfully using API Key.{Style.RESET_ALL}\")\n",
        "    except Exception as e:\n",
        "        print(f\"{Fore.RED}❌ Error mounting Google Drive: {e}{Style.RESET_ALL}\")\n",
        "else:\n",
        "    print(f\"{Fore.YELLOW}⚠️ No API Key found. Please log in manually.{Style.RESET_ALL}\")\n",
        "    drive.mount('/content/drive', force_remount=True)\n",
        "\n",
        "# Define the Google Drive folder path\n",
        "drive_folder = \"/content/drive/MyDrive/Colab_Projects\"\n",
        "\n",
        "# Define the Colab working directory\n",
        "colab_folder = \"/content/\"\n",
        "\n",
        "# Ensure the Colab folder exists\n",
        "os.makedirs(colab_folder, exist_ok=True)\n",
        "\n",
        "# Function to count files in a directory\n",
        "def count_files(directory):\n",
        "    return sum([len(files) for _, _, files in os.walk(directory)])\n",
        "\n",
        "# Function to sync files from Colab to Google Drive\n",
        "def sync_to_drive():\n",
        "    try:\n",
        "        print(f\"{Fore.CYAN}🔄 Syncing files from Colab to Google Drive...{Style.RESET_ALL}\")\n",
        "\n",
        "        # Use rsync to copy files from Colab to Google Drive\n",
        "        os.system(f\"rsync -av --progress {colab_folder}/ {drive_folder}/\")\n",
        "\n",
        "        print(f\"{Fore.GREEN}✅ Files synced from Colab to Google Drive.{Style.RESET_ALL}\")\n",
        "    except Exception as e:\n",
        "        print(f\"{Fore.RED}❌ Error syncing to Google Drive: {e}{Style.RESET_ALL}\")\n",
        "\n",
        "# Function to sync files from Google Drive to Colab\n",
        "def sync_from_drive():\n",
        "    try:\n",
        "        print(f\"{Fore.CYAN}🔄 Syncing files from Google Drive to Colab...{Style.RESET_ALL}\")\n",
        "\n",
        "        # Count files before sync\n",
        "        initial_count = count_files(colab_folder)\n",
        "\n",
        "        # Use rsync to copy files from Google Drive to Colab\n",
        "        # -a: Archive mode (recursive, preserves permissions, symlinks, etc.)\n",
        "        # -v: Verbose output\n",
        "        # --progress: Show progress during transfer\n",
        "        # --ignore-existing: Skip files that already exist in the destination\n",
        "        # old command = os.system(f\"rsync -av --progress {drive_folder}/ {colab_folder}/\")\n",
        "        os.system(f\"rsync -av --progress {drive_folder} {colab_folder}/\")\n",
        "        # Count files after sync\n",
        "        final_count = count_files(colab_folder)\n",
        "        files_transferred = final_count - initial_count\n",
        "\n",
        "        print(f\"{Fore.GREEN}✅ Sync completed!{Style.RESET_ALL}\")\n",
        "        print(f\"{Fore.GREEN}📂 Files transferred: {files_transferred}{Style.RESET_ALL}\")\n",
        "\n",
        "        # List files in the Colab folder to confirm sync\n",
        "        print(f\"{Fore.BLUE}📁 Files in Colab folder:{Style.RESET_ALL}\")\n",
        "        for root, dirs, files in os.walk(colab_folder):\n",
        "            for file in files:\n",
        "                print(os.path.join(root, file))\n",
        "    except Exception as e:\n",
        "        print(f\"{Fore.RED}❌ Error syncing from Google Drive: {e}{Style.RESET_ALL}\")\n",
        "\n",
        "# Function to display a sync button\n",
        "def display_sync_button():\n",
        "    display(HTML('''\n",
        "        <div>\n",
        "            <button onclick=\"syncFromDrive()\">Sync from Google Drive to Colab</button>\n",
        "            <button onclick=\"syncToDrive()\">Sync from Colab to Google Drive</button>\n",
        "            <button onclick=\"refreshPage()\">Refresh</button>\n",
        "        </div>\n",
        "        <script>\n",
        "            function syncFromDrive() {\n",
        "                google.colab.kernel.invokeFunction('sync_from_drive', [], {});\n",
        "            }\n",
        "            function syncToDrive() {\n",
        "                google.colab.kernel.invokeFunction('sync_to_drive', [], {});\n",
        "            }\n",
        "            function refreshPage() {\n",
        "                window.location.reload();\n",
        "            }\n",
        "        </script>\n",
        "    '''))\n",
        "\n",
        "# Register the sync functions with Colab\n",
        "from google.colab import output\n",
        "output.register_callback('sync_from_drive', sync_from_drive)\n",
        "output.register_callback('sync_to_drive', sync_to_drive)\n",
        "\n",
        "\n",
        "# Display the sync button\n",
        "display_sync_button()"
      ],
      "metadata": {
        "id": "Rk934UEi3Epy",
        "colab": {
          "base_uri": "https://localhost:8080/",
          "height": 92
        },
        "outputId": "f302b063-aab4-4344-c3ee-fe13d61dc891"
      },
      "execution_count": null,
      "outputs": [
        {
          "output_type": "stream",
          "name": "stdout",
          "text": [
            "✅ API Key loaded successfully.\n",
            "Mounted at /content/drive\n",
            "✅ Google Drive mounted successfully using API Key.\n"
          ]
        },
        {
          "output_type": "display_data",
          "data": {
            "text/plain": [
              "<IPython.core.display.HTML object>"
            ],
            "text/html": [
              "\n",
              "        <div>\n",
              "            <button onclick=\"syncFromDrive()\">Sync from Google Drive to Colab</button>\n",
              "            <button onclick=\"syncToDrive()\">Sync from Colab to Google Drive</button>\n",
              "            <button onclick=\"refreshPage()\">Refresh</button>\n",
              "        </div>\n",
              "        <script>\n",
              "            function syncFromDrive() {\n",
              "                google.colab.kernel.invokeFunction('sync_from_drive', [], {});\n",
              "            }\n",
              "            function syncToDrive() {\n",
              "                google.colab.kernel.invokeFunction('sync_to_drive', [], {});\n",
              "            }\n",
              "            function refreshPage() {\n",
              "                window.location.reload();\n",
              "            }\n",
              "        </script>\n",
              "    "
            ]
          },
          "metadata": {}
        }
      ]
    },
    {
      "cell_type": "code",
      "source": [
        "%cd /content/drive/MyDrive/Colab_Projects/\n",
        "!git clone https://github.com/mistralai/mistral-finetune.git"
      ],
      "metadata": {
        "colab": {
          "base_uri": "https://localhost:8080/"
        },
        "id": "TIj3IlIeVDIb",
        "outputId": "ce81235a-5310-4c59-fba7-249d2cee7250"
      },
      "execution_count": null,
      "outputs": [
        {
          "output_type": "stream",
          "name": "stdout",
          "text": [
            "/content/drive/MyDrive/Colab_Projects\n",
            "Cloning into 'mistral-finetune'...\n",
            "remote: Enumerating objects: 472, done.\n",
            "remote: Counting objects: 100% (249/249), done.\n",
            "remote: Compressing objects: 100% (90/90), done.\n",
            "remote: Total 472 (delta 211), reused 159 (delta 159), pack-reused 223 (from 2)\n",
            "Receiving objects: 100% (472/472), 243.32 KiB | 2.36 MiB/s, done.\n",
            "Resolving deltas: 100% (251/251), done.\n"
          ]
        }
      ]
    },
    {
      "cell_type": "markdown",
      "source": [
        "Install all required dependencies:"
      ],
      "metadata": {
        "id": "mQPd_pGT7WiY"
      }
    },
    {
      "cell_type": "code",
      "source": [
        "!pip install -r /content/drive/MyDrive/Colab_Projects/mistral-finetune/requirements.txt"
      ],
      "metadata": {
        "colab": {
          "base_uri": "https://localhost:8080/",
          "height": 1000
        },
        "id": "KuTOGipl7BS7",
        "outputId": "07085421-b260-466b-e07b-fcdd60e0f051"
      },
      "execution_count": null,
      "outputs": [
        {
          "output_type": "stream",
          "name": "stdout",
          "text": [
            "Collecting fire (from -r /content/drive/MyDrive/Colab_Projects/mistral-finetune/requirements.txt (line 1))\n",
            "  Downloading fire-0.7.0.tar.gz (87 kB)\n",
            "     ━━━━━━━━━━━━━━━━━━━━━━━━━━━━━━━━━━━━━━━━ 87.2/87.2 kB 2.7 MB/s eta 0:00:00\n",
            "\u001b[?25h  Preparing metadata (setup.py) ... \u001b[?25l\u001b[?25hdone\n",
            "Requirement already satisfied: simple-parsing in /usr/local/lib/python3.10/dist-packages (from -r /content/drive/MyDrive/Colab_Projects/mistral-finetune/requirements.txt (line 2)) (0.1.6)\n",
            "Requirement already satisfied: pyyaml in /usr/local/lib/python3.10/dist-packages (from -r /content/drive/MyDrive/Colab_Projects/mistral-finetune/requirements.txt (line 3)) (6.0.2)\n",
            "Collecting mistral-common>=1.3.1 (from -r /content/drive/MyDrive/Colab_Projects/mistral-finetune/requirements.txt (line 4))\n",
            "  Downloading mistral_common-1.5.1-py3-none-any.whl.metadata (4.6 kB)\n",
            "Requirement already satisfied: safetensors in /usr/local/lib/python3.10/dist-packages (from -r /content/drive/MyDrive/Colab_Projects/mistral-finetune/requirements.txt (line 5)) (0.5.0)\n",
            "Requirement already satisfied: tensorboard in /usr/local/lib/python3.10/dist-packages (from -r /content/drive/MyDrive/Colab_Projects/mistral-finetune/requirements.txt (line 6)) (2.17.1)\n",
            "Requirement already satisfied: tqdm in /usr/local/lib/python3.10/dist-packages (from -r /content/drive/MyDrive/Colab_Projects/mistral-finetune/requirements.txt (line 7)) (4.67.1)\n",
            "Collecting torch==2.2 (from -r /content/drive/MyDrive/Colab_Projects/mistral-finetune/requirements.txt (line 9))\n",
            "  Downloading torch-2.2.0-cp310-cp310-manylinux1_x86_64.whl.metadata (25 kB)\n",
            "Collecting triton==2.2 (from -r /content/drive/MyDrive/Colab_Projects/mistral-finetune/requirements.txt (line 10))\n",
            "  Downloading triton-2.2.0-cp310-cp310-manylinux_2_17_x86_64.manylinux2014_x86_64.whl.metadata (1.4 kB)\n",
            "Collecting xformers==0.0.24 (from -r /content/drive/MyDrive/Colab_Projects/mistral-finetune/requirements.txt (line 11))\n",
            "  Downloading xformers-0.0.24-cp310-cp310-manylinux2014_x86_64.whl.metadata (1.0 kB)\n",
            "Requirement already satisfied: filelock in /usr/local/lib/python3.10/dist-packages (from torch==2.2->-r /content/drive/MyDrive/Colab_Projects/mistral-finetune/requirements.txt (line 9)) (3.16.1)\n",
            "Requirement already satisfied: typing-extensions>=4.8.0 in /usr/local/lib/python3.10/dist-packages (from torch==2.2->-r /content/drive/MyDrive/Colab_Projects/mistral-finetune/requirements.txt (line 9)) (4.12.2)\n",
            "Requirement already satisfied: sympy in /usr/local/lib/python3.10/dist-packages (from torch==2.2->-r /content/drive/MyDrive/Colab_Projects/mistral-finetune/requirements.txt (line 9)) (1.13.1)\n",
            "Requirement already satisfied: networkx in /usr/local/lib/python3.10/dist-packages (from torch==2.2->-r /content/drive/MyDrive/Colab_Projects/mistral-finetune/requirements.txt (line 9)) (3.4.2)\n",
            "Requirement already satisfied: jinja2 in /usr/local/lib/python3.10/dist-packages (from torch==2.2->-r /content/drive/MyDrive/Colab_Projects/mistral-finetune/requirements.txt (line 9)) (3.1.5)\n",
            "Requirement already satisfied: fsspec in /usr/local/lib/python3.10/dist-packages (from torch==2.2->-r /content/drive/MyDrive/Colab_Projects/mistral-finetune/requirements.txt (line 9)) (2024.10.0)\n",
            "Collecting nvidia-cuda-nvrtc-cu12==12.1.105 (from torch==2.2->-r /content/drive/MyDrive/Colab_Projects/mistral-finetune/requirements.txt (line 9))\n",
            "  Downloading nvidia_cuda_nvrtc_cu12-12.1.105-py3-none-manylinux1_x86_64.whl.metadata (1.5 kB)\n",
            "Collecting nvidia-cuda-runtime-cu12==12.1.105 (from torch==2.2->-r /content/drive/MyDrive/Colab_Projects/mistral-finetune/requirements.txt (line 9))\n",
            "  Downloading nvidia_cuda_runtime_cu12-12.1.105-py3-none-manylinux1_x86_64.whl.metadata (1.5 kB)\n",
            "Collecting nvidia-cuda-cupti-cu12==12.1.105 (from torch==2.2->-r /content/drive/MyDrive/Colab_Projects/mistral-finetune/requirements.txt (line 9))\n",
            "  Downloading nvidia_cuda_cupti_cu12-12.1.105-py3-none-manylinux1_x86_64.whl.metadata (1.6 kB)\n",
            "Collecting nvidia-cudnn-cu12==8.9.2.26 (from torch==2.2->-r /content/drive/MyDrive/Colab_Projects/mistral-finetune/requirements.txt (line 9))\n",
            "  Downloading nvidia_cudnn_cu12-8.9.2.26-py3-none-manylinux1_x86_64.whl.metadata (1.6 kB)\n",
            "Collecting nvidia-cublas-cu12==12.1.3.1 (from torch==2.2->-r /content/drive/MyDrive/Colab_Projects/mistral-finetune/requirements.txt (line 9))\n",
            "  Downloading nvidia_cublas_cu12-12.1.3.1-py3-none-manylinux1_x86_64.whl.metadata (1.5 kB)\n",
            "Collecting nvidia-cufft-cu12==11.0.2.54 (from torch==2.2->-r /content/drive/MyDrive/Colab_Projects/mistral-finetune/requirements.txt (line 9))\n",
            "  Downloading nvidia_cufft_cu12-11.0.2.54-py3-none-manylinux1_x86_64.whl.metadata (1.5 kB)\n",
            "Collecting nvidia-curand-cu12==10.3.2.106 (from torch==2.2->-r /content/drive/MyDrive/Colab_Projects/mistral-finetune/requirements.txt (line 9))\n",
            "  Downloading nvidia_curand_cu12-10.3.2.106-py3-none-manylinux1_x86_64.whl.metadata (1.5 kB)\n",
            "Collecting nvidia-cusolver-cu12==11.4.5.107 (from torch==2.2->-r /content/drive/MyDrive/Colab_Projects/mistral-finetune/requirements.txt (line 9))\n",
            "  Downloading nvidia_cusolver_cu12-11.4.5.107-py3-none-manylinux1_x86_64.whl.metadata (1.6 kB)\n",
            "Collecting nvidia-cusparse-cu12==12.1.0.106 (from torch==2.2->-r /content/drive/MyDrive/Colab_Projects/mistral-finetune/requirements.txt (line 9))\n",
            "  Downloading nvidia_cusparse_cu12-12.1.0.106-py3-none-manylinux1_x86_64.whl.metadata (1.6 kB)\n",
            "Collecting nvidia-nccl-cu12==2.19.3 (from torch==2.2->-r /content/drive/MyDrive/Colab_Projects/mistral-finetune/requirements.txt (line 9))\n",
            "  Downloading nvidia_nccl_cu12-2.19.3-py3-none-manylinux1_x86_64.whl.metadata (1.8 kB)\n",
            "Collecting nvidia-nvtx-cu12==12.1.105 (from torch==2.2->-r /content/drive/MyDrive/Colab_Projects/mistral-finetune/requirements.txt (line 9))\n",
            "  Downloading nvidia_nvtx_cu12-12.1.105-py3-none-manylinux1_x86_64.whl.metadata (1.7 kB)\n",
            "Requirement already satisfied: numpy in /usr/local/lib/python3.10/dist-packages (from xformers==0.0.24->-r /content/drive/MyDrive/Colab_Projects/mistral-finetune/requirements.txt (line 11)) (1.26.4)\n",
            "Requirement already satisfied: nvidia-nvjitlink-cu12 in /usr/local/lib/python3.10/dist-packages (from nvidia-cusolver-cu12==11.4.5.107->torch==2.2->-r /content/drive/MyDrive/Colab_Projects/mistral-finetune/requirements.txt (line 9)) (12.6.85)\n",
            "Requirement already satisfied: termcolor in /usr/local/lib/python3.10/dist-packages (from fire->-r /content/drive/MyDrive/Colab_Projects/mistral-finetune/requirements.txt (line 1)) (2.5.0)\n",
            "Requirement already satisfied: docstring-parser<1.0,>=0.15 in /usr/local/lib/python3.10/dist-packages (from simple-parsing->-r /content/drive/MyDrive/Colab_Projects/mistral-finetune/requirements.txt (line 2)) (0.16)\n",
            "Requirement already satisfied: jsonschema<5.0.0,>=4.21.1 in /usr/local/lib/python3.10/dist-packages (from mistral-common>=1.3.1->-r /content/drive/MyDrive/Colab_Projects/mistral-finetune/requirements.txt (line 4)) (4.23.0)\n",
            "Collecting pillow<11.0.0,>=10.3.0 (from mistral-common>=1.3.1->-r /content/drive/MyDrive/Colab_Projects/mistral-finetune/requirements.txt (line 4))\n",
            "  Downloading pillow-10.4.0-cp310-cp310-manylinux_2_28_x86_64.whl.metadata (9.2 kB)\n",
            "Requirement already satisfied: pydantic<3.0.0,>=2.6.1 in /usr/local/lib/python3.10/dist-packages (from mistral-common>=1.3.1->-r /content/drive/MyDrive/Colab_Projects/mistral-finetune/requirements.txt (line 4)) (2.10.4)\n",
            "Requirement already satisfied: requests<3.0.0,>=2.0.0 in /usr/local/lib/python3.10/dist-packages (from mistral-common>=1.3.1->-r /content/drive/MyDrive/Colab_Projects/mistral-finetune/requirements.txt (line 4)) (2.32.3)\n",
            "Requirement already satisfied: sentencepiece==0.2.0 in /usr/local/lib/python3.10/dist-packages (from mistral-common>=1.3.1->-r /content/drive/MyDrive/Colab_Projects/mistral-finetune/requirements.txt (line 4)) (0.2.0)\n",
            "Collecting tiktoken<0.8.0,>=0.7.0 (from mistral-common>=1.3.1->-r /content/drive/MyDrive/Colab_Projects/mistral-finetune/requirements.txt (line 4))\n",
            "  Downloading tiktoken-0.7.0-cp310-cp310-manylinux_2_17_x86_64.manylinux2014_x86_64.whl.metadata (6.6 kB)\n",
            "Requirement already satisfied: absl-py>=0.4 in /usr/local/lib/python3.10/dist-packages (from tensorboard->-r /content/drive/MyDrive/Colab_Projects/mistral-finetune/requirements.txt (line 6)) (1.4.0)\n",
            "Requirement already satisfied: grpcio>=1.48.2 in /usr/local/lib/python3.10/dist-packages (from tensorboard->-r /content/drive/MyDrive/Colab_Projects/mistral-finetune/requirements.txt (line 6)) (1.69.0)\n",
            "Requirement already satisfied: markdown>=2.6.8 in /usr/local/lib/python3.10/dist-packages (from tensorboard->-r /content/drive/MyDrive/Colab_Projects/mistral-finetune/requirements.txt (line 6)) (3.7)\n",
            "Requirement already satisfied: packaging in /usr/local/lib/python3.10/dist-packages (from tensorboard->-r /content/drive/MyDrive/Colab_Projects/mistral-finetune/requirements.txt (line 6)) (24.2)\n",
            "Requirement already satisfied: protobuf!=4.24.0,>=3.19.6 in /usr/local/lib/python3.10/dist-packages (from tensorboard->-r /content/drive/MyDrive/Colab_Projects/mistral-finetune/requirements.txt (line 6)) (4.25.5)\n",
            "Requirement already satisfied: setuptools>=41.0.0 in /usr/local/lib/python3.10/dist-packages (from tensorboard->-r /content/drive/MyDrive/Colab_Projects/mistral-finetune/requirements.txt (line 6)) (75.1.0)\n",
            "Requirement already satisfied: six>1.9 in /usr/local/lib/python3.10/dist-packages (from tensorboard->-r /content/drive/MyDrive/Colab_Projects/mistral-finetune/requirements.txt (line 6)) (1.17.0)\n",
            "Requirement already satisfied: tensorboard-data-server<0.8.0,>=0.7.0 in /usr/local/lib/python3.10/dist-packages (from tensorboard->-r /content/drive/MyDrive/Colab_Projects/mistral-finetune/requirements.txt (line 6)) (0.7.2)\n",
            "Requirement already satisfied: werkzeug>=1.0.1 in /usr/local/lib/python3.10/dist-packages (from tensorboard->-r /content/drive/MyDrive/Colab_Projects/mistral-finetune/requirements.txt (line 6)) (3.1.3)\n",
            "Requirement already satisfied: attrs>=22.2.0 in /usr/local/lib/python3.10/dist-packages (from jsonschema<5.0.0,>=4.21.1->mistral-common>=1.3.1->-r /content/drive/MyDrive/Colab_Projects/mistral-finetune/requirements.txt (line 4)) (24.3.0)\n",
            "Requirement already satisfied: jsonschema-specifications>=2023.03.6 in /usr/local/lib/python3.10/dist-packages (from jsonschema<5.0.0,>=4.21.1->mistral-common>=1.3.1->-r /content/drive/MyDrive/Colab_Projects/mistral-finetune/requirements.txt (line 4)) (2024.10.1)\n",
            "Requirement already satisfied: referencing>=0.28.4 in /usr/local/lib/python3.10/dist-packages (from jsonschema<5.0.0,>=4.21.1->mistral-common>=1.3.1->-r /content/drive/MyDrive/Colab_Projects/mistral-finetune/requirements.txt (line 4)) (0.35.1)\n",
            "Requirement already satisfied: rpds-py>=0.7.1 in /usr/local/lib/python3.10/dist-packages (from jsonschema<5.0.0,>=4.21.1->mistral-common>=1.3.1->-r /content/drive/MyDrive/Colab_Projects/mistral-finetune/requirements.txt (line 4)) (0.22.3)\n",
            "Requirement already satisfied: annotated-types>=0.6.0 in /usr/local/lib/python3.10/dist-packages (from pydantic<3.0.0,>=2.6.1->mistral-common>=1.3.1->-r /content/drive/MyDrive/Colab_Projects/mistral-finetune/requirements.txt (line 4)) (0.7.0)\n",
            "Requirement already satisfied: pydantic-core==2.27.2 in /usr/local/lib/python3.10/dist-packages (from pydantic<3.0.0,>=2.6.1->mistral-common>=1.3.1->-r /content/drive/MyDrive/Colab_Projects/mistral-finetune/requirements.txt (line 4)) (2.27.2)\n",
            "Requirement already satisfied: charset-normalizer<4,>=2 in /usr/local/lib/python3.10/dist-packages (from requests<3.0.0,>=2.0.0->mistral-common>=1.3.1->-r /content/drive/MyDrive/Colab_Projects/mistral-finetune/requirements.txt (line 4)) (3.4.1)\n",
            "Requirement already satisfied: idna<4,>=2.5 in /usr/local/lib/python3.10/dist-packages (from requests<3.0.0,>=2.0.0->mistral-common>=1.3.1->-r /content/drive/MyDrive/Colab_Projects/mistral-finetune/requirements.txt (line 4)) (3.10)\n",
            "Requirement already satisfied: urllib3<3,>=1.21.1 in /usr/local/lib/python3.10/dist-packages (from requests<3.0.0,>=2.0.0->mistral-common>=1.3.1->-r /content/drive/MyDrive/Colab_Projects/mistral-finetune/requirements.txt (line 4)) (2.3.0)\n",
            "Requirement already satisfied: certifi>=2017.4.17 in /usr/local/lib/python3.10/dist-packages (from requests<3.0.0,>=2.0.0->mistral-common>=1.3.1->-r /content/drive/MyDrive/Colab_Projects/mistral-finetune/requirements.txt (line 4)) (2024.12.14)\n",
            "Requirement already satisfied: regex>=2022.1.18 in /usr/local/lib/python3.10/dist-packages (from tiktoken<0.8.0,>=0.7.0->mistral-common>=1.3.1->-r /content/drive/MyDrive/Colab_Projects/mistral-finetune/requirements.txt (line 4)) (2024.11.6)\n",
            "Requirement already satisfied: MarkupSafe>=2.1.1 in /usr/local/lib/python3.10/dist-packages (from werkzeug>=1.0.1->tensorboard->-r /content/drive/MyDrive/Colab_Projects/mistral-finetune/requirements.txt (line 6)) (3.0.2)\n",
            "Requirement already satisfied: mpmath<1.4,>=1.1.0 in /usr/local/lib/python3.10/dist-packages (from sympy->torch==2.2->-r /content/drive/MyDrive/Colab_Projects/mistral-finetune/requirements.txt (line 9)) (1.3.0)\n",
            "Downloading torch-2.2.0-cp310-cp310-manylinux1_x86_64.whl (755.5 MB)\n",
            "   ━━━━━━━━━━━━━━━━━━━━━━━━━━━━━━━━━━━━━━━━ 755.5/755.5 MB 1.5 MB/s eta 0:00:00\n",
            "\u001b[?25hDownloading triton-2.2.0-cp310-cp310-manylinux_2_17_x86_64.manylinux2014_x86_64.whl (167.9 MB)\n",
            "   ━━━━━━━━━━━━━━━━━━━━━━━━━━━━━━━━━━━━━━━━ 167.9/167.9 MB 12.4 MB/s eta 0:00:00\n",
            "\u001b[?25hDownloading xformers-0.0.24-cp310-cp310-manylinux2014_x86_64.whl (218.2 MB)\n",
            "   ━━━━━━━━━━━━━━━━━━━━━━━━━━━━━━━━━━━━━━━━ 218.2/218.2 MB 6.2 MB/s eta 0:00:00\n",
            "\u001b[?25hDownloading nvidia_cublas_cu12-12.1.3.1-py3-none-manylinux1_x86_64.whl (410.6 MB)\n",
            "   ━━━━━━━━━━━━━━━━━━━━━━━━━━━━━━━━━━━━━━━━ 410.6/410.6 MB 2.2 MB/s eta 0:00:00\n",
            "\u001b[?25hDownloading nvidia_cuda_cupti_cu12-12.1.105-py3-none-manylinux1_x86_64.whl (14.1 MB)\n",
            "   ━━━━━━━━━━━━━━━━━━━━━━━━━━━━━━━━━━━━━━━━ 14.1/14.1 MB 95.6 MB/s eta 0:00:00\n",
            "\u001b[?25hDownloading nvidia_cuda_nvrtc_cu12-12.1.105-py3-none-manylinux1_x86_64.whl (23.7 MB)\n",
            "   ━━━━━━━━━━━━━━━━━━━━━━━━━━━━━━━━━━━━━━━━ 23.7/23.7 MB 77.4 MB/s eta 0:00:00\n",
            "\u001b[?25hDownloading nvidia_cuda_runtime_cu12-12.1.105-py3-none-manylinux1_x86_64.whl (823 kB)\n",
            "   ━━━━━━━━━━━━━━━━━━━━━━━━━━━━━━━━━━━━━━━━ 823.6/823.6 kB 50.6 MB/s eta 0:00:00\n",
            "\u001b[?25hDownloading nvidia_cudnn_cu12-8.9.2.26-py3-none-manylinux1_x86_64.whl (731.7 MB)\n",
            "   ━━━━━━━━━━━━━━━━━━━━━━━━━━━━━━━━━━━━━━━━ 731.7/731.7 MB 1.6 MB/s eta 0:00:00\n",
            "\u001b[?25hDownloading nvidia_cufft_cu12-11.0.2.54-py3-none-manylinux1_x86_64.whl (121.6 MB)\n",
            "   ━━━━━━━━━━━━━━━━━━━━━━━━━━━━━━━━━━━━━━━━ 121.6/121.6 MB 17.1 MB/s eta 0:00:00\n",
            "\u001b[?25hDownloading nvidia_curand_cu12-10.3.2.106-py3-none-manylinux1_x86_64.whl (56.5 MB)\n",
            "   ━━━━━━━━━━━━━━━━━━━━━━━━━━━━━━━━━━━━━━━━ 56.5/56.5 MB 37.0 MB/s eta 0:00:00\n",
            "\u001b[?25hDownloading nvidia_cusolver_cu12-11.4.5.107-py3-none-manylinux1_x86_64.whl (124.2 MB)\n",
            "   ━━━━━━━━━━━━━━━━━━━━━━━━━━━━━━━━━━━━━━━━ 124.2/124.2 MB 16.5 MB/s eta 0:00:00\n",
            "\u001b[?25hDownloading nvidia_cusparse_cu12-12.1.0.106-py3-none-manylinux1_x86_64.whl (196.0 MB)\n",
            "   ━━━━━━━━━━━━━━━━━━━━━━━━━━━━━━━━━━━━━━━━ 196.0/196.0 MB 5.6 MB/s eta 0:00:00\n",
            "\u001b[?25hDownloading nvidia_nccl_cu12-2.19.3-py3-none-manylinux1_x86_64.whl (166.0 MB)\n",
            "   ━━━━━━━━━━━━━━━━━━━━━━━━━━━━━━━━━━━━━━━━ 166.0/166.0 MB 13.7 MB/s eta 0:00:00\n",
            "\u001b[?25hDownloading nvidia_nvtx_cu12-12.1.105-py3-none-manylinux1_x86_64.whl (99 kB)\n",
            "   ━━━━━━━━━━━━━━━━━━━━━━━━━━━━━━━━━━━━━━━━ 99.1/99.1 kB 9.7 MB/s eta 0:00:00\n",
            "\u001b[?25hDownloading mistral_common-1.5.1-py3-none-any.whl (6.5 MB)\n",
            "   ━━━━━━━━━━━━━━━━━━━━━━━━━━━━━━━━━━━━━━━━ 6.5/6.5 MB 103.0 MB/s eta 0:00:00\n",
            "\u001b[?25hDownloading pillow-10.4.0-cp310-cp310-manylinux_2_28_x86_64.whl (4.5 MB)\n",
            "   ━━━━━━━━━━━━━━━━━━━━━━━━━━━━━━━━━━━━━━━━ 4.5/4.5 MB 86.2 MB/s eta 0:00:00\n",
            "\u001b[?25hDownloading tiktoken-0.7.0-cp310-cp310-manylinux_2_17_x86_64.manylinux2014_x86_64.whl (1.1 MB)\n",
            "   ━━━━━━━━━━━━━━━━━━━━━━━━━━━━━━━━━━━━━━━━ 1.1/1.1 MB 59.9 MB/s eta 0:00:00\n",
            "\u001b[?25hBuilding wheels for collected packages: fire\n",
            "  Building wheel for fire (setup.py) ... \u001b[?25l\u001b[?25hdone\n",
            "  Created wheel for fire: filename=fire-0.7.0-py3-none-any.whl size=114249 sha256=0fd4c9c7d230604f6487bbdbc5d9fb5ad618d89ec350f729f64cbb986f0750f4\n",
            "  Stored in directory: /root/.cache/pip/wheels/19/39/2f/2d3cadc408a8804103f1c34ddd4b9f6a93497b11fa96fe738e\n",
            "Successfully built fire\n",
            "Installing collected packages: triton, pillow, nvidia-nvtx-cu12, nvidia-nccl-cu12, nvidia-cusparse-cu12, nvidia-curand-cu12, nvidia-cufft-cu12, nvidia-cuda-runtime-cu12, nvidia-cuda-nvrtc-cu12, nvidia-cuda-cupti-cu12, nvidia-cublas-cu12, fire, tiktoken, nvidia-cusolver-cu12, nvidia-cudnn-cu12, torch, xformers, mistral-common\n",
            "  Attempting uninstall: pillow\n",
            "    Found existing installation: pillow 11.1.0\n",
            "    Uninstalling pillow-11.1.0:\n",
            "      Successfully uninstalled pillow-11.1.0\n",
            "  Attempting uninstall: nvidia-nccl-cu12\n",
            "    Found existing installation: nvidia-nccl-cu12 2.23.4\n",
            "    Uninstalling nvidia-nccl-cu12-2.23.4:\n",
            "      Successfully uninstalled nvidia-nccl-cu12-2.23.4\n",
            "  Attempting uninstall: nvidia-cusparse-cu12\n",
            "    Found existing installation: nvidia-cusparse-cu12 12.5.4.2\n",
            "    Uninstalling nvidia-cusparse-cu12-12.5.4.2:\n",
            "      Successfully uninstalled nvidia-cusparse-cu12-12.5.4.2\n",
            "  Attempting uninstall: nvidia-curand-cu12\n",
            "    Found existing installation: nvidia-curand-cu12 10.3.7.77\n",
            "    Uninstalling nvidia-curand-cu12-10.3.7.77:\n",
            "      Successfully uninstalled nvidia-curand-cu12-10.3.7.77\n",
            "  Attempting uninstall: nvidia-cufft-cu12\n",
            "    Found existing installation: nvidia-cufft-cu12 11.3.0.4\n",
            "    Uninstalling nvidia-cufft-cu12-11.3.0.4:\n",
            "      Successfully uninstalled nvidia-cufft-cu12-11.3.0.4\n",
            "  Attempting uninstall: nvidia-cuda-runtime-cu12\n",
            "    Found existing installation: nvidia-cuda-runtime-cu12 12.6.77\n",
            "    Uninstalling nvidia-cuda-runtime-cu12-12.6.77:\n",
            "      Successfully uninstalled nvidia-cuda-runtime-cu12-12.6.77\n",
            "  Attempting uninstall: nvidia-cuda-cupti-cu12\n",
            "    Found existing installation: nvidia-cuda-cupti-cu12 12.6.80\n",
            "    Uninstalling nvidia-cuda-cupti-cu12-12.6.80:\n",
            "      Successfully uninstalled nvidia-cuda-cupti-cu12-12.6.80\n",
            "  Attempting uninstall: nvidia-cublas-cu12\n",
            "    Found existing installation: nvidia-cublas-cu12 12.6.4.1\n",
            "    Uninstalling nvidia-cublas-cu12-12.6.4.1:\n",
            "      Successfully uninstalled nvidia-cublas-cu12-12.6.4.1\n",
            "  Attempting uninstall: nvidia-cusolver-cu12\n",
            "    Found existing installation: nvidia-cusolver-cu12 11.7.1.2\n",
            "    Uninstalling nvidia-cusolver-cu12-11.7.1.2:\n",
            "      Successfully uninstalled nvidia-cusolver-cu12-11.7.1.2\n",
            "  Attempting uninstall: nvidia-cudnn-cu12\n",
            "    Found existing installation: nvidia-cudnn-cu12 9.6.0.74\n",
            "    Uninstalling nvidia-cudnn-cu12-9.6.0.74:\n",
            "      Successfully uninstalled nvidia-cudnn-cu12-9.6.0.74\n",
            "  Attempting uninstall: torch\n",
            "    Found existing installation: torch 2.5.1+cu121\n",
            "    Uninstalling torch-2.5.1+cu121:\n",
            "      Successfully uninstalled torch-2.5.1+cu121\n",
            "ERROR: pip's dependency resolver does not currently take into account all the packages that are installed. This behaviour is the source of the following dependency conflicts.\n",
            "torchaudio 2.5.1+cu121 requires torch==2.5.1, but you have torch 2.2.0 which is incompatible.\n",
            "torchvision 0.20.1+cu121 requires torch==2.5.1, but you have torch 2.2.0 which is incompatible.\n",
            "Successfully installed fire-0.7.0 mistral-common-1.5.1 nvidia-cublas-cu12-12.1.3.1 nvidia-cuda-cupti-cu12-12.1.105 nvidia-cuda-nvrtc-cu12-12.1.105 nvidia-cuda-runtime-cu12-12.1.105 nvidia-cudnn-cu12-8.9.2.26 nvidia-cufft-cu12-11.0.2.54 nvidia-curand-cu12-10.3.2.106 nvidia-cusolver-cu12-11.4.5.107 nvidia-cusparse-cu12-12.1.0.106 nvidia-nccl-cu12-2.19.3 nvidia-nvtx-cu12-12.1.105 pillow-10.4.0 tiktoken-0.7.0 torch-2.2.0 triton-2.2.0 xformers-0.0.24\n"
          ]
        },
        {
          "output_type": "display_data",
          "data": {
            "application/vnd.colab-display-data+json": {
              "pip_warning": {
                "packages": [
                  "PIL"
                ]
              },
              "id": "71b540b240c54b07984fda3bde14390d"
            }
          },
          "metadata": {}
        }
      ]
    },
    {
      "cell_type": "markdown",
      "source": [
        "## Model download"
      ],
      "metadata": {
        "id": "LgdIAi257jLo"
      }
    },
    {
      "cell_type": "code",
      "source": [
        "!wget https://models.mistralcdn.com/mistral-7b-v0-3/mistral-7B-v0.3.tar"
      ],
      "metadata": {
        "colab": {
          "base_uri": "https://localhost:8080/"
        },
        "id": "cdl_R5baUyha",
        "outputId": "8ddcc9d2-5088-47a8-b5f7-d73c89063246"
      },
      "execution_count": null,
      "outputs": [
        {
          "output_type": "stream",
          "name": "stdout",
          "text": [
            "--2024-05-24 18:50:25--  https://models.mistralcdn.com/mistral-7b-v0-3/mistral-7B-v0.3.tar\n",
            "Resolving models.mistralcdn.com (models.mistralcdn.com)... 104.26.6.117, 104.26.7.117, 172.67.70.68, ...\n",
            "Connecting to models.mistralcdn.com (models.mistralcdn.com)|104.26.6.117|:443... connected.\n",
            "HTTP request sent, awaiting response... 200 OK\n",
            "Length: 14496675840 (14G) [application/x-tar]\n",
            "Saving to: ‘mistral-7B-v0.3.tar’\n",
            "\n",
            "mistral-7B-v0.3.tar 100%[===================>]  13.50G  40.5MB/s    in 6m 3s   \n",
            "\n",
            "2024-05-24 18:56:29 (38.1 MB/s) - ‘mistral-7B-v0.3.tar’ saved [14496675840/14496675840]\n",
            "\n"
          ]
        }
      ]
    },
    {
      "source": [
        "!wget -P /content/drive/MyDrive/Colab_Projects/mistral-finetune/mistral_models/ https://models.mistralcdn.com/mistral-7b-v0-3/mistral-7B-v0.3.tar"
      ],
      "cell_type": "code",
      "metadata": {
        "colab": {
          "base_uri": "https://localhost:8080/"
        },
        "id": "LWEyNKs5OoQ4",
        "outputId": "b8fdac02-9a62-4003-dd6e-bdaeeec8c06d"
      },
      "execution_count": null,
      "outputs": [
        {
          "output_type": "stream",
          "name": "stdout",
          "text": [
            "--2025-01-08 23:42:16--  https://models.mistralcdn.com/mistral-7b-v0-3/mistral-7B-v0.3.tar\n",
            "Resolving models.mistralcdn.com (models.mistralcdn.com)... 104.26.6.117, 104.26.7.117, 172.67.70.68, ...\n",
            "Connecting to models.mistralcdn.com (models.mistralcdn.com)|104.26.6.117|:443... connected.\n",
            "HTTP request sent, awaiting response... 200 OK\n",
            "Length: 14496675840 (14G) [application/x-tar]\n",
            "Saving to: ‘/content/drive/MyDrive/Colab_Projects/mistral-finetune/mistral_models/mistral-7B-v0.3.tar’\n",
            "\n",
            "mistral-7B-v0.3.tar 100%[===================>]  13.50G  25.6MB/s    in 10m 54s \n",
            "\n",
            "2025-01-08 23:53:11 (21.1 MB/s) - ‘/content/drive/MyDrive/Colab_Projects/mistral-finetune/mistral_models/mistral-7B-v0.3.tar’ saved [14496675840/14496675840]\n",
            "\n"
          ]
        }
      ]
    },
    {
      "cell_type": "code",
      "source": [
        "!DIR=/content/drive/MyDrive/Colab_Projects/mistral-finetune/mistral_models && tar -xf /content/drive/MyDrive/Colab_Projects/mistral-finetune/mistral_models/mistral-7B-v0.3.tar -C $DIR"
      ],
      "metadata": {
        "id": "IgJWR-fReilz"
      },
      "execution_count": null,
      "outputs": []
    },
    {
      "cell_type": "code",
      "source": [
        "# Alternatively, you can download the model from Hugging Face\n",
        "\n",
        "# !pip install huggingface_hub\n",
        "# from huggingface_hub import snapshot_download\n",
        "# from pathlib import Path\n",
        "\n",
        "# mistral_models_path = Path.home().joinpath('mistral_models', '7B-v0.3')\n",
        "# mistral_models_path.mkdir(parents=True, exist_ok=True)\n",
        "\n",
        "# snapshot_download(repo_id=\"mistralai/Mistral-7B-v0.3\", allow_patterns=[\"params.json\", \"consolidated.safetensors\", \"tokenizer.model.v3\"], local_dir=mistral_models_path)\n",
        "\n",
        "#! cp -r /root/mistral_models/7B-v0.3 /content/mistral_models\n",
        "#! rm -r /root/mistral_models/7B-v0.3"
      ],
      "metadata": {
        "colab": {
          "base_uri": "https://localhost:8080/",
          "height": 163,
          "referenced_widgets": [
            "c06bbba05e10462d993f3e7e6f932cf1",
            "6f734c35284341d891a44694ddc55b2c",
            "193be53200ab436a967f1ea4807053e2",
            "85a2415f14284237875b349b4c414e21",
            "3ab931b2fcc0493ca71923ebc37127c7",
            "f49472d0536f4011be17902f9e827807",
            "2f341cb76f254d0da913faec6a82f762",
            "24ebf383723f4de494f9808b41222751",
            "0c17aa90672046c9bd2f293b1a998b46",
            "af89033247b34da2a5cded73b0beade2",
            "0ea5f5e6ab26484ab22dcf5576f796d1",
            "946ce9afeddb4da5a36e81e5ada9d957",
            "95782b84af1c4014ae04c9e6c9131cbe",
            "2332101edec848219c3b0c6026c2a722",
            "a2638b3f10a24de99bb940dcd150ab53",
            "1c78955b41ba4845931a250f16b753b5",
            "148a8c3e4fad4cefa16a478a9758fdc5",
            "92ef027f2cc940b5b09521328de550b0",
            "1a3d2764c7fc41dcb97489e84c28093e",
            "c7b6155f0f844c67b3a2b805570fd6f9",
            "1eec374aa3414838a9b41e5db1fefd50",
            "6fc8cf7aa81c4043878ac854b289dbe3",
            "b1aab1a3b5914048962a6d7d63401425",
            "10fe81122e6442f28608766d90749790",
            "f7e72f0a87bc421b82a59ae9ad33a4cb",
            "2188b8f9491b4d3e8861e40e7c4f6a46",
            "b3bf1880a5844f8c89096ced830fc954",
            "7e0495ffdeb74675847e5e4c2104cc34",
            "3e0e828a21f24944b68a66eafb52f62b",
            "ee07a8e2427c4fc9bd09b27ad11e968a",
            "d35818e4f9454d26aa475826e08ea4f0",
            "e3f7c4fea8494af2a473cf61adccf270",
            "7e18402efdb34d708b7917964ac791de",
            "1442445cdf89487784d4a39919fec6bf",
            "2ff8ebe8d132411585a05b852362c406",
            "ef719bb991714d91a365226c5a2ca9df",
            "1727f9b019e9477282d010e96b7dd4c3",
            "f82b841d7e5b45229119bd3195e5b12f",
            "feb470b16b4249daaa19c1344d036f0a",
            "2cc30eef6d7b46d283fcfd0e7abca6ea",
            "83b554bec0fd40dd9bd9e4601f2f98a3",
            "1c19998de61c4e2dad6647fdc4ca4358",
            "25df0dd9481a4e0ba21d2f4f4ffdba2e",
            "cbf620ae5196446c84528feaed64ae6a"
          ]
        },
        "id": "qgjAADBFHB0S",
        "outputId": "6dd98910-36fd-4dc1-c5b8-77bb4c104e05"
      },
      "execution_count": null,
      "outputs": [
        {
          "output_type": "display_data",
          "data": {
            "text/plain": [
              "Fetching 3 files:   0%|          | 0/3 [00:00<?, ?it/s]"
            ],
            "application/vnd.jupyter.widget-view+json": {
              "version_major": 2,
              "version_minor": 0,
              "model_id": "c06bbba05e10462d993f3e7e6f932cf1"
            }
          },
          "metadata": {}
        },
        {
          "output_type": "display_data",
          "data": {
            "text/plain": [
              "tokenizer.model.v3:   0%|          | 0.00/587k [00:00<?, ?B/s]"
            ],
            "application/vnd.jupyter.widget-view+json": {
              "version_major": 2,
              "version_minor": 0,
              "model_id": "946ce9afeddb4da5a36e81e5ada9d957"
            }
          },
          "metadata": {}
        },
        {
          "output_type": "display_data",
          "data": {
            "text/plain": [
              "params.json:   0%|          | 0.00/202 [00:00<?, ?B/s]"
            ],
            "application/vnd.jupyter.widget-view+json": {
              "version_major": 2,
              "version_minor": 0,
              "model_id": "b1aab1a3b5914048962a6d7d63401425"
            }
          },
          "metadata": {}
        },
        {
          "output_type": "display_data",
          "data": {
            "text/plain": [
              "consolidated.safetensors:   0%|          | 0.00/14.5G [00:00<?, ?B/s]"
            ],
            "application/vnd.jupyter.widget-view+json": {
              "version_major": 2,
              "version_minor": 0,
              "model_id": "1442445cdf89487784d4a39919fec6bf"
            }
          },
          "metadata": {}
        },
        {
          "output_type": "execute_result",
          "data": {
            "text/plain": [
              "'/root/mistral_models/7B-v0.3'"
            ],
            "application/vnd.google.colaboratory.intrinsic+json": {
              "type": "string"
            }
          },
          "metadata": {},
          "execution_count": 7
        }
      ]
    },
    {
      "cell_type": "code",
      "source": [
        "!ls /content/drive/MyDrive/Colab_Projects/mistral-finetune/mistral_models/"
      ],
      "metadata": {
        "colab": {
          "base_uri": "https://localhost:8080/"
        },
        "id": "3PxYGmcy4gu0",
        "outputId": "e5ad69b9-d66a-4fbb-f046-df262761177e"
      },
      "execution_count": null,
      "outputs": [
        {
          "output_type": "stream",
          "name": "stdout",
          "text": [
            "consolidated.safetensors  mistral-7B-v0.3.tar  params.json  tokenizer.model.v3\n"
          ]
        }
      ]
    },
    {
      "cell_type": "markdown",
      "source": [
        "## Prepare dataset\n",
        "\n",
        "To ensure effective training, mistral-finetune has strict requirements for how the training data has to be formatted. Check out the required data formatting [here](https://github.com/mistralai/mistral-finetune/tree/main?tab=readme-ov-file#prepare-dataset).\n",
        "\n",
        "In this example, let’s use the ultrachat_200k dataset. We load a chunk of the data into Pandas Dataframes, split the data into training and validation, and save the data into the required `jsonl` format for fine-tuning."
      ],
      "metadata": {
        "id": "ams-19wF8zgY"
      }
    },
    {
      "cell_type": "code",
      "source": [
        "%cd /content/drive/MyDrive/Colab_Projects/mistral-finetune/"
      ],
      "metadata": {
        "colab": {
          "base_uri": "https://localhost:8080/"
        },
        "id": "T33N2SwCIhEl",
        "outputId": "a78e0e39-b123-4f72-a60d-427a189d67ba"
      },
      "execution_count": null,
      "outputs": [
        {
          "output_type": "stream",
          "name": "stdout",
          "text": [
            "/content/drive/MyDrive/Colab_Projects/mistral-finetune\n"
          ]
        }
      ]
    },
    {
      "cell_type": "code",
      "source": [
        "# make a new directory called data\n",
        "!mkdir -p data"
      ],
      "metadata": {
        "id": "i7bmgXvG1vUq"
      },
      "execution_count": null,
      "outputs": []
    },
    {
      "cell_type": "code",
      "source": [
        "# navigate to this data directory\n",
        "%cd /content/drive/MyDrive/Colab_Projects/mistral-finetune/data"
      ],
      "metadata": {
        "colab": {
          "base_uri": "https://localhost:8080/"
        },
        "id": "Br2czKwwFLE8",
        "outputId": "4a6ac0e7-c105-49b6-f687-47ef1ba37db3"
      },
      "execution_count": null,
      "outputs": [
        {
          "output_type": "stream",
          "name": "stdout",
          "text": [
            "/content/drive/MyDrive/Colab_Projects/mistral-finetune/data\n"
          ]
        }
      ]
    },
    {
      "cell_type": "code",
      "source": [
        "# read data into a pandas dataframe\n",
        "import pandas as pd\n",
        "\n",
        "df = pd.read_parquet('https://huggingface.co/datasets/HuggingFaceH4/ultrachat_200k/resolve/main/data/test_gen-00000-of-00001-3d4cd8309148a71f.parquet')"
      ],
      "metadata": {
        "id": "RVF8VqU110sB"
      },
      "execution_count": null,
      "outputs": []
    },
    {
      "cell_type": "code",
      "source": [
        "# split data into training and evaluation\n",
        "df_train=df.sample(frac=0.95,random_state=200)\n",
        "df_eval=df.drop(df_train.index)"
      ],
      "metadata": {
        "id": "Qog1ZEUn12KQ"
      },
      "execution_count": null,
      "outputs": []
    },
    {
      "cell_type": "code",
      "source": [
        "# save data into .jsonl files\n",
        "df_train.to_json(\"ultrachat_chunk_train.jsonl\", orient=\"records\", lines=True)\n",
        "df_eval.to_json(\"ultrachat_chunk_eval.jsonl\", orient=\"records\", lines=True)"
      ],
      "metadata": {
        "id": "I4Yb3NJp13sG"
      },
      "execution_count": null,
      "outputs": []
    },
    {
      "cell_type": "code",
      "source": [
        "!ls /content/drive/MyDrive/Colab_Projects/mistral-finetune/data"
      ],
      "metadata": {
        "colab": {
          "base_uri": "https://localhost:8080/"
        },
        "id": "Rc9q_g7EFQLf",
        "outputId": "064c5b2e-54a2-4c69-aa19-4caa775ecfc6"
      },
      "execution_count": null,
      "outputs": [
        {
          "output_type": "stream",
          "name": "stdout",
          "text": [
            "ultrachat_chunk_eval.jsonl  ultrachat_chunk_train.jsonl\n"
          ]
        }
      ]
    },
    {
      "cell_type": "code",
      "source": [
        "# navigate to the mistral-finetune directory\n",
        "%cd /content/drive/MyDrive/Colab_Projects/mistral-finetune/"
      ],
      "metadata": {
        "colab": {
          "base_uri": "https://localhost:8080/"
        },
        "id": "YIK0VFXHIn8r",
        "outputId": "35811283-20d3-4192-95ea-d89a8b116b7e"
      },
      "execution_count": null,
      "outputs": [
        {
          "output_type": "stream",
          "name": "stdout",
          "text": [
            "/content/drive/MyDrive/Colab_Projects/mistral-finetune\n"
          ]
        }
      ]
    },
    {
      "cell_type": "code",
      "source": [
        "# some of the training data doesn't have the right format,\n",
        "# so we need to reformat the data into the correct format and skip the cases that doesn't have the right format:\n",
        "\n",
        "!python -m utils.reformat_data /content/drive/MyDrive/Colab_Projects/mistral-finetune/data/ultrachat_chunk_train.jsonl"
      ],
      "metadata": {
        "colab": {
          "base_uri": "https://localhost:8080/"
        },
        "id": "vLHNxpN4GS3i",
        "outputId": "dc77a72b-a12b-4433-82fa-94689043a491"
      },
      "execution_count": null,
      "outputs": [
        {
          "output_type": "stream",
          "name": "stdout",
          "text": [
            "Skipped 3674th sample\n",
            "Skipped 9176th sample\n",
            "Skipped 10559th sample\n",
            "Skipped 13293th sample\n",
            "Skipped 13973th sample\n",
            "Skipped 15219th sample\n"
          ]
        }
      ]
    },
    {
      "cell_type": "code",
      "source": [
        "# eval data looks all good\n",
        "!python -m utils.reformat_data /content/drive/MyDrive/Colab_Projects/mistral-finetune/data/ultrachat_chunk_eval.jsonl"
      ],
      "metadata": {
        "id": "RscZFo7tGvzS"
      },
      "execution_count": null,
      "outputs": []
    },
    {
      "cell_type": "code",
      "source": [
        "# Now you can verify your training yaml to make sure the data is correctly formatted and to get an estimate of your training time.\n",
        "\n",
        "!python -m utils.validate_data --train_yaml /content/drive/MyDrive/Colab_Projects/mistral-finetune/example/7B.yaml\n"
      ],
      "metadata": {
        "id": "fqhyigF8XVUE",
        "outputId": "7a7fe8a8-ab00-4d27-f76c-082ca2b24a2b",
        "colab": {
          "base_uri": "https://localhost:8080/"
        }
      },
      "execution_count": null,
      "outputs": [
        {
          "output_type": "stream",
          "name": "stdout",
          "text": [
            "Traceback (most recent call last):\n",
            "  File \"/usr/lib/python3.10/runpy.py\", line 196, in _run_module_as_main\n",
            "    return _run_code(code, main_globals, None,\n",
            "  File \"/usr/lib/python3.10/runpy.py\", line 86, in _run_code\n",
            "    exec(code, run_globals)\n",
            "  File \"/content/drive/MyDrive/Colab_Projects/mistral-finetune/utils/validate_data.py\", line 372, in <module>\n",
            "    main(args)\n",
            "  File \"/content/drive/MyDrive/Colab_Projects/mistral-finetune/utils/validate_data.py\", line 179, in main\n",
            "    datasets, weights = parse_data_sources(pretrain_file, instruct_file)\n",
            "  File \"/content/drive/MyDrive/Colab_Projects/mistral-finetune/finetune/data/dataset.py\", line 159, in parse_data_sources\n",
            "    assert min(n_weights) > 0\n",
            "ValueError: min() arg is an empty sequence\n"
          ]
        }
      ]
    },
    {
      "cell_type": "markdown",
      "source": [
        "## Start training"
      ],
      "metadata": {
        "id": "Hia7n0T1_mHZ"
      }
    },
    {
      "cell_type": "code",
      "source": [
        "# these info is needed for training\n",
        "import os\n",
        "os.environ[\"CUDA_DEVICE_ORDER\"]=\"PCI_BUS_ID\"\n",
        "os.environ[\"CUDA_VISIBLE_DEVICES\"]=\"0\""
      ],
      "metadata": {
        "id": "ZtcLerooWFeB"
      },
      "execution_count": null,
      "outputs": []
    },
    {
      "cell_type": "code",
      "source": [
        "# define training configuration\n",
        "# for your own use cases, you might want to change the data paths, model path, run_dir, and other hyperparameters\n",
        "\n",
        "config = \"\"\"\n",
        "# data\n",
        "data:\n",
        "  instruct_data: \"/content/drive/MyDrive/Colab_Projects/mistral-finetune/data/ultrachat_chunk_train.jsonl\"  # Fill\n",
        "  data: \"\"  # Optionally fill with pretraining data\n",
        "  eval_instruct_data: \"/content/drive/MyDrive/Colab_Projects/mistral-finetune/data/ultrachat_chunk_eval.jsonl\"  # Optionally fill\n",
        "\n",
        "# model\n",
        "model_id_or_path: \"/content/drive/MyDrive/Colab_Projects/mistral-finetune/mistral_models\"  # Change to downloaded path\n",
        "lora:\n",
        "  rank: 64\n",
        "\n",
        "# optim\n",
        "# tokens per training steps = batch_size x num_GPUs x seq_len\n",
        "# we recommend sequence lentgh of 32768\n",
        "# If you run into memory error, you can try reduce the sequence length\n",
        "seq_len: 8192\n",
        "batch_size: 1\n",
        "num_microbatches: 8\n",
        "max_steps: 100\n",
        "optim:\n",
        "  lr: 1.e-4\n",
        "  weight_decay: 0.1\n",
        "  pct_start: 0.05\n",
        "\n",
        "# other\n",
        "seed: 0\n",
        "log_freq: 1\n",
        "eval_freq: 100\n",
        "no_eval: False\n",
        "ckpt_freq: 100\n",
        "\n",
        "save_adapters: True  # save only trained LoRA adapters. Set to `False` to merge LoRA adapter into the base model and save full fine-tuned model\n",
        "\n",
        "run_dir: \"/content/drive/MyDrive/Colab_Projects/mistral-finetune/test_ultra\"  # Fill\n",
        "\"\"\"\n",
        "\n",
        "# save the same file locally into the example.yaml file\n",
        "import yaml\n",
        "with open('example.yaml', 'w') as file:\n",
        "    yaml.dump(yaml.safe_load(config), file)\n"
      ],
      "metadata": {
        "id": "5dxTlIQMaJGv"
      },
      "execution_count": null,
      "outputs": []
    },
    {
      "cell_type": "code",
      "source": [
        "# make sure the run_dir has not been created before\n",
        "# only run this when you ran torchrun previously and created the /content/drive/MyDrive/Colab_Projects/mistral-finetune/test_ultra file\n",
        "# ! rm -r /content/drive/MyDrive/Colab_Projects/mistral-finetune/test_ultra"
      ],
      "metadata": {
        "id": "ErD1ktQUMyPZ"
      },
      "execution_count": null,
      "outputs": []
    },
    {
      "cell_type": "code",
      "source": [
        "# start training\n",
        "\n",
        "!torchrun --nproc-per-node 1 -m train example.yaml"
      ],
      "metadata": {
        "colab": {
          "base_uri": "https://localhost:8080/"
        },
        "id": "e4wFgmwIUTtg",
        "outputId": "d028d90e-7057-43e4-cd29-8f805b7736b9"
      },
      "execution_count": null,
      "outputs": [
        {
          "output_type": "stream",
          "name": "stdout",
          "text": [
            "2025-01-09 00:21:56.101069: I tensorflow/core/util/port.cc:153] oneDNN custom operations are on. You may see slightly different numerical results due to floating-point round-off errors from different computation orders. To turn them off, set the environment variable `TF_ENABLE_ONEDNN_OPTS=0`.\n",
            "2025-01-09 00:21:56.120439: E external/local_xla/xla/stream_executor/cuda/cuda_fft.cc:485] Unable to register cuFFT factory: Attempting to register factory for plugin cuFFT when one has already been registered\n",
            "2025-01-09 00:21:56.142671: E external/local_xla/xla/stream_executor/cuda/cuda_dnn.cc:8454] Unable to register cuDNN factory: Attempting to register factory for plugin cuDNN when one has already been registered\n",
            "2025-01-09 00:21:56.149399: E external/local_xla/xla/stream_executor/cuda/cuda_blas.cc:1452] Unable to register cuBLAS factory: Attempting to register factory for plugin cuBLAS when one has already been registered\n",
            "2025-01-09 00:21:56.167225: I tensorflow/core/platform/cpu_feature_guard.cc:210] This TensorFlow binary is optimized to use available CPU instructions in performance-critical operations.\n",
            "To enable the following instructions: AVX2 AVX512F AVX512_VNNI FMA, in other operations, rebuild TensorFlow with the appropriate compiler flags.\n",
            "2025-01-09 00:21:57.405018: W tensorflow/compiler/tf2tensorrt/utils/py_utils.cc:38] TF-TRT Warning: Could not find TensorRT\n",
            "args: TrainArgs(data=DataArgs(data='', shuffle=False, instruct_data='/content/drive/MyDrive/Colab_Projects/mistral-finetune/data/ultrachat_chunk_train.jsonl', eval_instruct_data='/content/drive/MyDrive/Colab_Projects/mistral-finetune/data/ultrachat_chunk_eval.jsonl', instruct=InstructArgs(shuffle=True, dynamic_chunk_fn_call=True)), model_id_or_path='/content/drive/MyDrive/Colab_Projects/mistral-finetune/mistral_models', run_dir='/content/drive/MyDrive/Colab_Projects/mistral-finetune/test_ultra', optim=OptimArgs(lr=0.0001, weight_decay=0.1, pct_start=0.05), seed=0, num_microbatches=8, seq_len=8192, batch_size=1, max_norm=1.0, max_steps=100, log_freq=1, ckpt_freq=100, save_adapters=True, no_ckpt=False, num_ckpt_keep=3, eval_freq=100, no_eval=False, checkpoint=True, world_size=1, wandb=WandbArgs(project=None, offline=False, key=None, run_name=None), mlflow=MLFlowArgs(tracking_uri=None, experiment_name=None), lora=LoraArgs(enable=True, rank=64, dropout=0.0, scaling=2.0))\n",
            "2025-01-09 00:21:58 (UTC) - 0:00:09 - distributed - INFO - torch.cuda.device_count: 1\n",
            "2025-01-09 00:21:58 (UTC) - 0:00:09 - distributed - INFO - CUDA_VISIBLE_DEVICES: 0\n",
            "2025-01-09 00:21:58 (UTC) - 0:00:09 - distributed - INFO - local rank: 0\n",
            "2025-01-09 00:21:58 (UTC) - 0:00:09 - train - INFO - Going to init comms...\n",
            "2025-01-09 00:21:58 (UTC) - 0:00:09 - train - INFO - Run dir: /content/drive/MyDrive/Colab_Projects/mistral-finetune/test_ultra\n",
            "2025-01-09 00:21:59 (UTC) - 0:00:10 - train - INFO - TrainArgs: {'batch_size': 1,\n",
            " 'checkpoint': True,\n",
            " 'ckpt_freq': 100,\n",
            " 'data': {'data': '',\n",
            "          'eval_instruct_data': '/content/drive/MyDrive/Colab_Projects/mistral-finetune/data/ultrachat_chunk_eval.jsonl',\n",
            "          'instruct': {'dynamic_chunk_fn_call': True, 'shuffle': True},\n",
            "          'instruct_data': '/content/drive/MyDrive/Colab_Projects/mistral-finetune/data/ultrachat_chunk_train.jsonl',\n",
            "          'shuffle': False},\n",
            " 'eval_freq': 100,\n",
            " 'log_freq': 1,\n",
            " 'lora': {'dropout': 0.0, 'enable': True, 'rank': 64, 'scaling': 2.0},\n",
            " 'max_norm': 1.0,\n",
            " 'max_steps': 100,\n",
            " 'mlflow': {'experiment_name': None, 'tracking_uri': None},\n",
            " 'model_id_or_path': '/content/drive/MyDrive/Colab_Projects/mistral-finetune/mistral_models',\n",
            " 'no_ckpt': False,\n",
            " 'no_eval': False,\n",
            " 'num_ckpt_keep': 3,\n",
            " 'num_microbatches': 8,\n",
            " 'optim': {'lr': 0.0001, 'pct_start': 0.05, 'weight_decay': 0.1},\n",
            " 'run_dir': '/content/drive/MyDrive/Colab_Projects/mistral-finetune/test_ultra',\n",
            " 'save_adapters': True,\n",
            " 'seed': 0,\n",
            " 'seq_len': 8192,\n",
            " 'wandb': {'key': None, 'offline': False, 'project': None, 'run_name': None},\n",
            " 'world_size': 1}\n",
            "2025-01-09 00:22:03 (UTC) - 0:00:14 - finetune.wrapped_model - INFO - Reloading model from /content/drive/MyDrive/Colab_Projects/mistral-finetune/mistral_models/consolidated.safetensors ...\n",
            "2025-01-09 00:22:05 (UTC) - 0:00:16 - finetune.wrapped_model - INFO - Converting model to dtype torch.bfloat16 ...\n",
            "2025-01-09 00:22:05 (UTC) - 0:00:16 - finetune.wrapped_model - INFO - Loaded model on cpu!\n",
            "2025-01-09 00:22:05 (UTC) - 0:00:16 - finetune.wrapped_model - INFO - Initializing lora layers ...\n",
            "2025-01-09 00:22:06 (UTC) - 0:00:17 - finetune.wrapped_model - INFO - Finished initialization!\n",
            "2025-01-09 00:22:06 (UTC) - 0:00:17 - finetune.wrapped_model - INFO - Sharding model over 1 GPUs ...\n",
            "2025-01-09 00:22:18 (UTC) - 0:00:29 - finetune.wrapped_model - INFO - Model sharded!\n",
            "2025-01-09 00:22:18 (UTC) - 0:00:29 - finetune.wrapped_model - INFO - 167,772,160 out of 7,415,795,712 parameters are finetuned (2.26%).\n",
            "2025-01-09 00:22:19 (UTC) - 0:00:30 - dataset - INFO - Loading /content/drive/MyDrive/Colab_Projects/mistral-finetune/data/ultrachat_chunk_train.jsonl ...\n",
            "2025-01-09 00:23:53 (UTC) - 0:02:04 - dataset - INFO - /content/drive/MyDrive/Colab_Projects/mistral-finetune/data/ultrachat_chunk_train.jsonl loaded and tokenized.\n",
            "2025-01-09 00:23:53 (UTC) - 0:02:04 - dataset - INFO - Shuffling /content/drive/MyDrive/Colab_Projects/mistral-finetune/data/ultrachat_chunk_train.jsonl ...\n",
            "2025-01-09 00:24:13 (UTC) - 0:02:24 - train - INFO - step: 000001 - done (%): 1.0 - loss: 0.874 - lr: 4.0e-06 - peak_alloc_mem (GB): 21.0 - alloc_mem (GB): 17.1 - words_per_second: 574.3 - avg_words_per_second: 574.3 - ETA: >2025-01-09 03:32:31\n",
            "2025-01-09 00:24:31 (UTC) - 0:02:42 - train - INFO - step: 000002 - done (%): 2.0 - loss: 0.905 - lr: 1.8e-05 - peak_alloc_mem (GB): 22.2 - alloc_mem (GB): 17.1 - words_per_second: 3603.3 - avg_words_per_second: 990.6 - ETA: >2025-01-09 02:12:34\n",
            "2025-01-09 00:24:49 (UTC) - 0:03:00 - train - INFO - step: 000003 - done (%): 3.0 - loss: 0.912 - lr: 5.2e-05 - peak_alloc_mem (GB): 22.2 - alloc_mem (GB): 17.1 - words_per_second: 3712.1 - avg_words_per_second: 1311.0 - ETA: >2025-01-09 01:45:37\n",
            "2025-01-09 00:25:07 (UTC) - 0:03:18 - train - INFO - step: 000004 - done (%): 4.0 - loss: 0.884 - lr: 8.6e-05 - peak_alloc_mem (GB): 22.2 - alloc_mem (GB): 17.1 - words_per_second: 3634.3 - avg_words_per_second: 1560.4 - ETA: >2025-01-09 01:32:19\n",
            "2025-01-09 00:25:25 (UTC) - 0:03:36 - train - INFO - step: 000005 - done (%): 5.0 - loss: 0.835 - lr: 1.0e-04 - peak_alloc_mem (GB): 22.2 - alloc_mem (GB): 17.1 - words_per_second: 3610.0 - avg_words_per_second: 1760.3 - ETA: >2025-01-09 01:24:22\n",
            "2025-01-09 00:25:42 (UTC) - 0:03:53 - train - INFO - step: 000006 - done (%): 6.0 - loss: 0.857 - lr: 1.0e-04 - peak_alloc_mem (GB): 22.2 - alloc_mem (GB): 17.1 - words_per_second: 3727.1 - avg_words_per_second: 1930.0 - ETA: >2025-01-09 01:18:54\n",
            "2025-01-09 00:26:01 (UTC) - 0:04:11 - train - INFO - step: 000007 - done (%): 7.0 - loss: 0.868 - lr: 1.0e-04 - peak_alloc_mem (GB): 22.2 - alloc_mem (GB): 17.1 - words_per_second: 3615.8 - avg_words_per_second: 2067.8 - ETA: >2025-01-09 01:15:08\n",
            "2025-01-09 00:26:18 (UTC) - 0:04:29 - train - INFO - step: 000008 - done (%): 8.0 - loss: 0.869 - lr: 1.0e-04 - peak_alloc_mem (GB): 22.2 - alloc_mem (GB): 17.1 - words_per_second: 3717.4 - avg_words_per_second: 2189.2 - ETA: >2025-01-09 01:12:12\n",
            "2025-01-09 00:26:36 (UTC) - 0:04:47 - train - INFO - step: 000009 - done (%): 9.0 - loss: 0.804 - lr: 1.0e-04 - peak_alloc_mem (GB): 22.2 - alloc_mem (GB): 17.1 - words_per_second: 3622.2 - avg_words_per_second: 2289.9 - ETA: >2025-01-09 01:10:01\n",
            "2025-01-09 00:26:54 (UTC) - 0:05:05 - train - INFO - step: 000010 - done (%): 10.0 - loss: 0.898 - lr: 9.9e-05 - peak_alloc_mem (GB): 22.2 - alloc_mem (GB): 17.1 - words_per_second: 3609.4 - avg_words_per_second: 2376.7 - ETA: >2025-01-09 01:08:16\n",
            "2025-01-09 00:27:12 (UTC) - 0:05:23 - train - INFO - step: 000011 - done (%): 11.0 - loss: 0.744 - lr: 9.9e-05 - peak_alloc_mem (GB): 22.2 - alloc_mem (GB): 17.1 - words_per_second: 3704.0 - avg_words_per_second: 2456.8 - ETA: >2025-01-09 01:06:46\n",
            "2025-01-09 00:27:30 (UTC) - 0:05:41 - train - INFO - step: 000012 - done (%): 12.0 - loss: 0.837 - lr: 9.9e-05 - peak_alloc_mem (GB): 22.2 - alloc_mem (GB): 17.1 - words_per_second: 3617.3 - avg_words_per_second: 2524.3 - ETA: >2025-01-09 01:05:35\n",
            "2025-01-09 00:27:48 (UTC) - 0:05:59 - train - INFO - step: 000013 - done (%): 13.0 - loss: 0.846 - lr: 9.8e-05 - peak_alloc_mem (GB): 22.2 - alloc_mem (GB): 17.1 - words_per_second: 3615.8 - avg_words_per_second: 2584.3 - ETA: >2025-01-09 01:04:35\n",
            "2025-01-09 00:28:06 (UTC) - 0:06:17 - train - INFO - step: 000014 - done (%): 14.0 - loss: 0.853 - lr: 9.8e-05 - peak_alloc_mem (GB): 22.2 - alloc_mem (GB): 17.1 - words_per_second: 3706.9 - avg_words_per_second: 2641.4 - ETA: >2025-01-09 01:03:40\n",
            "2025-01-09 00:28:24 (UTC) - 0:06:35 - train - INFO - step: 000015 - done (%): 15.0 - loss: 0.911 - lr: 9.7e-05 - peak_alloc_mem (GB): 22.2 - alloc_mem (GB): 17.1 - words_per_second: 3581.9 - avg_words_per_second: 2688.5 - ETA: >2025-01-09 01:02:56\n",
            "2025-01-09 00:28:42 (UTC) - 0:06:53 - train - INFO - step: 000016 - done (%): 16.0 - loss: 0.815 - lr: 9.7e-05 - peak_alloc_mem (GB): 22.2 - alloc_mem (GB): 17.1 - words_per_second: 3704.2 - avg_words_per_second: 2735.3 - ETA: >2025-01-09 01:02:15\n",
            "2025-01-09 00:29:00 (UTC) - 0:07:11 - train - INFO - step: 000017 - done (%): 17.0 - loss: 0.821 - lr: 9.6e-05 - peak_alloc_mem (GB): 22.2 - alloc_mem (GB): 17.1 - words_per_second: 3602.6 - avg_words_per_second: 2774.6 - ETA: >2025-01-09 01:01:41\n",
            "2025-01-09 00:29:18 (UTC) - 0:07:29 - train - INFO - step: 000018 - done (%): 18.0 - loss: 0.842 - lr: 9.5e-05 - peak_alloc_mem (GB): 22.2 - alloc_mem (GB): 17.1 - words_per_second: 3601.7 - avg_words_per_second: 2810.5 - ETA: >2025-01-09 01:01:11\n",
            "2025-01-09 00:29:36 (UTC) - 0:07:47 - train - INFO - step: 000019 - done (%): 19.0 - loss: 0.802 - lr: 9.5e-05 - peak_alloc_mem (GB): 22.2 - alloc_mem (GB): 17.1 - words_per_second: 3709.7 - avg_words_per_second: 2846.8 - ETA: >2025-01-09 01:00:41\n",
            "2025-01-09 00:29:54 (UTC) - 0:08:05 - train - INFO - step: 000020 - done (%): 20.0 - loss: 0.867 - lr: 9.4e-05 - peak_alloc_mem (GB): 22.2 - alloc_mem (GB): 17.1 - words_per_second: 3611.5 - avg_words_per_second: 2877.3 - ETA: >2025-01-09 01:00:16\n",
            "2025-01-09 00:30:12 (UTC) - 0:08:23 - train - INFO - step: 000021 - done (%): 21.0 - loss: 0.826 - lr: 9.3e-05 - peak_alloc_mem (GB): 22.2 - alloc_mem (GB): 17.1 - words_per_second: 3694.8 - avg_words_per_second: 2907.9 - ETA: >2025-01-09 00:59:52\n",
            "2025-01-09 00:30:30 (UTC) - 0:08:41 - train - INFO - step: 000022 - done (%): 22.0 - loss: 0.809 - lr: 9.2e-05 - peak_alloc_mem (GB): 22.2 - alloc_mem (GB): 17.1 - words_per_second: 3583.3 - avg_words_per_second: 2933.0 - ETA: >2025-01-09 00:59:33\n",
            "2025-01-09 00:30:48 (UTC) - 0:08:59 - train - INFO - step: 000023 - done (%): 23.0 - loss: 0.837 - lr: 9.1e-05 - peak_alloc_mem (GB): 22.2 - alloc_mem (GB): 17.1 - words_per_second: 3623.4 - avg_words_per_second: 2957.5 - ETA: >2025-01-09 00:59:15\n",
            "2025-01-09 00:31:06 (UTC) - 0:09:17 - train - INFO - step: 000024 - done (%): 24.0 - loss: 0.852 - lr: 9.0e-05 - peak_alloc_mem (GB): 22.2 - alloc_mem (GB): 17.1 - words_per_second: 3708.5 - avg_words_per_second: 2982.7 - ETA: >2025-01-09 00:58:56\n",
            "2025-01-09 00:31:24 (UTC) - 0:09:35 - train - INFO - step: 000025 - done (%): 25.0 - loss: 0.856 - lr: 8.9e-05 - peak_alloc_mem (GB): 22.2 - alloc_mem (GB): 17.1 - words_per_second: 3623.2 - avg_words_per_second: 3004.0 - ETA: >2025-01-09 00:58:40\n",
            "2025-01-09 00:31:42 (UTC) - 0:09:53 - train - INFO - step: 000026 - done (%): 26.0 - loss: 0.781 - lr: 8.8e-05 - peak_alloc_mem (GB): 22.2 - alloc_mem (GB): 17.1 - words_per_second: 3589.4 - avg_words_per_second: 3022.9 - ETA: >2025-01-09 00:58:27\n",
            "2025-01-09 00:32:00 (UTC) - 0:10:11 - train - INFO - step: 000027 - done (%): 27.0 - loss: 0.845 - lr: 8.7e-05 - peak_alloc_mem (GB): 22.2 - alloc_mem (GB): 17.1 - words_per_second: 3708.7 - avg_words_per_second: 3043.8 - ETA: >2025-01-09 00:58:12\n",
            "2025-01-09 00:32:18 (UTC) - 0:10:29 - train - INFO - step: 000028 - done (%): 28.0 - loss: 0.831 - lr: 8.6e-05 - peak_alloc_mem (GB): 22.2 - alloc_mem (GB): 17.1 - words_per_second: 3594.7 - avg_words_per_second: 3060.5 - ETA: >2025-01-09 00:58:00\n",
            "2025-01-09 00:32:36 (UTC) - 0:10:47 - train - INFO - step: 000029 - done (%): 29.0 - loss: 0.806 - lr: 8.5e-05 - peak_alloc_mem (GB): 22.2 - alloc_mem (GB): 17.1 - words_per_second: 3704.0 - avg_words_per_second: 3079.0 - ETA: >2025-01-09 00:57:47\n",
            "2025-01-09 00:32:54 (UTC) - 0:11:05 - train - INFO - step: 000030 - done (%): 30.0 - loss: 0.898 - lr: 8.4e-05 - peak_alloc_mem (GB): 22.2 - alloc_mem (GB): 17.1 - words_per_second: 3637.7 - avg_words_per_second: 3094.8 - ETA: >2025-01-09 00:57:36\n",
            "2025-01-09 00:33:12 (UTC) - 0:11:23 - train - INFO - step: 000031 - done (%): 31.0 - loss: 0.817 - lr: 8.3e-05 - peak_alloc_mem (GB): 22.2 - alloc_mem (GB): 17.1 - words_per_second: 3609.4 - avg_words_per_second: 3109.1 - ETA: >2025-01-09 00:57:27\n",
            "2025-01-09 00:33:30 (UTC) - 0:11:41 - train - INFO - step: 000032 - done (%): 32.0 - loss: 0.825 - lr: 8.1e-05 - peak_alloc_mem (GB): 22.2 - alloc_mem (GB): 17.1 - words_per_second: 3702.2 - avg_words_per_second: 3124.7 - ETA: >2025-01-09 00:57:16\n",
            "2025-01-09 00:33:48 (UTC) - 0:11:59 - train - INFO - step: 000033 - done (%): 33.0 - loss: 0.845 - lr: 8.0e-05 - peak_alloc_mem (GB): 22.2 - alloc_mem (GB): 17.1 - words_per_second: 3624.4 - avg_words_per_second: 3137.9 - ETA: >2025-01-09 00:57:07\n",
            "2025-01-09 00:34:06 (UTC) - 0:12:17 - train - INFO - step: 000034 - done (%): 34.0 - loss: 0.808 - lr: 7.9e-05 - peak_alloc_mem (GB): 22.2 - alloc_mem (GB): 17.1 - words_per_second: 3699.6 - avg_words_per_second: 3151.9 - ETA: >2025-01-09 00:56:58\n",
            "2025-01-09 00:34:24 (UTC) - 0:12:35 - train - INFO - step: 000035 - done (%): 35.0 - loss: 0.853 - lr: 7.7e-05 - peak_alloc_mem (GB): 22.2 - alloc_mem (GB): 17.1 - words_per_second: 3583.3 - avg_words_per_second: 3162.8 - ETA: >2025-01-09 00:56:51\n",
            "2025-01-09 00:34:42 (UTC) - 0:12:53 - train - INFO - step: 000036 - done (%): 36.0 - loss: 0.813 - lr: 7.6e-05 - peak_alloc_mem (GB): 22.2 - alloc_mem (GB): 17.1 - words_per_second: 3569.7 - avg_words_per_second: 3172.9 - ETA: >2025-01-09 00:56:44\n",
            "2025-01-09 00:35:00 (UTC) - 0:13:11 - train - INFO - step: 000037 - done (%): 37.0 - loss: 0.801 - lr: 7.5e-05 - peak_alloc_mem (GB): 22.2 - alloc_mem (GB): 17.1 - words_per_second: 3708.9 - avg_words_per_second: 3185.3 - ETA: >2025-01-09 00:56:36\n",
            "2025-01-09 00:35:18 (UTC) - 0:13:29 - train - INFO - step: 000038 - done (%): 38.0 - loss: 0.744 - lr: 7.3e-05 - peak_alloc_mem (GB): 22.2 - alloc_mem (GB): 17.1 - words_per_second: 3589.7 - avg_words_per_second: 3194.8 - ETA: >2025-01-09 00:56:30\n",
            "2025-01-09 00:35:37 (UTC) - 0:13:48 - train - INFO - step: 000039 - done (%): 39.0 - loss: 0.816 - lr: 7.2e-05 - peak_alloc_mem (GB): 22.2 - alloc_mem (GB): 17.1 - words_per_second: 3578.3 - avg_words_per_second: 3203.6 - ETA: >2025-01-09 00:56:25\n",
            "2025-01-09 00:35:54 (UTC) - 0:14:05 - train - INFO - step: 000040 - done (%): 40.0 - loss: 0.786 - lr: 7.0e-05 - peak_alloc_mem (GB): 22.2 - alloc_mem (GB): 17.1 - words_per_second: 3706.0 - avg_words_per_second: 3214.5 - ETA: >2025-01-09 00:56:18\n",
            "2025-01-09 00:36:13 (UTC) - 0:14:24 - train - INFO - step: 000041 - done (%): 41.0 - loss: 0.804 - lr: 6.9e-05 - peak_alloc_mem (GB): 22.2 - alloc_mem (GB): 17.1 - words_per_second: 3578.3 - avg_words_per_second: 3222.5 - ETA: >2025-01-09 00:56:13\n",
            "2025-01-09 00:36:30 (UTC) - 0:14:41 - train - INFO - step: 000042 - done (%): 42.0 - loss: 0.845 - lr: 6.7e-05 - peak_alloc_mem (GB): 22.2 - alloc_mem (GB): 17.1 - words_per_second: 3716.5 - avg_words_per_second: 3232.7 - ETA: >2025-01-09 00:56:06\n",
            "2025-01-09 00:36:49 (UTC) - 0:15:00 - train - INFO - step: 000043 - done (%): 43.0 - loss: 0.864 - lr: 6.5e-05 - peak_alloc_mem (GB): 22.2 - alloc_mem (GB): 17.1 - words_per_second: 3568.9 - avg_words_per_second: 3239.8 - ETA: >2025-01-09 00:56:02\n",
            "2025-01-09 00:37:07 (UTC) - 0:15:18 - train - INFO - step: 000044 - done (%): 44.0 - loss: 0.862 - lr: 6.4e-05 - peak_alloc_mem (GB): 22.2 - alloc_mem (GB): 17.1 - words_per_second: 3614.7 - avg_words_per_second: 3247.4 - ETA: >2025-01-09 00:55:57\n",
            "2025-01-09 00:37:24 (UTC) - 0:15:35 - train - INFO - step: 000045 - done (%): 45.0 - loss: 0.862 - lr: 6.2e-05 - peak_alloc_mem (GB): 22.2 - alloc_mem (GB): 17.1 - words_per_second: 3708.2 - avg_words_per_second: 3256.4 - ETA: >2025-01-09 00:55:51\n",
            "2025-01-09 00:37:43 (UTC) - 0:15:54 - train - INFO - step: 000046 - done (%): 46.0 - loss: 0.829 - lr: 6.1e-05 - peak_alloc_mem (GB): 22.2 - alloc_mem (GB): 17.1 - words_per_second: 3604.0 - avg_words_per_second: 3263.3 - ETA: >2025-01-09 00:55:47\n",
            "2025-01-09 00:38:00 (UTC) - 0:16:11 - train - INFO - step: 000047 - done (%): 47.0 - loss: 0.813 - lr: 5.9e-05 - peak_alloc_mem (GB): 22.2 - alloc_mem (GB): 17.1 - words_per_second: 3716.1 - avg_words_per_second: 3271.8 - ETA: >2025-01-09 00:55:42\n",
            "2025-01-09 00:38:19 (UTC) - 0:16:29 - train - INFO - step: 000048 - done (%): 48.0 - loss: 0.818 - lr: 5.7e-05 - peak_alloc_mem (GB): 22.2 - alloc_mem (GB): 17.1 - words_per_second: 3595.4 - avg_words_per_second: 3277.9 - ETA: >2025-01-09 00:55:38\n",
            "2025-01-09 00:38:37 (UTC) - 0:16:48 - train - INFO - step: 000049 - done (%): 49.0 - loss: 0.817 - lr: 5.6e-05 - peak_alloc_mem (GB): 22.2 - alloc_mem (GB): 17.1 - words_per_second: 3615.9 - avg_words_per_second: 3284.2 - ETA: >2025-01-09 00:55:34\n",
            "2025-01-09 00:38:54 (UTC) - 0:17:05 - train - INFO - step: 000050 - done (%): 50.0 - loss: 0.888 - lr: 5.4e-05 - peak_alloc_mem (GB): 22.2 - alloc_mem (GB): 17.1 - words_per_second: 3709.4 - avg_words_per_second: 3291.7 - ETA: >2025-01-09 00:55:30\n",
            "2025-01-09 00:39:12 (UTC) - 0:17:23 - train - INFO - step: 000051 - done (%): 51.0 - loss: 0.777 - lr: 5.2e-05 - peak_alloc_mem (GB): 22.2 - alloc_mem (GB): 17.1 - words_per_second: 3624.0 - avg_words_per_second: 3297.6 - ETA: >2025-01-09 00:55:26\n",
            "2025-01-09 00:39:31 (UTC) - 0:17:42 - train - INFO - step: 000052 - done (%): 52.0 - loss: 0.805 - lr: 5.1e-05 - peak_alloc_mem (GB): 22.2 - alloc_mem (GB): 17.1 - words_per_second: 3602.3 - avg_words_per_second: 3303.0 - ETA: >2025-01-09 00:55:23\n",
            "2025-01-09 00:39:48 (UTC) - 0:17:59 - train - INFO - step: 000053 - done (%): 53.0 - loss: 0.799 - lr: 4.9e-05 - peak_alloc_mem (GB): 22.2 - alloc_mem (GB): 17.1 - words_per_second: 3711.5 - avg_words_per_second: 3309.9 - ETA: >2025-01-09 00:55:19\n",
            "2025-01-09 00:40:07 (UTC) - 0:18:17 - train - INFO - step: 000054 - done (%): 54.0 - loss: 0.804 - lr: 4.8e-05 - peak_alloc_mem (GB): 22.2 - alloc_mem (GB): 17.1 - words_per_second: 3596.9 - avg_words_per_second: 3314.8 - ETA: >2025-01-09 00:55:16\n",
            "2025-01-09 00:40:24 (UTC) - 0:18:35 - train - INFO - step: 000055 - done (%): 55.0 - loss: 0.855 - lr: 4.6e-05 - peak_alloc_mem (GB): 22.2 - alloc_mem (GB): 17.1 - words_per_second: 3713.9 - avg_words_per_second: 3321.3 - ETA: >2025-01-09 00:55:12\n",
            "2025-01-09 00:40:42 (UTC) - 0:18:53 - train - INFO - step: 000056 - done (%): 56.0 - loss: 0.819 - lr: 4.4e-05 - peak_alloc_mem (GB): 22.2 - alloc_mem (GB): 17.1 - words_per_second: 3637.0 - avg_words_per_second: 3326.4 - ETA: >2025-01-09 00:55:09\n",
            "2025-01-09 00:41:00 (UTC) - 0:19:11 - train - INFO - step: 000057 - done (%): 57.0 - loss: 0.844 - lr: 4.3e-05 - peak_alloc_mem (GB): 22.2 - alloc_mem (GB): 17.1 - words_per_second: 3604.7 - avg_words_per_second: 3330.9 - ETA: >2025-01-09 00:55:06\n",
            "2025-01-09 00:41:18 (UTC) - 0:19:29 - train - INFO - step: 000058 - done (%): 58.0 - loss: 0.840 - lr: 4.1e-05 - peak_alloc_mem (GB): 22.2 - alloc_mem (GB): 17.1 - words_per_second: 3716.9 - avg_words_per_second: 3336.9 - ETA: >2025-01-09 00:55:03\n",
            "2025-01-09 00:41:36 (UTC) - 0:19:47 - train - INFO - step: 000059 - done (%): 59.0 - loss: 0.836 - lr: 3.9e-05 - peak_alloc_mem (GB): 22.2 - alloc_mem (GB): 17.1 - words_per_second: 3633.4 - avg_words_per_second: 3341.5 - ETA: >2025-01-09 00:55:00\n",
            "2025-01-09 00:41:54 (UTC) - 0:20:05 - train - INFO - step: 000060 - done (%): 60.0 - loss: 0.852 - lr: 3.8e-05 - peak_alloc_mem (GB): 22.2 - alloc_mem (GB): 17.1 - words_per_second: 3713.4 - avg_words_per_second: 3347.1 - ETA: >2025-01-09 00:54:57\n",
            "2025-01-09 00:42:12 (UTC) - 0:20:23 - train - INFO - step: 000061 - done (%): 61.0 - loss: 0.837 - lr: 3.6e-05 - peak_alloc_mem (GB): 22.2 - alloc_mem (GB): 17.1 - words_per_second: 3594.4 - avg_words_per_second: 3350.9 - ETA: >2025-01-09 00:54:55\n",
            "2025-01-09 00:42:30 (UTC) - 0:20:41 - train - INFO - step: 000062 - done (%): 62.0 - loss: 0.839 - lr: 3.5e-05 - peak_alloc_mem (GB): 22.2 - alloc_mem (GB): 17.1 - words_per_second: 3591.3 - avg_words_per_second: 3354.5 - ETA: >2025-01-09 00:54:53\n",
            "2025-01-09 00:42:48 (UTC) - 0:20:59 - train - INFO - step: 000063 - done (%): 63.0 - loss: 0.813 - lr: 3.3e-05 - peak_alloc_mem (GB): 22.2 - alloc_mem (GB): 17.1 - words_per_second: 3707.1 - avg_words_per_second: 3359.6 - ETA: >2025-01-09 00:54:50\n",
            "2025-01-09 00:43:06 (UTC) - 0:21:17 - train - INFO - step: 000064 - done (%): 64.0 - loss: 0.784 - lr: 3.1e-05 - peak_alloc_mem (GB): 22.2 - alloc_mem (GB): 17.1 - words_per_second: 3597.4 - avg_words_per_second: 3363.1 - ETA: >2025-01-09 00:54:48\n",
            "2025-01-09 00:43:24 (UTC) - 0:21:35 - train - INFO - step: 000065 - done (%): 65.0 - loss: 0.797 - lr: 3.0e-05 - peak_alloc_mem (GB): 22.2 - alloc_mem (GB): 17.1 - words_per_second: 3567.4 - avg_words_per_second: 3366.0 - ETA: >2025-01-09 00:54:46\n",
            "2025-01-09 00:43:42 (UTC) - 0:21:53 - train - INFO - step: 000066 - done (%): 66.0 - loss: 0.787 - lr: 2.8e-05 - peak_alloc_mem (GB): 22.2 - alloc_mem (GB): 17.1 - words_per_second: 3714.3 - avg_words_per_second: 3370.8 - ETA: >2025-01-09 00:54:43\n",
            "2025-01-09 00:44:00 (UTC) - 0:22:11 - train - INFO - step: 000067 - done (%): 67.0 - loss: 0.902 - lr: 2.7e-05 - peak_alloc_mem (GB): 22.2 - alloc_mem (GB): 17.1 - words_per_second: 3585.1 - avg_words_per_second: 3373.8 - ETA: >2025-01-09 00:54:41\n",
            "2025-01-09 00:44:18 (UTC) - 0:22:29 - train - INFO - step: 000068 - done (%): 68.0 - loss: 0.784 - lr: 2.5e-05 - peak_alloc_mem (GB): 22.2 - alloc_mem (GB): 17.1 - words_per_second: 3698.9 - avg_words_per_second: 3378.2 - ETA: >2025-01-09 00:54:39\n",
            "2025-01-09 00:44:36 (UTC) - 0:22:47 - train - INFO - step: 000069 - done (%): 69.0 - loss: 0.889 - lr: 2.4e-05 - peak_alloc_mem (GB): 22.2 - alloc_mem (GB): 17.1 - words_per_second: 3586.4 - avg_words_per_second: 3381.0 - ETA: >2025-01-09 00:54:37\n",
            "2025-01-09 00:44:55 (UTC) - 0:23:06 - train - INFO - step: 000070 - done (%): 70.0 - loss: 0.810 - lr: 2.3e-05 - peak_alloc_mem (GB): 22.2 - alloc_mem (GB): 17.1 - words_per_second: 3596.6 - avg_words_per_second: 3383.9 - ETA: >2025-01-09 00:54:36\n",
            "2025-01-09 00:45:12 (UTC) - 0:23:23 - train - INFO - step: 000071 - done (%): 71.0 - loss: 0.796 - lr: 2.1e-05 - peak_alloc_mem (GB): 22.2 - alloc_mem (GB): 17.1 - words_per_second: 3718.1 - avg_words_per_second: 3388.2 - ETA: >2025-01-09 00:54:33\n",
            "2025-01-09 00:45:30 (UTC) - 0:23:41 - train - INFO - step: 000072 - done (%): 72.0 - loss: 0.927 - lr: 2.0e-05 - peak_alloc_mem (GB): 22.2 - alloc_mem (GB): 17.1 - words_per_second: 3600.6 - avg_words_per_second: 3391.0 - ETA: >2025-01-09 00:54:32\n",
            "2025-01-09 00:45:48 (UTC) - 0:23:59 - train - INFO - step: 000073 - done (%): 73.0 - loss: 0.811 - lr: 1.9e-05 - peak_alloc_mem (GB): 22.2 - alloc_mem (GB): 17.1 - words_per_second: 3715.9 - avg_words_per_second: 3395.1 - ETA: >2025-01-09 00:54:29\n",
            "2025-01-09 00:46:06 (UTC) - 0:24:17 - train - INFO - step: 000074 - done (%): 74.0 - loss: 0.828 - lr: 1.7e-05 - peak_alloc_mem (GB): 22.2 - alloc_mem (GB): 17.1 - words_per_second: 3578.6 - avg_words_per_second: 3397.4 - ETA: >2025-01-09 00:54:28\n",
            "2025-01-09 00:46:25 (UTC) - 0:24:35 - train - INFO - step: 000075 - done (%): 75.0 - loss: 0.907 - lr: 1.6e-05 - peak_alloc_mem (GB): 22.2 - alloc_mem (GB): 17.1 - words_per_second: 3630.3 - avg_words_per_second: 3400.3 - ETA: >2025-01-09 00:54:26\n",
            "2025-01-09 00:46:42 (UTC) - 0:24:53 - train - INFO - step: 000076 - done (%): 76.0 - loss: 0.881 - lr: 1.5e-05 - peak_alloc_mem (GB): 22.2 - alloc_mem (GB): 17.1 - words_per_second: 3718.6 - avg_words_per_second: 3404.2 - ETA: >2025-01-09 00:54:24\n",
            "2025-01-09 00:47:00 (UTC) - 0:25:11 - train - INFO - step: 000077 - done (%): 77.0 - loss: 0.819 - lr: 1.4e-05 - peak_alloc_mem (GB): 22.2 - alloc_mem (GB): 17.1 - words_per_second: 3634.6 - avg_words_per_second: 3407.0 - ETA: >2025-01-09 00:54:23\n",
            "2025-01-09 00:47:18 (UTC) - 0:25:29 - train - INFO - step: 000078 - done (%): 78.0 - loss: 0.867 - lr: 1.3e-05 - peak_alloc_mem (GB): 22.2 - alloc_mem (GB): 17.1 - words_per_second: 3596.1 - avg_words_per_second: 3409.3 - ETA: >2025-01-09 00:54:21\n",
            "2025-01-09 00:47:36 (UTC) - 0:25:47 - train - INFO - step: 000079 - done (%): 79.0 - loss: 0.913 - lr: 1.2e-05 - peak_alloc_mem (GB): 22.2 - alloc_mem (GB): 17.1 - words_per_second: 3704.2 - avg_words_per_second: 3412.7 - ETA: >2025-01-09 00:54:19\n",
            "2025-01-09 00:47:54 (UTC) - 0:26:05 - train - INFO - step: 000080 - done (%): 80.0 - loss: 0.826 - lr: 1.1e-05 - peak_alloc_mem (GB): 22.2 - alloc_mem (GB): 17.1 - words_per_second: 3595.9 - avg_words_per_second: 3414.9 - ETA: >2025-01-09 00:54:18\n",
            "2025-01-09 00:48:12 (UTC) - 0:26:23 - train - INFO - step: 000081 - done (%): 81.0 - loss: 0.835 - lr: 9.5e-06 - peak_alloc_mem (GB): 22.2 - alloc_mem (GB): 17.1 - words_per_second: 3718.5 - avg_words_per_second: 3418.3 - ETA: >2025-01-09 00:54:16\n",
            "2025-01-09 00:48:30 (UTC) - 0:26:41 - train - INFO - step: 000082 - done (%): 82.0 - loss: 0.853 - lr: 8.6e-06 - peak_alloc_mem (GB): 22.2 - alloc_mem (GB): 17.1 - words_per_second: 3626.5 - avg_words_per_second: 3420.7 - ETA: >2025-01-09 00:54:15\n",
            "2025-01-09 00:48:48 (UTC) - 0:26:59 - train - INFO - step: 000083 - done (%): 83.0 - loss: 0.771 - lr: 7.7e-06 - peak_alloc_mem (GB): 22.2 - alloc_mem (GB): 17.1 - words_per_second: 3587.9 - avg_words_per_second: 3422.7 - ETA: >2025-01-09 00:54:14\n",
            "2025-01-09 00:49:06 (UTC) - 0:27:17 - train - INFO - step: 000084 - done (%): 84.0 - loss: 0.813 - lr: 6.8e-06 - peak_alloc_mem (GB): 22.2 - alloc_mem (GB): 17.1 - words_per_second: 3714.2 - avg_words_per_second: 3425.9 - ETA: >2025-01-09 00:54:12\n",
            "2025-01-09 00:49:24 (UTC) - 0:27:35 - train - INFO - step: 000085 - done (%): 85.0 - loss: 0.836 - lr: 6.0e-06 - peak_alloc_mem (GB): 22.2 - alloc_mem (GB): 17.1 - words_per_second: 3626.7 - avg_words_per_second: 3428.1 - ETA: >2025-01-09 00:54:11\n",
            "2025-01-09 00:49:42 (UTC) - 0:27:53 - train - INFO - step: 000086 - done (%): 86.0 - loss: 0.866 - lr: 5.3e-06 - peak_alloc_mem (GB): 22.2 - alloc_mem (GB): 17.1 - words_per_second: 3696.5 - avg_words_per_second: 3431.0 - ETA: >2025-01-09 00:54:09\n",
            "2025-01-09 00:50:00 (UTC) - 0:28:11 - train - INFO - step: 000087 - done (%): 87.0 - loss: 0.845 - lr: 4.6e-06 - peak_alloc_mem (GB): 22.2 - alloc_mem (GB): 17.1 - words_per_second: 3598.0 - avg_words_per_second: 3432.8 - ETA: >2025-01-09 00:54:08\n",
            "2025-01-09 00:50:18 (UTC) - 0:28:29 - train - INFO - step: 000088 - done (%): 88.0 - loss: 0.777 - lr: 3.9e-06 - peak_alloc_mem (GB): 22.2 - alloc_mem (GB): 17.1 - words_per_second: 3575.7 - avg_words_per_second: 3434.4 - ETA: >2025-01-09 00:54:07\n",
            "2025-01-09 00:50:36 (UTC) - 0:28:47 - train - INFO - step: 000089 - done (%): 89.0 - loss: 0.813 - lr: 3.3e-06 - peak_alloc_mem (GB): 22.2 - alloc_mem (GB): 17.1 - words_per_second: 3701.9 - avg_words_per_second: 3437.2 - ETA: >2025-01-09 00:54:06\n",
            "2025-01-09 00:50:54 (UTC) - 0:29:05 - train - INFO - step: 000090 - done (%): 90.0 - loss: 0.841 - lr: 2.7e-06 - peak_alloc_mem (GB): 22.2 - alloc_mem (GB): 17.1 - words_per_second: 3609.0 - avg_words_per_second: 3439.0 - ETA: >2025-01-09 00:54:05\n",
            "2025-01-09 00:51:12 (UTC) - 0:29:23 - train - INFO - step: 000091 - done (%): 91.0 - loss: 0.807 - lr: 2.2e-06 - peak_alloc_mem (GB): 22.2 - alloc_mem (GB): 17.1 - words_per_second: 3584.5 - avg_words_per_second: 3440.5 - ETA: >2025-01-09 00:54:04\n",
            "2025-01-09 00:51:30 (UTC) - 0:29:41 - train - INFO - step: 000092 - done (%): 92.0 - loss: 0.807 - lr: 1.7e-06 - peak_alloc_mem (GB): 22.2 - alloc_mem (GB): 17.1 - words_per_second: 3689.6 - avg_words_per_second: 3443.1 - ETA: >2025-01-09 00:54:03\n",
            "2025-01-09 00:51:49 (UTC) - 0:29:59 - train - INFO - step: 000093 - done (%): 93.0 - loss: 0.827 - lr: 1.3e-06 - peak_alloc_mem (GB): 22.2 - alloc_mem (GB): 17.1 - words_per_second: 3584.7 - avg_words_per_second: 3444.5 - ETA: >2025-01-09 00:54:02\n",
            "2025-01-09 00:52:06 (UTC) - 0:30:17 - train - INFO - step: 000094 - done (%): 94.0 - loss: 0.817 - lr: 9.8e-07 - peak_alloc_mem (GB): 22.2 - alloc_mem (GB): 17.1 - words_per_second: 3713.4 - avg_words_per_second: 3447.2 - ETA: >2025-01-09 00:54:00\n",
            "2025-01-09 00:52:24 (UTC) - 0:30:35 - train - INFO - step: 000095 - done (%): 95.0 - loss: 0.824 - lr: 6.8e-07 - peak_alloc_mem (GB): 22.2 - alloc_mem (GB): 17.1 - words_per_second: 3583.7 - avg_words_per_second: 3448.6 - ETA: >2025-01-09 00:53:59\n",
            "2025-01-09 00:52:43 (UTC) - 0:30:54 - train - INFO - step: 000096 - done (%): 96.0 - loss: 0.794 - lr: 4.4e-07 - peak_alloc_mem (GB): 22.2 - alloc_mem (GB): 17.1 - words_per_second: 3606.5 - avg_words_per_second: 3450.1 - ETA: >2025-01-09 00:53:59\n",
            "2025-01-09 00:53:00 (UTC) - 0:31:11 - train - INFO - step: 000097 - done (%): 97.0 - loss: 0.883 - lr: 2.5e-07 - peak_alloc_mem (GB): 22.2 - alloc_mem (GB): 17.1 - words_per_second: 3715.4 - avg_words_per_second: 3452.7 - ETA: >2025-01-09 00:53:57\n",
            "2025-01-09 00:53:18 (UTC) - 0:31:29 - train - INFO - step: 000098 - done (%): 98.0 - loss: 0.826 - lr: 1.1e-07 - peak_alloc_mem (GB): 22.2 - alloc_mem (GB): 17.1 - words_per_second: 3608.9 - avg_words_per_second: 3454.2 - ETA: >2025-01-09 00:53:56\n",
            "2025-01-09 00:53:36 (UTC) - 0:31:47 - train - INFO - step: 000099 - done (%): 99.0 - loss: 0.771 - lr: 2.8e-08 - peak_alloc_mem (GB): 22.2 - alloc_mem (GB): 17.1 - words_per_second: 3711.5 - avg_words_per_second: 3456.6 - ETA: >2025-01-09 00:53:55\n",
            "2025-01-09 00:53:54 (UTC) - 0:32:05 - eval - INFO - Start eval...\n",
            "2025-01-09 00:55:49 (UTC) - 0:34:00 - eval - INFO - Eval finished!\n",
            "2025-01-09 00:55:49 (UTC) - 0:34:00 - train - INFO - step: 000100 - eval_perplexity: 1.779 - eval_loss: 0.831 - train_loss: 0.762\n",
            "2025-01-09 00:55:49 (UTC) - 0:34:00 - train - INFO - step: 000100 - done (%): 100.0 - loss: 0.762 - lr: 4.0e-10 - peak_alloc_mem (GB): 22.2 - alloc_mem (GB): 17.1 - words_per_second: 493.0 - avg_words_per_second: 3260.6 - ETA: >2025-01-09 00:55:49\n",
            "2025-01-09 00:55:49 (UTC) - 0:34:00 - checkpointing - INFO - Dumping checkpoint in /content/drive/MyDrive/Colab_Projects/mistral-finetune/test_ultra/checkpoints/checkpoint_000100/consolidated using tmp name: tmp.consolidated\n",
            "2025-01-09 00:55:50 (UTC) - 0:34:01 - checkpointing - INFO - Done dumping checkpoint in /content/drive/MyDrive/Colab_Projects/mistral-finetune/test_ultra/checkpoints/checkpoint_000100/consolidated for step: 100\n",
            "2025-01-09 00:55:50 (UTC) - 0:34:01 - checkpointing - INFO - Done deleting checkpoints \n",
            "2025-01-09 00:55:50 (UTC) - 0:34:01 - checkpointing - INFO - Done!\n",
            "2025-01-09 00:55:50 (UTC) - 0:34:01 - train - INFO - done!\n",
            "2025-01-09 00:55:50 (UTC) - 0:34:01 - utils - INFO - Closing: eval_logger\n",
            "2025-01-09 00:55:50 (UTC) - 0:34:01 - utils - INFO - Closed: eval_logger\n",
            "2025-01-09 00:55:50 (UTC) - 0:34:01 - utils - INFO - Closing: metrics_logger\n",
            "2025-01-09 00:55:50 (UTC) - 0:34:01 - utils - INFO - Closed: metrics_logger\n",
            "2025-01-09 00:55:50 (UTC) - 0:34:01 - train - INFO - Closed everything!\n"
          ]
        }
      ]
    },
    {
      "cell_type": "markdown",
      "source": [
        "## Inference"
      ],
      "metadata": {
        "id": "ruJ29JFn98zE"
      }
    },
    {
      "cell_type": "code",
      "source": [
        "!pip install mistral_inference"
      ],
      "metadata": {
        "id": "7BWNGKt9-Kxz",
        "outputId": "daf16c84-c4f7-4936-9fd4-9662aa365b54",
        "colab": {
          "base_uri": "https://localhost:8080/"
        }
      },
      "execution_count": null,
      "outputs": [
        {
          "output_type": "stream",
          "name": "stdout",
          "text": [
            "Collecting mistral_inference\n",
            "  Downloading mistral_inference-1.5.0-py3-none-any.whl.metadata (14 kB)\n",
            "Requirement already satisfied: fire>=0.6.0 in /usr/local/lib/python3.10/dist-packages (from mistral_inference) (0.7.0)\n",
            "Requirement already satisfied: mistral_common>=1.4.0 in /usr/local/lib/python3.10/dist-packages (from mistral_inference) (1.5.1)\n",
            "Requirement already satisfied: pillow>=10.3.0 in /usr/local/lib/python3.10/dist-packages (from mistral_inference) (10.4.0)\n",
            "Requirement already satisfied: safetensors>=0.4.0 in /usr/local/lib/python3.10/dist-packages (from mistral_inference) (0.5.0)\n",
            "Requirement already satisfied: simple-parsing>=0.1.5 in /usr/local/lib/python3.10/dist-packages (from mistral_inference) (0.1.6)\n",
            "Requirement already satisfied: xformers>=0.0.24 in /usr/local/lib/python3.10/dist-packages (from mistral_inference) (0.0.24)\n",
            "Requirement already satisfied: termcolor in /usr/local/lib/python3.10/dist-packages (from fire>=0.6.0->mistral_inference) (2.5.0)\n",
            "Requirement already satisfied: jsonschema<5.0.0,>=4.21.1 in /usr/local/lib/python3.10/dist-packages (from mistral_common>=1.4.0->mistral_inference) (4.23.0)\n",
            "Requirement already satisfied: numpy>=1.25 in /usr/local/lib/python3.10/dist-packages (from mistral_common>=1.4.0->mistral_inference) (1.26.4)\n",
            "Requirement already satisfied: pydantic<3.0.0,>=2.6.1 in /usr/local/lib/python3.10/dist-packages (from mistral_common>=1.4.0->mistral_inference) (2.10.4)\n",
            "Requirement already satisfied: requests<3.0.0,>=2.0.0 in /usr/local/lib/python3.10/dist-packages (from mistral_common>=1.4.0->mistral_inference) (2.32.3)\n",
            "Requirement already satisfied: sentencepiece==0.2.0 in /usr/local/lib/python3.10/dist-packages (from mistral_common>=1.4.0->mistral_inference) (0.2.0)\n",
            "Requirement already satisfied: tiktoken<0.8.0,>=0.7.0 in /usr/local/lib/python3.10/dist-packages (from mistral_common>=1.4.0->mistral_inference) (0.7.0)\n",
            "Requirement already satisfied: typing-extensions<5.0.0,>=4.11.0 in /usr/local/lib/python3.10/dist-packages (from mistral_common>=1.4.0->mistral_inference) (4.12.2)\n",
            "Requirement already satisfied: docstring-parser<1.0,>=0.15 in /usr/local/lib/python3.10/dist-packages (from simple-parsing>=0.1.5->mistral_inference) (0.16)\n",
            "Requirement already satisfied: torch==2.2.0 in /usr/local/lib/python3.10/dist-packages (from xformers>=0.0.24->mistral_inference) (2.2.0)\n",
            "Requirement already satisfied: filelock in /usr/local/lib/python3.10/dist-packages (from torch==2.2.0->xformers>=0.0.24->mistral_inference) (3.16.1)\n",
            "Requirement already satisfied: sympy in /usr/local/lib/python3.10/dist-packages (from torch==2.2.0->xformers>=0.0.24->mistral_inference) (1.13.1)\n",
            "Requirement already satisfied: networkx in /usr/local/lib/python3.10/dist-packages (from torch==2.2.0->xformers>=0.0.24->mistral_inference) (3.4.2)\n",
            "Requirement already satisfied: jinja2 in /usr/local/lib/python3.10/dist-packages (from torch==2.2.0->xformers>=0.0.24->mistral_inference) (3.1.5)\n",
            "Requirement already satisfied: fsspec in /usr/local/lib/python3.10/dist-packages (from torch==2.2.0->xformers>=0.0.24->mistral_inference) (2024.10.0)\n",
            "Requirement already satisfied: nvidia-cuda-nvrtc-cu12==12.1.105 in /usr/local/lib/python3.10/dist-packages (from torch==2.2.0->xformers>=0.0.24->mistral_inference) (12.1.105)\n",
            "Requirement already satisfied: nvidia-cuda-runtime-cu12==12.1.105 in /usr/local/lib/python3.10/dist-packages (from torch==2.2.0->xformers>=0.0.24->mistral_inference) (12.1.105)\n",
            "Requirement already satisfied: nvidia-cuda-cupti-cu12==12.1.105 in /usr/local/lib/python3.10/dist-packages (from torch==2.2.0->xformers>=0.0.24->mistral_inference) (12.1.105)\n",
            "Requirement already satisfied: nvidia-cudnn-cu12==8.9.2.26 in /usr/local/lib/python3.10/dist-packages (from torch==2.2.0->xformers>=0.0.24->mistral_inference) (8.9.2.26)\n",
            "Requirement already satisfied: nvidia-cublas-cu12==12.1.3.1 in /usr/local/lib/python3.10/dist-packages (from torch==2.2.0->xformers>=0.0.24->mistral_inference) (12.1.3.1)\n",
            "Requirement already satisfied: nvidia-cufft-cu12==11.0.2.54 in /usr/local/lib/python3.10/dist-packages (from torch==2.2.0->xformers>=0.0.24->mistral_inference) (11.0.2.54)\n",
            "Requirement already satisfied: nvidia-curand-cu12==10.3.2.106 in /usr/local/lib/python3.10/dist-packages (from torch==2.2.0->xformers>=0.0.24->mistral_inference) (10.3.2.106)\n",
            "Requirement already satisfied: nvidia-cusolver-cu12==11.4.5.107 in /usr/local/lib/python3.10/dist-packages (from torch==2.2.0->xformers>=0.0.24->mistral_inference) (11.4.5.107)\n",
            "Requirement already satisfied: nvidia-cusparse-cu12==12.1.0.106 in /usr/local/lib/python3.10/dist-packages (from torch==2.2.0->xformers>=0.0.24->mistral_inference) (12.1.0.106)\n",
            "Requirement already satisfied: nvidia-nccl-cu12==2.19.3 in /usr/local/lib/python3.10/dist-packages (from torch==2.2.0->xformers>=0.0.24->mistral_inference) (2.19.3)\n",
            "Requirement already satisfied: nvidia-nvtx-cu12==12.1.105 in /usr/local/lib/python3.10/dist-packages (from torch==2.2.0->xformers>=0.0.24->mistral_inference) (12.1.105)\n",
            "Requirement already satisfied: triton==2.2.0 in /usr/local/lib/python3.10/dist-packages (from torch==2.2.0->xformers>=0.0.24->mistral_inference) (2.2.0)\n",
            "Requirement already satisfied: nvidia-nvjitlink-cu12 in /usr/local/lib/python3.10/dist-packages (from nvidia-cusolver-cu12==11.4.5.107->torch==2.2.0->xformers>=0.0.24->mistral_inference) (12.6.85)\n",
            "Requirement already satisfied: attrs>=22.2.0 in /usr/local/lib/python3.10/dist-packages (from jsonschema<5.0.0,>=4.21.1->mistral_common>=1.4.0->mistral_inference) (24.3.0)\n",
            "Requirement already satisfied: jsonschema-specifications>=2023.03.6 in /usr/local/lib/python3.10/dist-packages (from jsonschema<5.0.0,>=4.21.1->mistral_common>=1.4.0->mistral_inference) (2024.10.1)\n",
            "Requirement already satisfied: referencing>=0.28.4 in /usr/local/lib/python3.10/dist-packages (from jsonschema<5.0.0,>=4.21.1->mistral_common>=1.4.0->mistral_inference) (0.35.1)\n",
            "Requirement already satisfied: rpds-py>=0.7.1 in /usr/local/lib/python3.10/dist-packages (from jsonschema<5.0.0,>=4.21.1->mistral_common>=1.4.0->mistral_inference) (0.22.3)\n",
            "Requirement already satisfied: annotated-types>=0.6.0 in /usr/local/lib/python3.10/dist-packages (from pydantic<3.0.0,>=2.6.1->mistral_common>=1.4.0->mistral_inference) (0.7.0)\n",
            "Requirement already satisfied: pydantic-core==2.27.2 in /usr/local/lib/python3.10/dist-packages (from pydantic<3.0.0,>=2.6.1->mistral_common>=1.4.0->mistral_inference) (2.27.2)\n",
            "Requirement already satisfied: charset-normalizer<4,>=2 in /usr/local/lib/python3.10/dist-packages (from requests<3.0.0,>=2.0.0->mistral_common>=1.4.0->mistral_inference) (3.4.1)\n",
            "Requirement already satisfied: idna<4,>=2.5 in /usr/local/lib/python3.10/dist-packages (from requests<3.0.0,>=2.0.0->mistral_common>=1.4.0->mistral_inference) (3.10)\n",
            "Requirement already satisfied: urllib3<3,>=1.21.1 in /usr/local/lib/python3.10/dist-packages (from requests<3.0.0,>=2.0.0->mistral_common>=1.4.0->mistral_inference) (2.3.0)\n",
            "Requirement already satisfied: certifi>=2017.4.17 in /usr/local/lib/python3.10/dist-packages (from requests<3.0.0,>=2.0.0->mistral_common>=1.4.0->mistral_inference) (2024.12.14)\n",
            "Requirement already satisfied: regex>=2022.1.18 in /usr/local/lib/python3.10/dist-packages (from tiktoken<0.8.0,>=0.7.0->mistral_common>=1.4.0->mistral_inference) (2024.11.6)\n",
            "Requirement already satisfied: MarkupSafe>=2.0 in /usr/local/lib/python3.10/dist-packages (from jinja2->torch==2.2.0->xformers>=0.0.24->mistral_inference) (3.0.2)\n",
            "Requirement already satisfied: mpmath<1.4,>=1.1.0 in /usr/local/lib/python3.10/dist-packages (from sympy->torch==2.2.0->xformers>=0.0.24->mistral_inference) (1.3.0)\n",
            "Downloading mistral_inference-1.5.0-py3-none-any.whl (30 kB)\n",
            "Installing collected packages: mistral_inference\n",
            "Successfully installed mistral_inference-1.5.0\n"
          ]
        }
      ]
    },
    {
      "cell_type": "code",
      "source": [
        "!pip install mistral"
      ],
      "metadata": {
        "colab": {
          "base_uri": "https://localhost:8080/"
        },
        "id": "FvYLzx69leGc",
        "outputId": "747c32b9-6da2-46bf-b0aa-c1defc498855"
      },
      "execution_count": null,
      "outputs": [
        {
          "output_type": "stream",
          "name": "stdout",
          "text": [
            "Collecting mistral\n",
            "  Downloading mistral-19.0.0-py3-none-any.whl.metadata (3.5 kB)\n",
            "Requirement already satisfied: Jinja2>=2.10 in /usr/local/lib/python3.10/dist-packages (from mistral) (3.1.5)\n",
            "Requirement already satisfied: PyJWT>=1.5 in /usr/local/lib/python3.10/dist-packages (from mistral) (2.10.1)\n",
            "Requirement already satisfied: PyYAML>=5.1 in /usr/local/lib/python3.10/dist-packages (from mistral) (6.0.2)\n",
            "Requirement already satisfied: SQLAlchemy>=1.2.5 in /usr/local/lib/python3.10/dist-packages (from mistral) (2.0.36)\n",
            "Collecting WSME>=0.8.0 (from mistral)\n",
            "  Downloading WSME-0.12.1-py3-none-any.whl.metadata (3.7 kB)\n",
            "Collecting alembic>=0.9.6 (from mistral)\n",
            "  Downloading alembic-1.14.0-py3-none-any.whl.metadata (7.4 kB)\n",
            "Requirement already satisfied: cachetools>=2.0.0 in /usr/local/lib/python3.10/dist-packages (from mistral) (5.5.0)\n",
            "Collecting croniter>=0.3.4 (from mistral)\n",
            "  Downloading croniter-6.0.0-py2.py3-none-any.whl.metadata (32 kB)\n",
            "Collecting dogpile.cache>=0.6.2 (from mistral)\n",
            "  Downloading dogpile.cache-1.3.3-py3-none-any.whl.metadata (5.2 kB)\n",
            "Collecting eventlet>=0.26.0 (from mistral)\n",
            "  Downloading eventlet-0.38.2-py3-none-any.whl.metadata (5.5 kB)\n",
            "Requirement already satisfied: jsonschema>=3.2.0 in /usr/local/lib/python3.10/dist-packages (from mistral) (4.23.0)\n",
            "Collecting keystonemiddleware>=4.18.0 (from mistral)\n",
            "  Downloading keystonemiddleware-10.8.0-py3-none-any.whl.metadata (3.9 kB)\n",
            "Collecting kombu!=4.0.2,>=4.6.1 (from mistral)\n",
            "  Downloading kombu-5.4.2-py3-none-any.whl.metadata (3.2 kB)\n",
            "Collecting mistral-lib>=2.3.0 (from mistral)\n",
            "  Downloading mistral_lib-3.0.0-py3-none-any.whl.metadata (2.1 kB)\n",
            "Requirement already satisfied: networkx>=2.3 in /usr/local/lib/python3.10/dist-packages (from mistral) (3.4.2)\n",
            "Collecting oslo.concurrency>=3.26.0 (from mistral)\n",
            "  Downloading oslo.concurrency-6.2.0-py3-none-any.whl.metadata (2.4 kB)\n",
            "Collecting oslo.config>=6.8.0 (from mistral)\n",
            "  Downloading oslo.config-9.7.0-py3-none-any.whl.metadata (2.9 kB)\n",
            "Collecting oslo.context>=2.22.0 (from mistral)\n",
            "  Downloading oslo.context-5.7.0-py3-none-any.whl.metadata (2.1 kB)\n",
            "Collecting oslo.db>=4.40.0 (from mistral)\n",
            "  Downloading oslo.db-17.1.0-py3-none-any.whl.metadata (3.3 kB)\n",
            "Collecting oslo.i18n>=3.15.3 (from mistral)\n",
            "  Downloading oslo.i18n-6.5.0-py3-none-any.whl.metadata (2.1 kB)\n",
            "Collecting oslo.log>=3.36.0 (from mistral)\n",
            "  Downloading oslo.log-6.2.0-py3-none-any.whl.metadata (2.8 kB)\n",
            "Collecting oslo.messaging>=14.1.0 (from mistral)\n",
            "  Downloading oslo.messaging-15.0.0-py3-none-any.whl.metadata (3.2 kB)\n",
            "Collecting oslo.middleware>=3.31.0 (from mistral)\n",
            "  Downloading oslo.middleware-6.3.0-py3-none-any.whl.metadata (2.2 kB)\n",
            "Collecting oslo.policy>=3.6.0 (from mistral)\n",
            "  Downloading oslo.policy-4.5.0-py3-none-any.whl.metadata (2.1 kB)\n",
            "Collecting oslo.serialization>=2.21.1 (from mistral)\n",
            "  Downloading oslo.serialization-5.6.0-py3-none-any.whl.metadata (2.2 kB)\n",
            "Collecting oslo.service>=2.1.0 (from mistral)\n",
            "  Downloading oslo.service-3.6.0-py3-none-any.whl.metadata (2.7 kB)\n",
            "Collecting oslo.utils>=4.0.0 (from mistral)\n",
            "  Downloading oslo.utils-8.0.0-py3-none-any.whl.metadata (2.2 kB)\n",
            "Collecting osprofiler>=1.4.0 (from mistral)\n",
            "  Downloading osprofiler-4.2.0-py3-none-any.whl.metadata (4.1 kB)\n",
            "Collecting paramiko>=2.4.1 (from mistral)\n",
            "  Downloading paramiko-3.5.0-py3-none-any.whl.metadata (4.4 kB)\n",
            "Collecting pbr!=2.1.0,>=2.0.0 (from mistral)\n",
            "  Downloading pbr-6.1.0-py2.py3-none-any.whl.metadata (3.4 kB)\n",
            "Collecting pecan>=1.2.1 (from mistral)\n",
            "  Downloading pecan-1.5.1-py3-none-any.whl.metadata (1.4 kB)\n",
            "Requirement already satisfied: requests>=2.18.0 in /usr/local/lib/python3.10/dist-packages (from mistral) (2.32.3)\n",
            "Collecting stevedore>=1.20.0 (from mistral)\n",
            "  Downloading stevedore-5.4.0-py3-none-any.whl.metadata (2.3 kB)\n",
            "Requirement already satisfied: tenacity>=5.0.1 in /usr/local/lib/python3.10/dist-packages (from mistral) (9.0.0)\n",
            "Collecting tooz>=1.58.0 (from mistral)\n",
            "  Downloading tooz-6.3.0-py3-none-any.whl.metadata (3.2 kB)\n",
            "Collecting yaql>=1.1.3 (from mistral)\n",
            "  Downloading yaql-3.0.0-py3-none-any.whl.metadata (2.3 kB)\n",
            "Collecting Mako (from alembic>=0.9.6->mistral)\n",
            "  Downloading Mako-1.3.8-py3-none-any.whl.metadata (2.9 kB)\n",
            "Requirement already satisfied: typing-extensions>=4 in /usr/local/lib/python3.10/dist-packages (from alembic>=0.9.6->mistral) (4.12.2)\n",
            "Requirement already satisfied: python-dateutil in /usr/local/lib/python3.10/dist-packages (from croniter>=0.3.4->mistral) (2.8.2)\n",
            "Requirement already satisfied: pytz>2021.1 in /usr/local/lib/python3.10/dist-packages (from croniter>=0.3.4->mistral) (2024.2)\n",
            "Requirement already satisfied: decorator>=4.0.0 in /usr/local/lib/python3.10/dist-packages (from dogpile.cache>=0.6.2->mistral) (4.4.2)\n",
            "Collecting dnspython>=1.15.0 (from eventlet>=0.26.0->mistral)\n",
            "  Downloading dnspython-2.7.0-py3-none-any.whl.metadata (5.8 kB)\n",
            "Requirement already satisfied: greenlet>=1.0 in /usr/local/lib/python3.10/dist-packages (from eventlet>=0.26.0->mistral) (3.1.1)\n",
            "Requirement already satisfied: MarkupSafe>=2.0 in /usr/local/lib/python3.10/dist-packages (from Jinja2>=2.10->mistral) (3.0.2)\n",
            "Requirement already satisfied: attrs>=22.2.0 in /usr/local/lib/python3.10/dist-packages (from jsonschema>=3.2.0->mistral) (24.3.0)\n",
            "Requirement already satisfied: jsonschema-specifications>=2023.03.6 in /usr/local/lib/python3.10/dist-packages (from jsonschema>=3.2.0->mistral) (2024.10.1)\n",
            "Requirement already satisfied: referencing>=0.28.4 in /usr/local/lib/python3.10/dist-packages (from jsonschema>=3.2.0->mistral) (0.35.1)\n",
            "Requirement already satisfied: rpds-py>=0.7.1 in /usr/local/lib/python3.10/dist-packages (from jsonschema>=3.2.0->mistral) (0.22.3)\n",
            "Collecting WebOb>=1.7.1 (from keystonemiddleware>=4.18.0->mistral)\n",
            "  Downloading WebOb-1.8.9-py2.py3-none-any.whl.metadata (11 kB)\n",
            "Collecting keystoneauth1>=3.12.0 (from keystonemiddleware>=4.18.0->mistral)\n",
            "  Downloading keystoneauth1-5.9.1-py3-none-any.whl.metadata (4.1 kB)\n",
            "Collecting oslo.cache>=1.26.0 (from keystonemiddleware>=4.18.0->mistral)\n",
            "  Downloading oslo.cache-3.9.0-py3-none-any.whl.metadata (3.2 kB)\n",
            "Collecting pycadf>=1.1.0 (from keystonemiddleware>=4.18.0->mistral)\n",
            "  Downloading pycadf-4.0.0-py3-none-any.whl.metadata (2.3 kB)\n",
            "Collecting python-keystoneclient>=3.20.0 (from keystonemiddleware>=4.18.0->mistral)\n",
            "  Downloading python_keystoneclient-5.5.0-py3-none-any.whl.metadata (3.7 kB)\n",
            "Collecting amqp<6.0.0,>=5.1.1 (from kombu!=4.0.2,>=4.6.1->mistral)\n",
            "  Downloading amqp-5.3.1-py3-none-any.whl.metadata (8.9 kB)\n",
            "Collecting vine==5.1.0 (from kombu!=4.0.2,>=4.6.1->mistral)\n",
            "  Downloading vine-5.1.0-py3-none-any.whl.metadata (2.7 kB)\n",
            "Requirement already satisfied: tzdata in /usr/local/lib/python3.10/dist-packages (from kombu!=4.0.2,>=4.6.1->mistral) (2024.2)\n",
            "Collecting fasteners>=0.7.0 (from oslo.concurrency>=3.26.0->mistral)\n",
            "  Downloading fasteners-0.19-py3-none-any.whl.metadata (4.9 kB)\n",
            "Collecting debtcollector>=1.2.0 (from oslo.config>=6.8.0->mistral)\n",
            "  Downloading debtcollector-3.0.0-py3-none-any.whl.metadata (2.3 kB)\n",
            "Collecting netaddr>=0.7.18 (from oslo.config>=6.8.0->mistral)\n",
            "  Downloading netaddr-1.3.0-py3-none-any.whl.metadata (5.0 kB)\n",
            "Collecting rfc3986>=1.2.0 (from oslo.config>=6.8.0->mistral)\n",
            "  Downloading rfc3986-2.0.0-py2.py3-none-any.whl.metadata (6.6 kB)\n",
            "Collecting testresources>=2.0.0 (from oslo.db>=4.40.0->mistral)\n",
            "  Downloading testresources-2.0.1-py2.py3-none-any.whl.metadata (11 kB)\n",
            "Collecting testscenarios>=0.4 (from oslo.db>=4.40.0->mistral)\n",
            "  Downloading testscenarios-0.5.0-py2.py3-none-any.whl.metadata (12 kB)\n",
            "Collecting futurist>=1.2.0 (from oslo.messaging>=14.1.0->mistral)\n",
            "  Downloading futurist-3.0.0-py3-none-any.whl.metadata (2.2 kB)\n",
            "Collecting oslo.metrics>=0.2.1 (from oslo.messaging>=14.1.0->mistral)\n",
            "  Downloading oslo.metrics-0.10.0-py3-none-any.whl.metadata (1.3 kB)\n",
            "Collecting bcrypt>=3.1.3 (from oslo.middleware>=3.31.0->mistral)\n",
            "  Downloading bcrypt-4.2.1-cp39-abi3-manylinux_2_28_x86_64.whl.metadata (9.8 kB)\n",
            "Collecting statsd>=3.2.1 (from oslo.middleware>=3.31.0->mistral)\n",
            "  Downloading statsd-4.0.1-py2.py3-none-any.whl.metadata (2.9 kB)\n",
            "Requirement already satisfied: msgpack>=0.5.2 in /usr/local/lib/python3.10/dist-packages (from oslo.serialization>=2.21.1->mistral) (1.1.0)\n",
            "Collecting Paste>=2.0.2 (from oslo.service>=2.1.0->mistral)\n",
            "  Downloading Paste-3.10.1-py3-none-any.whl.metadata (5.3 kB)\n",
            "Collecting PasteDeploy>=1.5.0 (from oslo.service>=2.1.0->mistral)\n",
            "  Downloading PasteDeploy-3.1.0-py3-none-any.whl.metadata (2.7 kB)\n",
            "Collecting Routes>=2.3.1 (from oslo.service>=2.1.0->mistral)\n",
            "  Downloading Routes-2.5.1-py2.py3-none-any.whl.metadata (25 kB)\n",
            "Collecting Yappi>=1.0 (from oslo.service>=2.1.0->mistral)\n",
            "  Downloading yappi-1.6.10-cp310-cp310-manylinux_2_5_x86_64.manylinux1_x86_64.manylinux_2_17_x86_64.manylinux2014_x86_64.whl.metadata (11 kB)\n",
            "Collecting iso8601>=0.1.11 (from oslo.utils>=4.0.0->mistral)\n",
            "  Downloading iso8601-2.1.0-py3-none-any.whl.metadata (3.7 kB)\n",
            "Requirement already satisfied: packaging>=20.4 in /usr/local/lib/python3.10/dist-packages (from oslo.utils>=4.0.0->mistral) (24.2)\n",
            "Requirement already satisfied: psutil>=3.2.2 in /usr/local/lib/python3.10/dist-packages (from oslo.utils>=4.0.0->mistral) (5.9.5)\n",
            "Requirement already satisfied: pyparsing>=2.1.0 in /usr/local/lib/python3.10/dist-packages (from oslo.utils>=4.0.0->mistral) (3.2.1)\n",
            "Requirement already satisfied: PrettyTable>=0.7.2 in /usr/local/lib/python3.10/dist-packages (from osprofiler>=1.4.0->mistral) (3.12.0)\n",
            "Requirement already satisfied: cryptography>=3.3 in /usr/local/lib/python3.10/dist-packages (from paramiko>=2.4.1->mistral) (43.0.3)\n",
            "Collecting pynacl>=1.5 (from paramiko>=2.4.1->mistral)\n",
            "  Downloading PyNaCl-1.5.0-cp36-abi3-manylinux_2_17_x86_64.manylinux2014_x86_64.manylinux_2_24_x86_64.whl.metadata (8.6 kB)\n",
            "Requirement already satisfied: setuptools in /usr/local/lib/python3.10/dist-packages (from pecan>=1.2.1->mistral) (75.1.0)\n",
            "Collecting logutils>=0.3 (from pecan>=1.2.1->mistral)\n",
            "  Downloading logutils-0.3.5.tar.gz (27 kB)\n",
            "  Preparing metadata (setup.py) ... \u001b[?25l\u001b[?25hdone\n",
            "Requirement already satisfied: charset-normalizer<4,>=2 in /usr/local/lib/python3.10/dist-packages (from requests>=2.18.0->mistral) (3.4.1)\n",
            "Requirement already satisfied: idna<4,>=2.5 in /usr/local/lib/python3.10/dist-packages (from requests>=2.18.0->mistral) (3.10)\n",
            "Requirement already satisfied: urllib3<3,>=1.21.1 in /usr/local/lib/python3.10/dist-packages (from requests>=2.18.0->mistral) (2.3.0)\n",
            "Requirement already satisfied: certifi>=2017.4.17 in /usr/local/lib/python3.10/dist-packages (from requests>=2.18.0->mistral) (2024.12.14)\n",
            "Collecting voluptuous>=0.8.9 (from tooz>=1.58.0->mistral)\n",
            "  Downloading voluptuous-0.15.2-py3-none-any.whl.metadata (20 kB)\n",
            "Collecting simplegeneric (from WSME>=0.8.0->mistral)\n",
            "  Downloading simplegeneric-0.8.1.zip (12 kB)\n",
            "  Preparing metadata (setup.py) ... \u001b[?25l\u001b[?25hdone\n",
            "Requirement already satisfied: importlib-metadata>=4.4 in /usr/local/lib/python3.10/dist-packages (from WSME>=0.8.0->mistral) (8.5.0)\n",
            "Requirement already satisfied: ply in /usr/local/lib/python3.10/dist-packages (from yaql>=1.1.3->mistral) (3.11)\n",
            "Requirement already satisfied: cffi>=1.12 in /usr/local/lib/python3.10/dist-packages (from cryptography>=3.3->paramiko>=2.4.1->mistral) (1.17.1)\n",
            "Requirement already satisfied: wrapt>=1.7.0 in /usr/local/lib/python3.10/dist-packages (from debtcollector>=1.2.0->oslo.config>=6.8.0->mistral) (1.17.0)\n",
            "Requirement already satisfied: zipp>=3.20 in /usr/local/lib/python3.10/dist-packages (from importlib-metadata>=4.4->WSME>=0.8.0->mistral) (3.21.0)\n",
            "Collecting os-service-types>=1.2.0 (from keystoneauth1>=3.12.0->keystonemiddleware>=4.18.0->mistral)\n",
            "  Downloading os_service_types-1.7.0-py2.py3-none-any.whl.metadata (1.7 kB)\n",
            "Requirement already satisfied: prometheus-client>=0.6.0 in /usr/local/lib/python3.10/dist-packages (from oslo.metrics>=0.2.1->oslo.messaging>=14.1.0->mistral) (0.21.1)\n",
            "Requirement already satisfied: wcwidth in /usr/local/lib/python3.10/dist-packages (from PrettyTable>=0.7.2->osprofiler>=1.4.0->mistral) (0.2.13)\n",
            "Requirement already satisfied: six>=1.5 in /usr/local/lib/python3.10/dist-packages (from python-dateutil->croniter>=0.3.4->mistral) (1.17.0)\n",
            "Collecting repoze.lru>=0.3 (from Routes>=2.3.1->oslo.service>=2.1.0->mistral)\n",
            "  Downloading repoze.lru-0.7-py3-none-any.whl.metadata (1.1 kB)\n",
            "Collecting testtools (from testscenarios>=0.4->oslo.db>=4.40.0->mistral)\n",
            "  Downloading testtools-2.7.2-py3-none-any.whl.metadata (5.2 kB)\n",
            "Requirement already satisfied: pycparser in /usr/local/lib/python3.10/dist-packages (from cffi>=1.12->cryptography>=3.3->paramiko>=2.4.1->mistral) (2.22)\n",
            "Downloading mistral-19.0.0-py3-none-any.whl (716 kB)\n",
            "\u001b[2K   \u001b[90m━━━━━━━━━━━━━━━━━━━━━━━━━━━━━━━━━━━━━━━━\u001b[0m \u001b[32m717.0/717.0 kB\u001b[0m \u001b[31m15.1 MB/s\u001b[0m eta \u001b[36m0:00:00\u001b[0m\n",
            "\u001b[?25hDownloading alembic-1.14.0-py3-none-any.whl (233 kB)\n",
            "\u001b[2K   \u001b[90m━━━━━━━━━━━━━━━━━━━━━━━━━━━━━━━━━━━━━━━━\u001b[0m \u001b[32m233.5/233.5 kB\u001b[0m \u001b[31m24.4 MB/s\u001b[0m eta \u001b[36m0:00:00\u001b[0m\n",
            "\u001b[?25hDownloading croniter-6.0.0-py2.py3-none-any.whl (25 kB)\n",
            "Downloading dogpile.cache-1.3.3-py3-none-any.whl (58 kB)\n",
            "\u001b[2K   \u001b[90m━━━━━━━━━━━━━━━━━━━━━━━━━━━━━━━━━━━━━━━━\u001b[0m \u001b[32m58.7/58.7 kB\u001b[0m \u001b[31m5.2 MB/s\u001b[0m eta \u001b[36m0:00:00\u001b[0m\n",
            "\u001b[?25hDownloading eventlet-0.38.2-py3-none-any.whl (363 kB)\n",
            "\u001b[2K   \u001b[90m━━━━━━━━━━━━━━━━━━━━━━━━━━━━━━━━━━━━━━━━\u001b[0m \u001b[32m363.2/363.2 kB\u001b[0m \u001b[31m32.0 MB/s\u001b[0m eta \u001b[36m0:00:00\u001b[0m\n",
            "\u001b[?25hDownloading keystonemiddleware-10.8.0-py3-none-any.whl (151 kB)\n",
            "\u001b[2K   \u001b[90m━━━━━━━━━━━━━━━━━━━━━━━━━━━━━━━━━━━━━━━━\u001b[0m \u001b[32m151.1/151.1 kB\u001b[0m \u001b[31m15.2 MB/s\u001b[0m eta \u001b[36m0:00:00\u001b[0m\n",
            "\u001b[?25hDownloading kombu-5.4.2-py3-none-any.whl (201 kB)\n",
            "\u001b[2K   \u001b[90m━━━━━━━━━━━━━━━━━━━━━━━━━━━━━━━━━━━━━━━━\u001b[0m \u001b[32m201.3/201.3 kB\u001b[0m \u001b[31m17.7 MB/s\u001b[0m eta \u001b[36m0:00:00\u001b[0m\n",
            "\u001b[?25hDownloading vine-5.1.0-py3-none-any.whl (9.6 kB)\n",
            "Downloading mistral_lib-3.0.0-py3-none-any.whl (37 kB)\n",
            "Downloading oslo.concurrency-6.2.0-py3-none-any.whl (48 kB)\n",
            "\u001b[2K   \u001b[90m━━━━━━━━━━━━━━━━━━━━━━━━━━━━━━━━━━━━━━━━\u001b[0m \u001b[32m48.2/48.2 kB\u001b[0m \u001b[31m4.8 MB/s\u001b[0m eta \u001b[36m0:00:00\u001b[0m\n",
            "\u001b[?25hDownloading oslo.config-9.7.0-py3-none-any.whl (131 kB)\n",
            "\u001b[2K   \u001b[90m━━━━━━━━━━━━━━━━━━━━━━━━━━━━━━━━━━━━━━━━\u001b[0m \u001b[32m131.8/131.8 kB\u001b[0m \u001b[31m13.9 MB/s\u001b[0m eta \u001b[36m0:00:00\u001b[0m\n",
            "\u001b[?25hDownloading oslo.context-5.7.0-py3-none-any.whl (20 kB)\n",
            "Downloading oslo.db-17.1.0-py3-none-any.whl (159 kB)\n",
            "\u001b[2K   \u001b[90m━━━━━━━━━━━━━━━━━━━━━━━━━━━━━━━━━━━━━━━━\u001b[0m \u001b[32m159.6/159.6 kB\u001b[0m \u001b[31m15.8 MB/s\u001b[0m eta \u001b[36m0:00:00\u001b[0m\n",
            "\u001b[?25hDownloading oslo.i18n-6.5.0-py3-none-any.whl (46 kB)\n",
            "\u001b[2K   \u001b[90m━━━━━━━━━━━━━━━━━━━━━━━━━━━━━━━━━━━━━━━━\u001b[0m \u001b[32m46.8/46.8 kB\u001b[0m \u001b[31m4.6 MB/s\u001b[0m eta \u001b[36m0:00:00\u001b[0m\n",
            "\u001b[?25hDownloading oslo.log-6.2.0-py3-none-any.whl (73 kB)\n",
            "\u001b[2K   \u001b[90m━━━━━━━━━━━━━━━━━━━━━━━━━━━━━━━━━━━━━━━━\u001b[0m \u001b[32m73.9/73.9 kB\u001b[0m \u001b[31m7.1 MB/s\u001b[0m eta \u001b[36m0:00:00\u001b[0m\n",
            "\u001b[?25hDownloading oslo.messaging-15.0.0-py3-none-any.whl (202 kB)\n",
            "\u001b[2K   \u001b[90m━━━━━━━━━━━━━━━━━━━━━━━━━━━━━━━━━━━━━━━━\u001b[0m \u001b[32m202.3/202.3 kB\u001b[0m \u001b[31m19.8 MB/s\u001b[0m eta \u001b[36m0:00:00\u001b[0m\n",
            "\u001b[?25hDownloading oslo.middleware-6.3.0-py3-none-any.whl (64 kB)\n",
            "\u001b[2K   \u001b[90m━━━━━━━━━━━━━━━━━━━━━━━━━━━━━━━━━━━━━━━━\u001b[0m \u001b[32m64.6/64.6 kB\u001b[0m \u001b[31m6.8 MB/s\u001b[0m eta \u001b[36m0:00:00\u001b[0m\n",
            "\u001b[?25hDownloading oslo.policy-4.5.0-py3-none-any.whl (88 kB)\n",
            "\u001b[2K   \u001b[90m━━━━━━━━━━━━━━━━━━━━━━━━━━━━━━━━━━━━━━━━\u001b[0m \u001b[32m88.6/88.6 kB\u001b[0m \u001b[31m9.0 MB/s\u001b[0m eta \u001b[36m0:00:00\u001b[0m\n",
            "\u001b[?25hDownloading oslo.serialization-5.6.0-py3-none-any.whl (26 kB)\n",
            "Downloading oslo.service-3.6.0-py3-none-any.whl (77 kB)\n",
            "\u001b[2K   \u001b[90m━━━━━━━━━━━━━━━━━━━━━━━━━━━━━━━━━━━━━━━━\u001b[0m \u001b[32m77.0/77.0 kB\u001b[0m \u001b[31m7.5 MB/s\u001b[0m eta \u001b[36m0:00:00\u001b[0m\n",
            "\u001b[?25hDownloading oslo.utils-8.0.0-py3-none-any.whl (132 kB)\n",
            "\u001b[2K   \u001b[90m━━━━━━━━━━━━━━━━━━━━━━━━━━━━━━━━━━━━━━━━\u001b[0m \u001b[32m132.9/132.9 kB\u001b[0m \u001b[31m13.4 MB/s\u001b[0m eta \u001b[36m0:00:00\u001b[0m\n",
            "\u001b[?25hDownloading osprofiler-4.2.0-py3-none-any.whl (95 kB)\n",
            "\u001b[2K   \u001b[90m━━━━━━━━━━━━━━━━━━━━━━━━━━━━━━━━━━━━━━━━\u001b[0m \u001b[32m95.4/95.4 kB\u001b[0m \u001b[31m9.8 MB/s\u001b[0m eta \u001b[36m0:00:00\u001b[0m\n",
            "\u001b[?25hDownloading paramiko-3.5.0-py3-none-any.whl (227 kB)\n",
            "\u001b[2K   \u001b[90m━━━━━━━━━━━━━━━━━━━━━━━━━━━━━━━━━━━━━━━━\u001b[0m \u001b[32m227.1/227.1 kB\u001b[0m \u001b[31m21.6 MB/s\u001b[0m eta \u001b[36m0:00:00\u001b[0m\n",
            "\u001b[?25hDownloading pbr-6.1.0-py2.py3-none-any.whl (108 kB)\n",
            "\u001b[2K   \u001b[90m━━━━━━━━━━━━━━━━━━━━━━━━━━━━━━━━━━━━━━━━\u001b[0m \u001b[32m108.5/108.5 kB\u001b[0m \u001b[31m11.2 MB/s\u001b[0m eta \u001b[36m0:00:00\u001b[0m\n",
            "\u001b[?25hDownloading pecan-1.5.1-py3-none-any.whl (146 kB)\n",
            "\u001b[2K   \u001b[90m━━━━━━━━━━━━━━━━━━━━━━━━━━━━━━━━━━━━━━━━\u001b[0m \u001b[32m146.1/146.1 kB\u001b[0m \u001b[31m16.3 MB/s\u001b[0m eta \u001b[36m0:00:00\u001b[0m\n",
            "\u001b[?25hDownloading stevedore-5.4.0-py3-none-any.whl (49 kB)\n",
            "\u001b[2K   \u001b[90m━━━━━━━━━━━━━━━━━━━━━━━━━━━━━━━━━━━━━━━━\u001b[0m \u001b[32m49.5/49.5 kB\u001b[0m \u001b[31m5.3 MB/s\u001b[0m eta \u001b[36m0:00:00\u001b[0m\n",
            "\u001b[?25hDownloading tooz-6.3.0-py3-none-any.whl (91 kB)\n",
            "\u001b[2K   \u001b[90m━━━━━━━━━━━━━━━━━━━━━━━━━━━━━━━━━━━━━━━━\u001b[0m \u001b[32m91.6/91.6 kB\u001b[0m \u001b[31m10.0 MB/s\u001b[0m eta \u001b[36m0:00:00\u001b[0m\n",
            "\u001b[?25hDownloading WSME-0.12.1-py3-none-any.whl (59 kB)\n",
            "\u001b[2K   \u001b[90m━━━━━━━━━━━━━━━━━━━━━━━━━━━━━━━━━━━━━━━━\u001b[0m \u001b[32m59.6/59.6 kB\u001b[0m \u001b[31m6.4 MB/s\u001b[0m eta \u001b[36m0:00:00\u001b[0m\n",
            "\u001b[?25hDownloading yaql-3.0.0-py3-none-any.whl (125 kB)\n",
            "\u001b[2K   \u001b[90m━━━━━━━━━━━━━━━━━━━━━━━━━━━━━━━━━━━━━━━━\u001b[0m \u001b[32m125.8/125.8 kB\u001b[0m \u001b[31m12.7 MB/s\u001b[0m eta \u001b[36m0:00:00\u001b[0m\n",
            "\u001b[?25hDownloading amqp-5.3.1-py3-none-any.whl (50 kB)\n",
            "\u001b[2K   \u001b[90m━━━━━━━━━━━━━━━━━━━━━━━━━━━━━━━━━━━━━━━━\u001b[0m \u001b[32m50.9/50.9 kB\u001b[0m \u001b[31m5.2 MB/s\u001b[0m eta \u001b[36m0:00:00\u001b[0m\n",
            "\u001b[?25hDownloading bcrypt-4.2.1-cp39-abi3-manylinux_2_28_x86_64.whl (278 kB)\n",
            "\u001b[2K   \u001b[90m━━━━━━━━━━━━━━━━━━━━━━━━━━━━━━━━━━━━━━━━\u001b[0m \u001b[32m278.6/278.6 kB\u001b[0m \u001b[31m27.0 MB/s\u001b[0m eta \u001b[36m0:00:00\u001b[0m\n",
            "\u001b[?25hDownloading debtcollector-3.0.0-py3-none-any.whl (23 kB)\n",
            "Downloading dnspython-2.7.0-py3-none-any.whl (313 kB)\n",
            "\u001b[2K   \u001b[90m━━━━━━━━━━━━━━━━━━━━━━━━━━━━━━━━━━━━━━━━\u001b[0m \u001b[32m313.6/313.6 kB\u001b[0m \u001b[31m28.9 MB/s\u001b[0m eta \u001b[36m0:00:00\u001b[0m\n",
            "\u001b[?25hDownloading fasteners-0.19-py3-none-any.whl (18 kB)\n",
            "Downloading futurist-3.0.0-py3-none-any.whl (37 kB)\n",
            "Downloading iso8601-2.1.0-py3-none-any.whl (7.5 kB)\n",
            "Downloading keystoneauth1-5.9.1-py3-none-any.whl (341 kB)\n",
            "\u001b[2K   \u001b[90m━━━━━━━━━━━━━━━━━━━━━━━━━━━━━━━━━━━━━━━━\u001b[0m \u001b[32m341.6/341.6 kB\u001b[0m \u001b[31m31.4 MB/s\u001b[0m eta \u001b[36m0:00:00\u001b[0m\n",
            "\u001b[?25hDownloading Mako-1.3.8-py3-none-any.whl (78 kB)\n",
            "\u001b[2K   \u001b[90m━━━━━━━━━━━━━━━━━━━━━━━━━━━━━━━━━━━━━━━━\u001b[0m \u001b[32m78.6/78.6 kB\u001b[0m \u001b[31m8.3 MB/s\u001b[0m eta \u001b[36m0:00:00\u001b[0m\n",
            "\u001b[?25hDownloading netaddr-1.3.0-py3-none-any.whl (2.3 MB)\n",
            "\u001b[2K   \u001b[90m━━━━━━━━━━━━━━━━━━━━━━━━━━━━━━━━━━━━━━━━\u001b[0m \u001b[32m2.3/2.3 MB\u001b[0m \u001b[31m63.0 MB/s\u001b[0m eta \u001b[36m0:00:00\u001b[0m\n",
            "\u001b[?25hDownloading oslo.cache-3.9.0-py3-none-any.whl (75 kB)\n",
            "\u001b[2K   \u001b[90m━━━━━━━━━━━━━━━━━━━━━━━━━━━━━━━━━━━━━━━━\u001b[0m \u001b[32m75.9/75.9 kB\u001b[0m \u001b[31m7.6 MB/s\u001b[0m eta \u001b[36m0:00:00\u001b[0m\n",
            "\u001b[?25hDownloading oslo.metrics-0.10.0-py3-none-any.whl (13 kB)\n",
            "Downloading Paste-3.10.1-py3-none-any.whl (289 kB)\n",
            "\u001b[2K   \u001b[90m━━━━━━━━━━━━━━━━━━━━━━━━━━━━━━━━━━━━━━━━\u001b[0m \u001b[32m289.3/289.3 kB\u001b[0m \u001b[31m27.6 MB/s\u001b[0m eta \u001b[36m0:00:00\u001b[0m\n",
            "\u001b[?25hDownloading PasteDeploy-3.1.0-py3-none-any.whl (16 kB)\n",
            "Downloading pycadf-4.0.0-py3-none-any.whl (43 kB)\n",
            "\u001b[2K   \u001b[90m━━━━━━━━━━━━━━━━━━━━━━━━━━━━━━━━━━━━━━━━\u001b[0m \u001b[32m43.1/43.1 kB\u001b[0m \u001b[31m4.0 MB/s\u001b[0m eta \u001b[36m0:00:00\u001b[0m\n",
            "\u001b[?25hDownloading PyNaCl-1.5.0-cp36-abi3-manylinux_2_17_x86_64.manylinux2014_x86_64.manylinux_2_24_x86_64.whl (856 kB)\n",
            "\u001b[2K   \u001b[90m━━━━━━━━━━━━━━━━━━━━━━━━━━━━━━━━━━━━━━━━\u001b[0m \u001b[32m856.7/856.7 kB\u001b[0m \u001b[31m51.9 MB/s\u001b[0m eta \u001b[36m0:00:00\u001b[0m\n",
            "\u001b[?25hDownloading python_keystoneclient-5.5.0-py3-none-any.whl (397 kB)\n",
            "\u001b[2K   \u001b[90m━━━━━━━━━━━━━━━━━━━━━━━━━━━━━━━━━━━━━━━━\u001b[0m \u001b[32m397.2/397.2 kB\u001b[0m \u001b[31m34.3 MB/s\u001b[0m eta \u001b[36m0:00:00\u001b[0m\n",
            "\u001b[?25hDownloading rfc3986-2.0.0-py2.py3-none-any.whl (31 kB)\n",
            "Downloading Routes-2.5.1-py2.py3-none-any.whl (40 kB)\n",
            "\u001b[2K   \u001b[90m━━━━━━━━━━━━━━━━━━━━━━━━━━━━━━━━━━━━━━━━\u001b[0m \u001b[32m40.1/40.1 kB\u001b[0m \u001b[31m3.8 MB/s\u001b[0m eta \u001b[36m0:00:00\u001b[0m\n",
            "\u001b[?25hDownloading statsd-4.0.1-py2.py3-none-any.whl (13 kB)\n",
            "Downloading testresources-2.0.1-py2.py3-none-any.whl (36 kB)\n",
            "Downloading testscenarios-0.5.0-py2.py3-none-any.whl (21 kB)\n",
            "Downloading voluptuous-0.15.2-py3-none-any.whl (31 kB)\n",
            "Downloading WebOb-1.8.9-py2.py3-none-any.whl (115 kB)\n",
            "\u001b[2K   \u001b[90m━━━━━━━━━━━━━━━━━━━━━━━━━━━━━━━━━━━━━━━━\u001b[0m \u001b[32m115.4/115.4 kB\u001b[0m \u001b[31m10.9 MB/s\u001b[0m eta \u001b[36m0:00:00\u001b[0m\n",
            "\u001b[?25hDownloading yappi-1.6.10-cp310-cp310-manylinux_2_5_x86_64.manylinux1_x86_64.manylinux_2_17_x86_64.manylinux2014_x86_64.whl (79 kB)\n",
            "\u001b[2K   \u001b[90m━━━━━━━━━━━━━━━━━━━━━━━━━━━━━━━━━━━━━━━━\u001b[0m \u001b[32m79.1/79.1 kB\u001b[0m \u001b[31m8.6 MB/s\u001b[0m eta \u001b[36m0:00:00\u001b[0m\n",
            "\u001b[?25hDownloading os_service_types-1.7.0-py2.py3-none-any.whl (24 kB)\n",
            "Downloading repoze.lru-0.7-py3-none-any.whl (10 kB)\n",
            "Downloading testtools-2.7.2-py3-none-any.whl (179 kB)\n",
            "\u001b[2K   \u001b[90m━━━━━━━━━━━━━━━━━━━━━━━━━━━━━━━━━━━━━━━━\u001b[0m \u001b[32m179.9/179.9 kB\u001b[0m \u001b[31m18.7 MB/s\u001b[0m eta \u001b[36m0:00:00\u001b[0m\n",
            "\u001b[?25hBuilding wheels for collected packages: logutils, simplegeneric\n",
            "  Building wheel for logutils (setup.py) ... \u001b[?25l\u001b[?25hdone\n",
            "  Created wheel for logutils: filename=logutils-0.3.5-py3-none-any.whl size=19928 sha256=2633e2a66c9ecc1657ecb1c0e07b27ac94dab5314e6b63f5d159a28c7eca14e3\n",
            "  Stored in directory: /root/.cache/pip/wheels/14/79/18/d4879c632aaa2097f00b8f19008f4833af5bc8c871544c4cb5\n",
            "  Building wheel for simplegeneric (setup.py) ... \u001b[?25l\u001b[?25hdone\n",
            "  Created wheel for simplegeneric: filename=simplegeneric-0.8.1-py3-none-any.whl size=5058 sha256=1f68430ebb927ca91e4b0801005535d9770eaf8d5b7e90e02a6eda1403fd2568\n",
            "  Stored in directory: /root/.cache/pip/wheels/6a/88/e8/d4f4d830f0edaf91815bd9714e65b3c57ebc95c4ddfc6416a6\n",
            "Successfully built logutils simplegeneric\n",
            "Installing collected packages: statsd, simplegeneric, repoze.lru, logutils, Yappi, WebOb, voluptuous, vine, testtools, Routes, rfc3986, pbr, PasteDeploy, Paste, netaddr, Mako, iso8601, futurist, fasteners, dnspython, debtcollector, bcrypt, yaql, WSME, testscenarios, testresources, stevedore, pynacl, pecan, oslo.i18n, oslo.context, os-service-types, eventlet, croniter, amqp, alembic, paramiko, oslo.utils, oslo.config, kombu, keystoneauth1, dogpile.cache, oslo.serialization, oslo.middleware, oslo.db, oslo.concurrency, tooz, python-keystoneclient, pycadf, osprofiler, oslo.policy, oslo.log, oslo.service, oslo.metrics, oslo.cache, mistral-lib, oslo.messaging, keystonemiddleware, mistral\n",
            "Successfully installed Mako-1.3.8 Paste-3.10.1 PasteDeploy-3.1.0 Routes-2.5.1 WSME-0.12.1 WebOb-1.8.9 Yappi-1.6.10 alembic-1.14.0 amqp-5.3.1 bcrypt-4.2.1 croniter-6.0.0 debtcollector-3.0.0 dnspython-2.7.0 dogpile.cache-1.3.3 eventlet-0.38.2 fasteners-0.19 futurist-3.0.0 iso8601-2.1.0 keystoneauth1-5.9.1 keystonemiddleware-10.8.0 kombu-5.4.2 logutils-0.3.5 mistral-19.0.0 mistral-lib-3.0.0 netaddr-1.3.0 os-service-types-1.7.0 oslo.cache-3.9.0 oslo.concurrency-6.2.0 oslo.config-9.7.0 oslo.context-5.7.0 oslo.db-17.1.0 oslo.i18n-6.5.0 oslo.log-6.2.0 oslo.messaging-15.0.0 oslo.metrics-0.10.0 oslo.middleware-6.3.0 oslo.policy-4.5.0 oslo.serialization-5.6.0 oslo.service-3.6.0 oslo.utils-8.0.0 osprofiler-4.2.0 paramiko-3.5.0 pbr-6.1.0 pecan-1.5.1 pycadf-4.0.0 pynacl-1.5.0 python-keystoneclient-5.5.0 repoze.lru-0.7 rfc3986-2.0.0 simplegeneric-0.8.1 statsd-4.0.1 stevedore-5.4.0 testresources-2.0.1 testscenarios-0.5.0 testtools-2.7.2 tooz-6.3.0 vine-5.1.0 voluptuous-0.15.2 yaql-3.0.0\n"
          ]
        }
      ]
    },
    {
      "cell_type": "code",
      "source": [
        "!pip install mistral.common mistral.model"
      ],
      "metadata": {
        "colab": {
          "base_uri": "https://localhost:8080/"
        },
        "id": "D6UOMjzMlvN0",
        "outputId": "ec58dcb2-7217-41ed-89a6-5dd6ba022e9c"
      },
      "execution_count": null,
      "outputs": [
        {
          "output_type": "stream",
          "name": "stdout",
          "text": [
            "Requirement already satisfied: mistral.common in /usr/local/lib/python3.10/dist-packages (1.5.1)\n",
            "\u001b[31mERROR: Could not find a version that satisfies the requirement mistral.model (from versions: none)\u001b[0m\u001b[31m\n",
            "\u001b[0m\u001b[31mERROR: No matching distribution found for mistral.model\u001b[0m\u001b[31m\n",
            "\u001b[0m"
          ]
        }
      ]
    },
    {
      "source": [
        "!pip install mistral\n",
        "!pip install mistral.common mistral.model"
      ],
      "cell_type": "code",
      "metadata": {
        "colab": {
          "base_uri": "https://localhost:8080/"
        },
        "id": "n03S4KAFl9FB",
        "outputId": "c3c4a7e6-5d65-4534-9e5e-d2027788944d"
      },
      "execution_count": null,
      "outputs": [
        {
          "output_type": "stream",
          "name": "stdout",
          "text": [
            "Requirement already satisfied: mistral in /usr/local/lib/python3.10/dist-packages (19.0.0)\n",
            "Requirement already satisfied: Jinja2>=2.10 in /usr/local/lib/python3.10/dist-packages (from mistral) (3.1.5)\n",
            "Requirement already satisfied: PyJWT>=1.5 in /usr/local/lib/python3.10/dist-packages (from mistral) (2.10.1)\n",
            "Requirement already satisfied: PyYAML>=5.1 in /usr/local/lib/python3.10/dist-packages (from mistral) (6.0.2)\n",
            "Requirement already satisfied: SQLAlchemy>=1.2.5 in /usr/local/lib/python3.10/dist-packages (from mistral) (2.0.36)\n",
            "Requirement already satisfied: WSME>=0.8.0 in /usr/local/lib/python3.10/dist-packages (from mistral) (0.12.1)\n",
            "Requirement already satisfied: alembic>=0.9.6 in /usr/local/lib/python3.10/dist-packages (from mistral) (1.14.0)\n",
            "Requirement already satisfied: cachetools>=2.0.0 in /usr/local/lib/python3.10/dist-packages (from mistral) (5.5.0)\n",
            "Requirement already satisfied: croniter>=0.3.4 in /usr/local/lib/python3.10/dist-packages (from mistral) (6.0.0)\n",
            "Requirement already satisfied: dogpile.cache>=0.6.2 in /usr/local/lib/python3.10/dist-packages (from mistral) (1.3.3)\n",
            "Requirement already satisfied: eventlet>=0.26.0 in /usr/local/lib/python3.10/dist-packages (from mistral) (0.38.2)\n",
            "Requirement already satisfied: jsonschema>=3.2.0 in /usr/local/lib/python3.10/dist-packages (from mistral) (4.23.0)\n",
            "Requirement already satisfied: keystonemiddleware>=4.18.0 in /usr/local/lib/python3.10/dist-packages (from mistral) (10.8.0)\n",
            "Requirement already satisfied: kombu!=4.0.2,>=4.6.1 in /usr/local/lib/python3.10/dist-packages (from mistral) (5.4.2)\n",
            "Requirement already satisfied: mistral-lib>=2.3.0 in /usr/local/lib/python3.10/dist-packages (from mistral) (3.0.0)\n",
            "Requirement already satisfied: networkx>=2.3 in /usr/local/lib/python3.10/dist-packages (from mistral) (3.4.2)\n",
            "Requirement already satisfied: oslo.concurrency>=3.26.0 in /usr/local/lib/python3.10/dist-packages (from mistral) (6.2.0)\n",
            "Requirement already satisfied: oslo.config>=6.8.0 in /usr/local/lib/python3.10/dist-packages (from mistral) (9.7.0)\n",
            "Requirement already satisfied: oslo.context>=2.22.0 in /usr/local/lib/python3.10/dist-packages (from mistral) (5.7.0)\n",
            "Requirement already satisfied: oslo.db>=4.40.0 in /usr/local/lib/python3.10/dist-packages (from mistral) (17.1.0)\n",
            "Requirement already satisfied: oslo.i18n>=3.15.3 in /usr/local/lib/python3.10/dist-packages (from mistral) (6.5.0)\n",
            "Requirement already satisfied: oslo.log>=3.36.0 in /usr/local/lib/python3.10/dist-packages (from mistral) (6.2.0)\n",
            "Requirement already satisfied: oslo.messaging>=14.1.0 in /usr/local/lib/python3.10/dist-packages (from mistral) (15.0.0)\n",
            "Requirement already satisfied: oslo.middleware>=3.31.0 in /usr/local/lib/python3.10/dist-packages (from mistral) (6.3.0)\n",
            "Requirement already satisfied: oslo.policy>=3.6.0 in /usr/local/lib/python3.10/dist-packages (from mistral) (4.5.0)\n",
            "Requirement already satisfied: oslo.serialization>=2.21.1 in /usr/local/lib/python3.10/dist-packages (from mistral) (5.6.0)\n",
            "Requirement already satisfied: oslo.service>=2.1.0 in /usr/local/lib/python3.10/dist-packages (from mistral) (3.6.0)\n",
            "Requirement already satisfied: oslo.utils>=4.0.0 in /usr/local/lib/python3.10/dist-packages (from mistral) (8.0.0)\n",
            "Requirement already satisfied: osprofiler>=1.4.0 in /usr/local/lib/python3.10/dist-packages (from mistral) (4.2.0)\n",
            "Requirement already satisfied: paramiko>=2.4.1 in /usr/local/lib/python3.10/dist-packages (from mistral) (3.5.0)\n",
            "Requirement already satisfied: pbr!=2.1.0,>=2.0.0 in /usr/local/lib/python3.10/dist-packages (from mistral) (6.1.0)\n",
            "Requirement already satisfied: pecan>=1.2.1 in /usr/local/lib/python3.10/dist-packages (from mistral) (1.5.1)\n",
            "Requirement already satisfied: requests>=2.18.0 in /usr/local/lib/python3.10/dist-packages (from mistral) (2.32.3)\n",
            "Requirement already satisfied: stevedore>=1.20.0 in /usr/local/lib/python3.10/dist-packages (from mistral) (5.4.0)\n",
            "Requirement already satisfied: tenacity>=5.0.1 in /usr/local/lib/python3.10/dist-packages (from mistral) (9.0.0)\n",
            "Requirement already satisfied: tooz>=1.58.0 in /usr/local/lib/python3.10/dist-packages (from mistral) (6.3.0)\n",
            "Requirement already satisfied: yaql>=1.1.3 in /usr/local/lib/python3.10/dist-packages (from mistral) (3.0.0)\n",
            "Requirement already satisfied: Mako in /usr/local/lib/python3.10/dist-packages (from alembic>=0.9.6->mistral) (1.3.8)\n",
            "Requirement already satisfied: typing-extensions>=4 in /usr/local/lib/python3.10/dist-packages (from alembic>=0.9.6->mistral) (4.12.2)\n",
            "Requirement already satisfied: python-dateutil in /usr/local/lib/python3.10/dist-packages (from croniter>=0.3.4->mistral) (2.8.2)\n",
            "Requirement already satisfied: pytz>2021.1 in /usr/local/lib/python3.10/dist-packages (from croniter>=0.3.4->mistral) (2024.2)\n",
            "Requirement already satisfied: decorator>=4.0.0 in /usr/local/lib/python3.10/dist-packages (from dogpile.cache>=0.6.2->mistral) (4.4.2)\n",
            "Requirement already satisfied: dnspython>=1.15.0 in /usr/local/lib/python3.10/dist-packages (from eventlet>=0.26.0->mistral) (2.7.0)\n",
            "Requirement already satisfied: greenlet>=1.0 in /usr/local/lib/python3.10/dist-packages (from eventlet>=0.26.0->mistral) (3.1.1)\n",
            "Requirement already satisfied: MarkupSafe>=2.0 in /usr/local/lib/python3.10/dist-packages (from Jinja2>=2.10->mistral) (3.0.2)\n",
            "Requirement already satisfied: attrs>=22.2.0 in /usr/local/lib/python3.10/dist-packages (from jsonschema>=3.2.0->mistral) (24.3.0)\n",
            "Requirement already satisfied: jsonschema-specifications>=2023.03.6 in /usr/local/lib/python3.10/dist-packages (from jsonschema>=3.2.0->mistral) (2024.10.1)\n",
            "Requirement already satisfied: referencing>=0.28.4 in /usr/local/lib/python3.10/dist-packages (from jsonschema>=3.2.0->mistral) (0.35.1)\n",
            "Requirement already satisfied: rpds-py>=0.7.1 in /usr/local/lib/python3.10/dist-packages (from jsonschema>=3.2.0->mistral) (0.22.3)\n",
            "Requirement already satisfied: WebOb>=1.7.1 in /usr/local/lib/python3.10/dist-packages (from keystonemiddleware>=4.18.0->mistral) (1.8.9)\n",
            "Requirement already satisfied: keystoneauth1>=3.12.0 in /usr/local/lib/python3.10/dist-packages (from keystonemiddleware>=4.18.0->mistral) (5.9.1)\n",
            "Requirement already satisfied: oslo.cache>=1.26.0 in /usr/local/lib/python3.10/dist-packages (from keystonemiddleware>=4.18.0->mistral) (3.9.0)\n",
            "Requirement already satisfied: pycadf>=1.1.0 in /usr/local/lib/python3.10/dist-packages (from keystonemiddleware>=4.18.0->mistral) (4.0.0)\n",
            "Requirement already satisfied: python-keystoneclient>=3.20.0 in /usr/local/lib/python3.10/dist-packages (from keystonemiddleware>=4.18.0->mistral) (5.5.0)\n",
            "Requirement already satisfied: amqp<6.0.0,>=5.1.1 in /usr/local/lib/python3.10/dist-packages (from kombu!=4.0.2,>=4.6.1->mistral) (5.3.1)\n",
            "Requirement already satisfied: vine==5.1.0 in /usr/local/lib/python3.10/dist-packages (from kombu!=4.0.2,>=4.6.1->mistral) (5.1.0)\n",
            "Requirement already satisfied: tzdata in /usr/local/lib/python3.10/dist-packages (from kombu!=4.0.2,>=4.6.1->mistral) (2024.2)\n",
            "Requirement already satisfied: fasteners>=0.7.0 in /usr/local/lib/python3.10/dist-packages (from oslo.concurrency>=3.26.0->mistral) (0.19)\n",
            "Requirement already satisfied: debtcollector>=1.2.0 in /usr/local/lib/python3.10/dist-packages (from oslo.config>=6.8.0->mistral) (3.0.0)\n",
            "Requirement already satisfied: netaddr>=0.7.18 in /usr/local/lib/python3.10/dist-packages (from oslo.config>=6.8.0->mistral) (1.3.0)\n",
            "Requirement already satisfied: rfc3986>=1.2.0 in /usr/local/lib/python3.10/dist-packages (from oslo.config>=6.8.0->mistral) (2.0.0)\n",
            "Requirement already satisfied: testresources>=2.0.0 in /usr/local/lib/python3.10/dist-packages (from oslo.db>=4.40.0->mistral) (2.0.1)\n",
            "Requirement already satisfied: testscenarios>=0.4 in /usr/local/lib/python3.10/dist-packages (from oslo.db>=4.40.0->mistral) (0.5.0)\n",
            "Requirement already satisfied: futurist>=1.2.0 in /usr/local/lib/python3.10/dist-packages (from oslo.messaging>=14.1.0->mistral) (3.0.0)\n",
            "Requirement already satisfied: oslo.metrics>=0.2.1 in /usr/local/lib/python3.10/dist-packages (from oslo.messaging>=14.1.0->mistral) (0.10.0)\n",
            "Requirement already satisfied: bcrypt>=3.1.3 in /usr/local/lib/python3.10/dist-packages (from oslo.middleware>=3.31.0->mistral) (4.2.1)\n",
            "Requirement already satisfied: statsd>=3.2.1 in /usr/local/lib/python3.10/dist-packages (from oslo.middleware>=3.31.0->mistral) (4.0.1)\n",
            "Requirement already satisfied: msgpack>=0.5.2 in /usr/local/lib/python3.10/dist-packages (from oslo.serialization>=2.21.1->mistral) (1.1.0)\n",
            "Requirement already satisfied: Paste>=2.0.2 in /usr/local/lib/python3.10/dist-packages (from oslo.service>=2.1.0->mistral) (3.10.1)\n",
            "Requirement already satisfied: PasteDeploy>=1.5.0 in /usr/local/lib/python3.10/dist-packages (from oslo.service>=2.1.0->mistral) (3.1.0)\n",
            "Requirement already satisfied: Routes>=2.3.1 in /usr/local/lib/python3.10/dist-packages (from oslo.service>=2.1.0->mistral) (2.5.1)\n",
            "Requirement already satisfied: Yappi>=1.0 in /usr/local/lib/python3.10/dist-packages (from oslo.service>=2.1.0->mistral) (1.6.10)\n",
            "Requirement already satisfied: iso8601>=0.1.11 in /usr/local/lib/python3.10/dist-packages (from oslo.utils>=4.0.0->mistral) (2.1.0)\n",
            "Requirement already satisfied: packaging>=20.4 in /usr/local/lib/python3.10/dist-packages (from oslo.utils>=4.0.0->mistral) (24.2)\n",
            "Requirement already satisfied: psutil>=3.2.2 in /usr/local/lib/python3.10/dist-packages (from oslo.utils>=4.0.0->mistral) (5.9.5)\n",
            "Requirement already satisfied: pyparsing>=2.1.0 in /usr/local/lib/python3.10/dist-packages (from oslo.utils>=4.0.0->mistral) (3.2.1)\n",
            "Requirement already satisfied: PrettyTable>=0.7.2 in /usr/local/lib/python3.10/dist-packages (from osprofiler>=1.4.0->mistral) (3.12.0)\n",
            "Requirement already satisfied: cryptography>=3.3 in /usr/local/lib/python3.10/dist-packages (from paramiko>=2.4.1->mistral) (43.0.3)\n",
            "Requirement already satisfied: pynacl>=1.5 in /usr/local/lib/python3.10/dist-packages (from paramiko>=2.4.1->mistral) (1.5.0)\n",
            "Requirement already satisfied: setuptools in /usr/local/lib/python3.10/dist-packages (from pecan>=1.2.1->mistral) (75.1.0)\n",
            "Requirement already satisfied: logutils>=0.3 in /usr/local/lib/python3.10/dist-packages (from pecan>=1.2.1->mistral) (0.3.5)\n",
            "Requirement already satisfied: charset-normalizer<4,>=2 in /usr/local/lib/python3.10/dist-packages (from requests>=2.18.0->mistral) (3.4.1)\n",
            "Requirement already satisfied: idna<4,>=2.5 in /usr/local/lib/python3.10/dist-packages (from requests>=2.18.0->mistral) (3.10)\n",
            "Requirement already satisfied: urllib3<3,>=1.21.1 in /usr/local/lib/python3.10/dist-packages (from requests>=2.18.0->mistral) (2.3.0)\n",
            "Requirement already satisfied: certifi>=2017.4.17 in /usr/local/lib/python3.10/dist-packages (from requests>=2.18.0->mistral) (2024.12.14)\n",
            "Requirement already satisfied: voluptuous>=0.8.9 in /usr/local/lib/python3.10/dist-packages (from tooz>=1.58.0->mistral) (0.15.2)\n",
            "Requirement already satisfied: simplegeneric in /usr/local/lib/python3.10/dist-packages (from WSME>=0.8.0->mistral) (0.8.1)\n",
            "Requirement already satisfied: importlib-metadata>=4.4 in /usr/local/lib/python3.10/dist-packages (from WSME>=0.8.0->mistral) (8.5.0)\n",
            "Requirement already satisfied: ply in /usr/local/lib/python3.10/dist-packages (from yaql>=1.1.3->mistral) (3.11)\n",
            "Requirement already satisfied: cffi>=1.12 in /usr/local/lib/python3.10/dist-packages (from cryptography>=3.3->paramiko>=2.4.1->mistral) (1.17.1)\n",
            "Requirement already satisfied: wrapt>=1.7.0 in /usr/local/lib/python3.10/dist-packages (from debtcollector>=1.2.0->oslo.config>=6.8.0->mistral) (1.17.0)\n",
            "Requirement already satisfied: zipp>=3.20 in /usr/local/lib/python3.10/dist-packages (from importlib-metadata>=4.4->WSME>=0.8.0->mistral) (3.21.0)\n",
            "Requirement already satisfied: os-service-types>=1.2.0 in /usr/local/lib/python3.10/dist-packages (from keystoneauth1>=3.12.0->keystonemiddleware>=4.18.0->mistral) (1.7.0)\n",
            "Requirement already satisfied: prometheus-client>=0.6.0 in /usr/local/lib/python3.10/dist-packages (from oslo.metrics>=0.2.1->oslo.messaging>=14.1.0->mistral) (0.21.1)\n",
            "Requirement already satisfied: wcwidth in /usr/local/lib/python3.10/dist-packages (from PrettyTable>=0.7.2->osprofiler>=1.4.0->mistral) (0.2.13)\n",
            "Requirement already satisfied: six>=1.5 in /usr/local/lib/python3.10/dist-packages (from python-dateutil->croniter>=0.3.4->mistral) (1.17.0)\n",
            "Requirement already satisfied: repoze.lru>=0.3 in /usr/local/lib/python3.10/dist-packages (from Routes>=2.3.1->oslo.service>=2.1.0->mistral) (0.7)\n",
            "Requirement already satisfied: testtools in /usr/local/lib/python3.10/dist-packages (from testscenarios>=0.4->oslo.db>=4.40.0->mistral) (2.7.2)\n",
            "Requirement already satisfied: pycparser in /usr/local/lib/python3.10/dist-packages (from cffi>=1.12->cryptography>=3.3->paramiko>=2.4.1->mistral) (2.22)\n",
            "Requirement already satisfied: mistral.common in /usr/local/lib/python3.10/dist-packages (1.5.1)\n",
            "\u001b[31mERROR: Could not find a version that satisfies the requirement mistral.model (from versions: none)\u001b[0m\u001b[31m\n",
            "\u001b[0m\u001b[31mERROR: No matching distribution found for mistral.model\u001b[0m\u001b[31m\n",
            "\u001b[0m"
          ]
        }
      ]
    },
    {
      "cell_type": "code",
      "source": [
        "!pip install --upgrade mistral_inference"
      ],
      "metadata": {
        "colab": {
          "base_uri": "https://localhost:8080/"
        },
        "id": "h3usigImnHJ7",
        "outputId": "d77576f2-106d-4858-b829-58897706d2e2"
      },
      "execution_count": null,
      "outputs": [
        {
          "output_type": "stream",
          "name": "stdout",
          "text": [
            "Requirement already satisfied: mistral_inference in /usr/local/lib/python3.10/dist-packages (1.5.0)\n",
            "Requirement already satisfied: fire>=0.6.0 in /usr/local/lib/python3.10/dist-packages (from mistral_inference) (0.7.0)\n",
            "Requirement already satisfied: mistral_common>=1.4.0 in /usr/local/lib/python3.10/dist-packages (from mistral_inference) (1.5.1)\n",
            "Requirement already satisfied: pillow>=10.3.0 in /usr/local/lib/python3.10/dist-packages (from mistral_inference) (10.4.0)\n",
            "Requirement already satisfied: safetensors>=0.4.0 in /usr/local/lib/python3.10/dist-packages (from mistral_inference) (0.5.0)\n",
            "Requirement already satisfied: simple-parsing>=0.1.5 in /usr/local/lib/python3.10/dist-packages (from mistral_inference) (0.1.6)\n",
            "Requirement already satisfied: xformers>=0.0.24 in /usr/local/lib/python3.10/dist-packages (from mistral_inference) (0.0.24)\n",
            "Requirement already satisfied: termcolor in /usr/local/lib/python3.10/dist-packages (from fire>=0.6.0->mistral_inference) (2.5.0)\n",
            "Requirement already satisfied: jsonschema<5.0.0,>=4.21.1 in /usr/local/lib/python3.10/dist-packages (from mistral_common>=1.4.0->mistral_inference) (4.23.0)\n",
            "Requirement already satisfied: numpy>=1.25 in /usr/local/lib/python3.10/dist-packages (from mistral_common>=1.4.0->mistral_inference) (1.26.4)\n",
            "Requirement already satisfied: pydantic<3.0.0,>=2.6.1 in /usr/local/lib/python3.10/dist-packages (from mistral_common>=1.4.0->mistral_inference) (2.10.4)\n",
            "Requirement already satisfied: requests<3.0.0,>=2.0.0 in /usr/local/lib/python3.10/dist-packages (from mistral_common>=1.4.0->mistral_inference) (2.32.3)\n",
            "Requirement already satisfied: sentencepiece==0.2.0 in /usr/local/lib/python3.10/dist-packages (from mistral_common>=1.4.0->mistral_inference) (0.2.0)\n",
            "Requirement already satisfied: tiktoken<0.8.0,>=0.7.0 in /usr/local/lib/python3.10/dist-packages (from mistral_common>=1.4.0->mistral_inference) (0.7.0)\n",
            "Requirement already satisfied: typing-extensions<5.0.0,>=4.11.0 in /usr/local/lib/python3.10/dist-packages (from mistral_common>=1.4.0->mistral_inference) (4.12.2)\n",
            "Requirement already satisfied: docstring-parser<1.0,>=0.15 in /usr/local/lib/python3.10/dist-packages (from simple-parsing>=0.1.5->mistral_inference) (0.16)\n",
            "Requirement already satisfied: torch==2.2.0 in /usr/local/lib/python3.10/dist-packages (from xformers>=0.0.24->mistral_inference) (2.2.0)\n",
            "Requirement already satisfied: filelock in /usr/local/lib/python3.10/dist-packages (from torch==2.2.0->xformers>=0.0.24->mistral_inference) (3.16.1)\n",
            "Requirement already satisfied: sympy in /usr/local/lib/python3.10/dist-packages (from torch==2.2.0->xformers>=0.0.24->mistral_inference) (1.13.1)\n",
            "Requirement already satisfied: networkx in /usr/local/lib/python3.10/dist-packages (from torch==2.2.0->xformers>=0.0.24->mistral_inference) (3.4.2)\n",
            "Requirement already satisfied: jinja2 in /usr/local/lib/python3.10/dist-packages (from torch==2.2.0->xformers>=0.0.24->mistral_inference) (3.1.5)\n",
            "Requirement already satisfied: fsspec in /usr/local/lib/python3.10/dist-packages (from torch==2.2.0->xformers>=0.0.24->mistral_inference) (2024.10.0)\n",
            "Requirement already satisfied: nvidia-cuda-nvrtc-cu12==12.1.105 in /usr/local/lib/python3.10/dist-packages (from torch==2.2.0->xformers>=0.0.24->mistral_inference) (12.1.105)\n",
            "Requirement already satisfied: nvidia-cuda-runtime-cu12==12.1.105 in /usr/local/lib/python3.10/dist-packages (from torch==2.2.0->xformers>=0.0.24->mistral_inference) (12.1.105)\n",
            "Requirement already satisfied: nvidia-cuda-cupti-cu12==12.1.105 in /usr/local/lib/python3.10/dist-packages (from torch==2.2.0->xformers>=0.0.24->mistral_inference) (12.1.105)\n",
            "Requirement already satisfied: nvidia-cudnn-cu12==8.9.2.26 in /usr/local/lib/python3.10/dist-packages (from torch==2.2.0->xformers>=0.0.24->mistral_inference) (8.9.2.26)\n",
            "Requirement already satisfied: nvidia-cublas-cu12==12.1.3.1 in /usr/local/lib/python3.10/dist-packages (from torch==2.2.0->xformers>=0.0.24->mistral_inference) (12.1.3.1)\n",
            "Requirement already satisfied: nvidia-cufft-cu12==11.0.2.54 in /usr/local/lib/python3.10/dist-packages (from torch==2.2.0->xformers>=0.0.24->mistral_inference) (11.0.2.54)\n",
            "Requirement already satisfied: nvidia-curand-cu12==10.3.2.106 in /usr/local/lib/python3.10/dist-packages (from torch==2.2.0->xformers>=0.0.24->mistral_inference) (10.3.2.106)\n",
            "Requirement already satisfied: nvidia-cusolver-cu12==11.4.5.107 in /usr/local/lib/python3.10/dist-packages (from torch==2.2.0->xformers>=0.0.24->mistral_inference) (11.4.5.107)\n",
            "Requirement already satisfied: nvidia-cusparse-cu12==12.1.0.106 in /usr/local/lib/python3.10/dist-packages (from torch==2.2.0->xformers>=0.0.24->mistral_inference) (12.1.0.106)\n",
            "Requirement already satisfied: nvidia-nccl-cu12==2.19.3 in /usr/local/lib/python3.10/dist-packages (from torch==2.2.0->xformers>=0.0.24->mistral_inference) (2.19.3)\n",
            "Requirement already satisfied: nvidia-nvtx-cu12==12.1.105 in /usr/local/lib/python3.10/dist-packages (from torch==2.2.0->xformers>=0.0.24->mistral_inference) (12.1.105)\n",
            "Requirement already satisfied: triton==2.2.0 in /usr/local/lib/python3.10/dist-packages (from torch==2.2.0->xformers>=0.0.24->mistral_inference) (2.2.0)\n",
            "Requirement already satisfied: nvidia-nvjitlink-cu12 in /usr/local/lib/python3.10/dist-packages (from nvidia-cusolver-cu12==11.4.5.107->torch==2.2.0->xformers>=0.0.24->mistral_inference) (12.6.85)\n",
            "Requirement already satisfied: attrs>=22.2.0 in /usr/local/lib/python3.10/dist-packages (from jsonschema<5.0.0,>=4.21.1->mistral_common>=1.4.0->mistral_inference) (24.3.0)\n",
            "Requirement already satisfied: jsonschema-specifications>=2023.03.6 in /usr/local/lib/python3.10/dist-packages (from jsonschema<5.0.0,>=4.21.1->mistral_common>=1.4.0->mistral_inference) (2024.10.1)\n",
            "Requirement already satisfied: referencing>=0.28.4 in /usr/local/lib/python3.10/dist-packages (from jsonschema<5.0.0,>=4.21.1->mistral_common>=1.4.0->mistral_inference) (0.35.1)\n",
            "Requirement already satisfied: rpds-py>=0.7.1 in /usr/local/lib/python3.10/dist-packages (from jsonschema<5.0.0,>=4.21.1->mistral_common>=1.4.0->mistral_inference) (0.22.3)\n",
            "Requirement already satisfied: annotated-types>=0.6.0 in /usr/local/lib/python3.10/dist-packages (from pydantic<3.0.0,>=2.6.1->mistral_common>=1.4.0->mistral_inference) (0.7.0)\n",
            "Requirement already satisfied: pydantic-core==2.27.2 in /usr/local/lib/python3.10/dist-packages (from pydantic<3.0.0,>=2.6.1->mistral_common>=1.4.0->mistral_inference) (2.27.2)\n",
            "Requirement already satisfied: charset-normalizer<4,>=2 in /usr/local/lib/python3.10/dist-packages (from requests<3.0.0,>=2.0.0->mistral_common>=1.4.0->mistral_inference) (3.4.1)\n",
            "Requirement already satisfied: idna<4,>=2.5 in /usr/local/lib/python3.10/dist-packages (from requests<3.0.0,>=2.0.0->mistral_common>=1.4.0->mistral_inference) (3.10)\n",
            "Requirement already satisfied: urllib3<3,>=1.21.1 in /usr/local/lib/python3.10/dist-packages (from requests<3.0.0,>=2.0.0->mistral_common>=1.4.0->mistral_inference) (2.3.0)\n",
            "Requirement already satisfied: certifi>=2017.4.17 in /usr/local/lib/python3.10/dist-packages (from requests<3.0.0,>=2.0.0->mistral_common>=1.4.0->mistral_inference) (2024.12.14)\n",
            "Requirement already satisfied: regex>=2022.1.18 in /usr/local/lib/python3.10/dist-packages (from tiktoken<0.8.0,>=0.7.0->mistral_common>=1.4.0->mistral_inference) (2024.11.6)\n",
            "Requirement already satisfied: MarkupSafe>=2.0 in /usr/local/lib/python3.10/dist-packages (from jinja2->torch==2.2.0->xformers>=0.0.24->mistral_inference) (3.0.2)\n",
            "Requirement already satisfied: mpmath<1.4,>=1.1.0 in /usr/local/lib/python3.10/dist-packages (from sympy->torch==2.2.0->xformers>=0.0.24->mistral_inference) (1.3.0)\n"
          ]
        }
      ]
    },
    {
      "cell_type": "code",
      "source": [
        "!git clone https://github.com/mistralai/mistral_inference.git\n",
        "!cd mistral_inference && pip install ."
      ],
      "metadata": {
        "colab": {
          "base_uri": "https://localhost:8080/"
        },
        "id": "Py3sF5Wonk3G",
        "outputId": "5c457e10-a829-4849-bd6d-b4cd754f5a81"
      },
      "execution_count": null,
      "outputs": [
        {
          "output_type": "stream",
          "name": "stdout",
          "text": [
            "Cloning into 'mistral_inference'...\n",
            "fatal: could not read Username for 'https://github.com': No such device or address\n",
            "/bin/bash: line 1: cd: mistral_inference: No such file or directory\n"
          ]
        }
      ]
    },
    {
      "cell_type": "code",
      "source": [
        "from mistral_inference.model import Transformer\n",
        "from mistral_inference.generate import generate\n",
        "\n",
        "from mistral_common.tokens.tokenizers.mistral import MistralTokenizer\n",
        "from mistral_common.protocol.instruct.messages import UserMessage\n",
        "from mistral_common.protocol.instruct.request import ChatCompletionRequest\n",
        "\n",
        "\n",
        "tokenizer = MistralTokenizer.from_file(\"/content/mistral_models/tokenizer.model.v3\")  # change to extracted tokenizer file\n",
        "model = Transformer.from_folder(\"/content/mistral_models\")  # change to extracted model dir\n",
        "model.load_lora(\"/content/test_ultra/checkpoints/checkpoint_000100/consolidated/lora.safetensors\")\n",
        "\n",
        "completion_request = ChatCompletionRequest(messages=[UserMessage(content=\"Explain Machine Learning to me in a nutshell.\")])\n",
        "\n",
        "tokens = tokenizer.encode_chat_completion(completion_request).tokens\n",
        "\n",
        "out_tokens, _ = generate([tokens], model, max_tokens=64, temperature=0.0, eos_id=tokenizer.instruct_tokenizer.tokenizer.eos_id)\n",
        "result = tokenizer.instruct_tokenizer.tokenizer.decode(out_tokens[0])\n",
        "\n",
        "print(result)"
      ],
      "metadata": {
        "colab": {
          "base_uri": "https://localhost:8080/",
          "height": 411
        },
        "id": "p1cWy_zum-_z",
        "outputId": "136c3004-e33a-4cab-ff10-ffc29293c8ae"
      },
      "execution_count": null,
      "outputs": [
        {
          "output_type": "error",
          "ename": "ImportError",
          "evalue": "cannot import name 'Transformer' from 'mistral_inference.model' (/usr/local/lib/python3.10/dist-packages/mistral_inference/model.py)",
          "traceback": [
            "\u001b[0;31m---------------------------------------------------------------------------\u001b[0m",
            "\u001b[0;31mImportError\u001b[0m                               Traceback (most recent call last)",
            "\u001b[0;32m<ipython-input-49-cb9d41841420>\u001b[0m in \u001b[0;36m<cell line: 1>\u001b[0;34m()\u001b[0m\n\u001b[0;32m----> 1\u001b[0;31m \u001b[0;32mfrom\u001b[0m \u001b[0mmistral_inference\u001b[0m\u001b[0;34m.\u001b[0m\u001b[0mmodel\u001b[0m \u001b[0;32mimport\u001b[0m \u001b[0mTransformer\u001b[0m\u001b[0;34m\u001b[0m\u001b[0;34m\u001b[0m\u001b[0m\n\u001b[0m\u001b[1;32m      2\u001b[0m \u001b[0;32mfrom\u001b[0m \u001b[0mmistral_inference\u001b[0m\u001b[0;34m.\u001b[0m\u001b[0mgenerate\u001b[0m \u001b[0;32mimport\u001b[0m \u001b[0mgenerate\u001b[0m\u001b[0;34m\u001b[0m\u001b[0;34m\u001b[0m\u001b[0m\n\u001b[1;32m      3\u001b[0m \u001b[0;34m\u001b[0m\u001b[0m\n\u001b[1;32m      4\u001b[0m \u001b[0;32mfrom\u001b[0m \u001b[0mmistral_common\u001b[0m\u001b[0;34m.\u001b[0m\u001b[0mtokens\u001b[0m\u001b[0;34m.\u001b[0m\u001b[0mtokenizers\u001b[0m\u001b[0;34m.\u001b[0m\u001b[0mmistral\u001b[0m \u001b[0;32mimport\u001b[0m \u001b[0mMistralTokenizer\u001b[0m\u001b[0;34m\u001b[0m\u001b[0;34m\u001b[0m\u001b[0m\n\u001b[1;32m      5\u001b[0m \u001b[0;32mfrom\u001b[0m \u001b[0mmistral_common\u001b[0m\u001b[0;34m.\u001b[0m\u001b[0mprotocol\u001b[0m\u001b[0;34m.\u001b[0m\u001b[0minstruct\u001b[0m\u001b[0;34m.\u001b[0m\u001b[0mmessages\u001b[0m \u001b[0;32mimport\u001b[0m \u001b[0mUserMessage\u001b[0m\u001b[0;34m\u001b[0m\u001b[0;34m\u001b[0m\u001b[0m\n",
            "\u001b[0;31mImportError\u001b[0m: cannot import name 'Transformer' from 'mistral_inference.model' (/usr/local/lib/python3.10/dist-packages/mistral_inference/model.py)",
            "",
            "\u001b[0;31m---------------------------------------------------------------------------\u001b[0;32m\nNOTE: If your import is failing due to a missing package, you can\nmanually install dependencies using either !pip or !apt.\n\nTo view examples of installing some common dependencies, click the\n\"Open Examples\" button below.\n\u001b[0;31m---------------------------------------------------------------------------\u001b[0m\n"
          ],
          "errorDetails": {
            "actions": [
              {
                "action": "open_url",
                "actionText": "Open Examples",
                "url": "/notebooks/snippets/importing_libraries.ipynb"
              }
            ]
          }
        }
      ]
    },
    {
      "cell_type": "code",
      "source": [
        "# prompt: goodbye banner\n",
        "\n",
        "# Define a goodbye banner function\n",
        "def display_goodbye_banner():\n",
        "    print(\"\\n\")\n",
        "    print(\"**************************************************\")\n",
        "    print(\"*                                                *\")\n",
        "    print(\"*               Goodbye! Exiting...              *\")\n",
        "    print(\"*                                                *\")\n",
        "    print(\"**************************************************\")\n",
        "    print(\"\\n\")\n",
        "\n",
        "# Call the function when you want to display the banner\n",
        "display_goodbye_banner()"
      ],
      "metadata": {
        "id": "Vd8A8JP4Fx3C",
        "colab": {
          "base_uri": "https://localhost:8080/"
        },
        "outputId": "a4ac2ec5-1e7b-461b-a16f-7904a06727ab"
      },
      "execution_count": null,
      "outputs": [
        {
          "output_type": "stream",
          "name": "stdout",
          "text": [
            "\n",
            "\n",
            "**************************************************\n",
            "*                                                *\n",
            "*               Goodbye! Exiting...              *\n",
            "*                                                *\n",
            "**************************************************\n",
            "\n",
            "\n"
          ]
        }
      ]
    }
  ]
}